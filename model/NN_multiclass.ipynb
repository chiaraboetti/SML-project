{
 "cells": [
  {
   "cell_type": "code",
   "execution_count": 89,
   "metadata": {},
   "outputs": [],
   "source": [
    "import keras\n",
    "import pandas as pd\n",
    "import matplotlib.pyplot as plt\n",
    "import numpy as np\n",
    "from keras.models import Sequential\n",
    "from keras.layers import Dense, Activation, Dropout\n",
    "from keras.callbacks import EarlyStopping, ModelCheckpoint"
   ]
  },
  {
   "cell_type": "markdown",
   "metadata": {},
   "source": [
    "PROVIAMO IL NOSTRO DATASET"
   ]
  },
  {
   "cell_type": "code",
   "execution_count": 4,
   "metadata": {
    "collapsed": true
   },
   "outputs": [],
   "source": [
    "multiclass_test = pd.read_csv(r'C:\\Users\\Fra\\Documents\\SDS\\SML\\DATASET PROGETTO\\multiclass_test.csv',header= 0)\n",
    "multiclass_training = pd.read_csv(r'C:\\Users\\Fra\\Documents\\SDS\\SML\\DATASET PROGETTO\\multiclass_training.csv', header= 0)"
   ]
  },
  {
   "cell_type": "code",
   "execution_count": null,
   "metadata": {
    "collapsed": true
   },
   "outputs": [],
   "source": [
    "#y_test"
   ]
  },
  {
   "cell_type": "code",
   "execution_count": 134,
   "metadata": {},
   "outputs": [],
   "source": [
    "y_test = pd.get_dummies(multiclass_test, columns = ['label']).iloc[:,17395:17405]\n",
    "x_train = np.array(multiclass_training.drop(['label','Unnamed: 0','DepMap_ID'], axis = 1))\n",
    "y_train = pd.get_dummies(multiclass_training, columns = ['label']).iloc[:,17395:17405]\n",
    "x_test = np.array(multiclass_test.drop(['label','DepMap_ID','Unnamed: 0'], axis = 1))\n"
   ]
  },
  {
   "cell_type": "code",
   "execution_count": 56,
   "metadata": {},
   "outputs": [],
   "source": [
    "\n",
    "x_train_reshaped = x_train.reshape(817,17393)\n",
    "x_test_reshaped = x_test.reshape(205,17393)"
   ]
  },
  {
   "cell_type": "code",
   "execution_count": 74,
   "metadata": {
    "collapsed": true
   },
   "outputs": [
    {
     "data": {
      "text/plain": [
       "(205, 17393)"
      ]
     },
     "execution_count": 74,
     "metadata": {},
     "output_type": "execute_result"
    }
   ],
   "source": [
    "#np.shape(x_test_reshaped)"
   ]
  },
  {
   "cell_type": "markdown",
   "metadata": {},
   "source": [
    "PRIMO MODELLO"
   ]
  },
  {
   "cell_type": "code",
   "execution_count": 94,
   "metadata": {},
   "outputs": [
    {
     "name": "stdout",
     "output_type": "stream",
     "text": [
      "Epoch 1/30\n",
      "25/26 [===========================>..] - ETA: 0s - loss: 3.0643 - accuracy: 0.2175\n",
      "Epoch 00001: saving model to best_model.hdf5\n",
      "26/26 [==============================] - 1s 22ms/step - loss: 3.0395 - accuracy: 0.2203 - val_loss: 1.9617 - val_accuracy: 0.3024\n",
      "Epoch 2/30\n",
      "22/26 [========================>.....] - ETA: 0s - loss: 1.8724 - accuracy: 0.3892\n",
      "Epoch 00002: saving model to best_model.hdf5\n",
      "26/26 [==============================] - 0s 16ms/step - loss: 1.8370 - accuracy: 0.4039 - val_loss: 1.7956 - val_accuracy: 0.3317\n",
      "Epoch 3/30\n",
      "25/26 [===========================>..] - ETA: 0s - loss: 1.5421 - accuracy: 0.4787\n",
      "Epoch 00003: saving model to best_model.hdf5\n",
      "26/26 [==============================] - 0s 17ms/step - loss: 1.5368 - accuracy: 0.4810 - val_loss: 1.7746 - val_accuracy: 0.3268\n",
      "Epoch 4/30\n",
      "23/26 [=========================>....] - ETA: 0s - loss: 1.4143 - accuracy: 0.5421\n",
      "Epoch 00004: saving model to best_model.hdf5\n",
      "26/26 [==============================] - 0s 16ms/step - loss: 1.3965 - accuracy: 0.5471 - val_loss: 1.5807 - val_accuracy: 0.4293\n",
      "Epoch 5/30\n",
      "25/26 [===========================>..] - ETA: 0s - loss: 1.1567 - accuracy: 0.6825\n",
      "Epoch 00005: saving model to best_model.hdf5\n",
      "26/26 [==============================] - 0s 18ms/step - loss: 1.1493 - accuracy: 0.6842 - val_loss: 1.5098 - val_accuracy: 0.4098\n",
      "Epoch 6/30\n",
      "25/26 [===========================>..] - ETA: 0s - loss: 0.9958 - accuracy: 0.7250\n",
      "Epoch 00006: saving model to best_model.hdf5\n",
      "26/26 [==============================] - 0s 17ms/step - loss: 0.9945 - accuracy: 0.7271 - val_loss: 1.3953 - val_accuracy: 0.4780\n",
      "Epoch 7/30\n",
      "23/26 [=========================>....] - ETA: 0s - loss: 0.8398 - accuracy: 0.8193\n",
      "Epoch 00007: saving model to best_model.hdf5\n",
      "26/26 [==============================] - 0s 16ms/step - loss: 0.8294 - accuracy: 0.8274 - val_loss: 1.3562 - val_accuracy: 0.5512\n",
      "Epoch 8/30\n",
      "25/26 [===========================>..] - ETA: 0s - loss: 0.7421 - accuracy: 0.8225\n",
      "Epoch 00008: saving model to best_model.hdf5\n",
      "26/26 [==============================] - 0s 17ms/step - loss: 0.7470 - accuracy: 0.8188 - val_loss: 1.2174 - val_accuracy: 0.6244\n",
      "Epoch 9/30\n",
      "24/26 [==========================>...] - ETA: 0s - loss: 0.6362 - accuracy: 0.8607\n",
      "Epoch 00009: saving model to best_model.hdf5\n",
      "26/26 [==============================] - 0s 16ms/step - loss: 0.6281 - accuracy: 0.8654 - val_loss: 1.2785 - val_accuracy: 0.5268\n",
      "Epoch 10/30\n",
      "26/26 [==============================] - ETA: 0s - loss: 0.5103 - accuracy: 0.9290\n",
      "Epoch 00010: saving model to best_model.hdf5\n",
      "26/26 [==============================] - 0s 17ms/step - loss: 0.5103 - accuracy: 0.9290 - val_loss: 1.2318 - val_accuracy: 0.5561\n",
      "Epoch 11/30\n",
      "23/26 [=========================>....] - ETA: 0s - loss: 0.4622 - accuracy: 0.9130\n",
      "Epoch 00011: saving model to best_model.hdf5\n",
      "26/26 [==============================] - 0s 16ms/step - loss: 0.4638 - accuracy: 0.9155 - val_loss: 1.1730 - val_accuracy: 0.6537\n",
      "Epoch 12/30\n",
      "24/26 [==========================>...] - ETA: 0s - loss: 0.3761 - accuracy: 0.9596\n",
      "Epoch 00012: saving model to best_model.hdf5\n",
      "26/26 [==============================] - 0s 16ms/step - loss: 0.3712 - accuracy: 0.9621 - val_loss: 1.1765 - val_accuracy: 0.6049\n",
      "Epoch 13/30\n",
      "25/26 [===========================>..] - ETA: 0s - loss: 0.3111 - accuracy: 0.9688\n",
      "Epoch 00013: saving model to best_model.hdf5\n",
      "26/26 [==============================] - 0s 17ms/step - loss: 0.3085 - accuracy: 0.9694 - val_loss: 1.1019 - val_accuracy: 0.6488\n",
      "Epoch 14/30\n",
      "23/26 [=========================>....] - ETA: 0s - loss: 0.2582 - accuracy: 0.9823\n",
      "Epoch 00014: saving model to best_model.hdf5\n",
      "26/26 [==============================] - 0s 16ms/step - loss: 0.2610 - accuracy: 0.9829 - val_loss: 1.1628 - val_accuracy: 0.6244\n",
      "Epoch 15/30\n",
      "25/26 [===========================>..] - ETA: 0s - loss: 0.2261 - accuracy: 0.9875\n",
      "Epoch 00015: saving model to best_model.hdf5\n",
      "26/26 [==============================] - 0s 18ms/step - loss: 0.2249 - accuracy: 0.9878 - val_loss: 1.1076 - val_accuracy: 0.6146\n",
      "Epoch 16/30\n",
      "25/26 [===========================>..] - ETA: 0s - loss: 0.1841 - accuracy: 0.9912\n",
      "Epoch 00016: saving model to best_model.hdf5\n",
      "26/26 [==============================] - 0s 17ms/step - loss: 0.1835 - accuracy: 0.9902 - val_loss: 1.0880 - val_accuracy: 0.6244\n"
     ]
    }
   ],
   "source": [
    "model = Sequential()\n",
    "\n",
    "model.add(Dense(200, input_shape=(17393,)))\n",
    "model.add(Activation('relu'))\n",
    "#model.add(Dropout(0.25))\n",
    "\n",
    "\n",
    "model.add(Dense(10))\n",
    "model.add(Activation('softmax'))\n",
    "#categorical_crossentropy loss per classificazione (penalizza molto le previsioni che sono sbagliate ma con alta probabilità)\n",
    "\n",
    "model.compile(optimizer = 'adam', loss = 'categorical_crossentropy', metrics=['accuracy']) #ottimizzatore che usa stochastic gradient , errore assoluto medio\n",
    "\n",
    "early_stopping_monitor = EarlyStopping(patience= 5, monitor = 'val_accuracy')\n",
    "\n",
    "model_chekpoint_callback = ModelCheckpoint(filepath='best_model.hdf5',\n",
    "                                           monitor = 'val_accuracy',\n",
    "                                           mode = 'auto',\n",
    "                                           verbose=1)\n",
    "\n",
    "hystory = model.fit(x_train_reshaped, y_train,\n",
    "         validation_data = (x_test_reshaped,y_test),\n",
    "                    epochs =30,\n",
    "                   callbacks = (early_stopping_monitor,model_chekpoint_callback))\n",
    "\n",
    "#in multiclass possiamo aggiungere la softmax come activation function in modo da aumentare la probabilità che solo\n",
    "#un nodo di uscita venga scelto ogni volta\n",
    "#se per caso due possibili risultati sono anche parzialmente sovrapponibili si usa come activation function sigmoid"
   ]
  },
  {
   "cell_type": "markdown",
   "metadata": {},
   "source": [
    "SECONDO MODELLO: \n",
    "\n",
    "aggiungiamo un layer e raddoppiamo i nodi per layer\n",
    "\n",
    "aumentiamo il numero di epoche quando aggiungiamo un layer"
   ]
  },
  {
   "cell_type": "code",
   "execution_count": 121,
   "metadata": {},
   "outputs": [
    {
     "name": "stdout",
     "output_type": "stream",
     "text": [
      "Epoch 1/30\n",
      "26/26 [==============================] - ETA: 0s - loss: 3.4897 - accuracy: 0.1750\n",
      "Epoch 00001: val_accuracy improved from -inf to 0.31220, saving model to best_model.hdf5\n",
      "26/26 [==============================] - 3s 88ms/step - loss: 3.4897 - accuracy: 0.1750 - val_loss: 2.2167 - val_accuracy: 0.3122\n",
      "Epoch 2/30\n",
      "26/26 [==============================] - ETA: 0s - loss: 2.0731 - accuracy: 0.2889\n",
      "Epoch 00002: val_accuracy improved from 0.31220 to 0.32683, saving model to best_model.hdf5\n",
      "26/26 [==============================] - 2s 85ms/step - loss: 2.0731 - accuracy: 0.2889 - val_loss: 1.9112 - val_accuracy: 0.3268\n",
      "Epoch 3/30\n",
      "26/26 [==============================] - ETA: 0s - loss: 1.7977 - accuracy: 0.3733\n",
      "Epoch 00003: val_accuracy improved from 0.32683 to 0.48293, saving model to best_model.hdf5\n",
      "26/26 [==============================] - 2s 84ms/step - loss: 1.7977 - accuracy: 0.3733 - val_loss: 1.6390 - val_accuracy: 0.4829\n",
      "Epoch 4/30\n",
      "26/26 [==============================] - ETA: 0s - loss: 1.5767 - accuracy: 0.4333\n",
      "Epoch 00004: val_accuracy did not improve from 0.48293\n",
      "26/26 [==============================] - 2s 67ms/step - loss: 1.5767 - accuracy: 0.4333 - val_loss: 1.5641 - val_accuracy: 0.4195\n",
      "Epoch 5/30\n",
      "26/26 [==============================] - ETA: 0s - loss: 1.4385 - accuracy: 0.4969\n",
      "Epoch 00005: val_accuracy did not improve from 0.48293\n",
      "26/26 [==============================] - 2s 67ms/step - loss: 1.4385 - accuracy: 0.4969 - val_loss: 1.4600 - val_accuracy: 0.4829\n",
      "Epoch 6/30\n",
      "26/26 [==============================] - ETA: 0s - loss: 1.2085 - accuracy: 0.5643\n",
      "Epoch 00006: val_accuracy did not improve from 0.48293\n",
      "26/26 [==============================] - 2s 66ms/step - loss: 1.2085 - accuracy: 0.5643 - val_loss: 1.5953 - val_accuracy: 0.4098\n",
      "Epoch 7/30\n",
      "26/26 [==============================] - ETA: 0s - loss: 1.0726 - accuracy: 0.6377\n",
      "Epoch 00007: val_accuracy did not improve from 0.48293\n",
      "26/26 [==============================] - 2s 67ms/step - loss: 1.0726 - accuracy: 0.6377 - val_loss: 1.4804 - val_accuracy: 0.4634\n",
      "Epoch 8/30\n",
      "26/26 [==============================] - ETA: 0s - loss: 1.0334 - accuracy: 0.6328\n",
      "Epoch 00008: val_accuracy improved from 0.48293 to 0.52195, saving model to best_model.hdf5\n",
      "26/26 [==============================] - 2s 83ms/step - loss: 1.0334 - accuracy: 0.6328 - val_loss: 1.4100 - val_accuracy: 0.5220\n",
      "Epoch 9/30\n",
      "26/26 [==============================] - ETA: 0s - loss: 0.9620 - accuracy: 0.6475\n",
      "Epoch 00009: val_accuracy improved from 0.52195 to 0.54146, saving model to best_model.hdf5\n",
      "26/26 [==============================] - 2s 86ms/step - loss: 0.9620 - accuracy: 0.6475 - val_loss: 1.3314 - val_accuracy: 0.5415\n",
      "Epoch 10/30\n",
      "26/26 [==============================] - ETA: 0s - loss: 0.8907 - accuracy: 0.6805\n",
      "Epoch 00010: val_accuracy did not improve from 0.54146\n",
      "26/26 [==============================] - 2s 70ms/step - loss: 0.8907 - accuracy: 0.6805 - val_loss: 1.3330 - val_accuracy: 0.5366\n",
      "Epoch 11/30\n",
      "26/26 [==============================] - ETA: 0s - loss: 0.7103 - accuracy: 0.7466\n",
      "Epoch 00011: val_accuracy improved from 0.54146 to 0.55610, saving model to best_model.hdf5\n",
      "26/26 [==============================] - 2s 90ms/step - loss: 0.7103 - accuracy: 0.7466 - val_loss: 1.3218 - val_accuracy: 0.5561\n",
      "Epoch 12/30\n",
      "26/26 [==============================] - ETA: 0s - loss: 0.6408 - accuracy: 0.7662\n",
      "Epoch 00012: val_accuracy improved from 0.55610 to 0.61951, saving model to best_model.hdf5\n",
      "26/26 [==============================] - 2s 86ms/step - loss: 0.6408 - accuracy: 0.7662 - val_loss: 1.2023 - val_accuracy: 0.6195\n",
      "Epoch 13/30\n",
      "26/26 [==============================] - ETA: 0s - loss: 0.6288 - accuracy: 0.7797\n",
      "Epoch 00013: val_accuracy did not improve from 0.61951\n",
      "26/26 [==============================] - 2s 67ms/step - loss: 0.6288 - accuracy: 0.7797 - val_loss: 1.3218 - val_accuracy: 0.5561\n",
      "Epoch 14/30\n",
      "26/26 [==============================] - ETA: 0s - loss: 0.5647 - accuracy: 0.7993\n",
      "Epoch 00014: val_accuracy did not improve from 0.61951\n",
      "26/26 [==============================] - 2s 73ms/step - loss: 0.5647 - accuracy: 0.7993 - val_loss: 1.2091 - val_accuracy: 0.6146\n",
      "Epoch 15/30\n",
      "26/26 [==============================] - ETA: 0s - loss: 0.4656 - accuracy: 0.8384\n",
      "Epoch 00015: val_accuracy improved from 0.61951 to 0.62927, saving model to best_model.hdf5\n",
      "26/26 [==============================] - 2s 89ms/step - loss: 0.4656 - accuracy: 0.8384 - val_loss: 1.1195 - val_accuracy: 0.6293\n",
      "Epoch 16/30\n",
      "26/26 [==============================] - ETA: 0s - loss: 0.4716 - accuracy: 0.8299\n",
      "Epoch 00016: val_accuracy did not improve from 0.62927\n",
      "26/26 [==============================] - 2s 66ms/step - loss: 0.4716 - accuracy: 0.8299 - val_loss: 1.1946 - val_accuracy: 0.6049\n",
      "Epoch 17/30\n",
      "26/26 [==============================] - ETA: 0s - loss: 0.4829 - accuracy: 0.8384\n",
      "Epoch 00017: val_accuracy did not improve from 0.62927\n",
      "26/26 [==============================] - 2s 64ms/step - loss: 0.4829 - accuracy: 0.8384 - val_loss: 1.2226 - val_accuracy: 0.6098\n",
      "Epoch 18/30\n",
      "26/26 [==============================] - ETA: 0s - loss: 0.4534 - accuracy: 0.8421\n",
      "Epoch 00018: val_accuracy improved from 0.62927 to 0.64390, saving model to best_model.hdf5\n",
      "26/26 [==============================] - 2s 83ms/step - loss: 0.4534 - accuracy: 0.8421 - val_loss: 1.1059 - val_accuracy: 0.6439\n",
      "Epoch 19/30\n",
      "26/26 [==============================] - ETA: 0s - loss: 0.3495 - accuracy: 0.8898\n",
      "Epoch 00019: val_accuracy improved from 0.64390 to 0.66341, saving model to best_model.hdf5\n",
      "26/26 [==============================] - 2s 87ms/step - loss: 0.3495 - accuracy: 0.8898 - val_loss: 1.1001 - val_accuracy: 0.6634\n",
      "Epoch 20/30\n",
      "26/26 [==============================] - ETA: 0s - loss: 0.3178 - accuracy: 0.8947\n",
      "Epoch 00020: val_accuracy did not improve from 0.66341\n",
      "26/26 [==============================] - 2s 66ms/step - loss: 0.3178 - accuracy: 0.8947 - val_loss: 1.2839 - val_accuracy: 0.6146\n",
      "Epoch 21/30\n",
      "26/26 [==============================] - ETA: 0s - loss: 0.3937 - accuracy: 0.8654\n",
      "Epoch 00021: val_accuracy did not improve from 0.66341\n",
      "26/26 [==============================] - 2s 65ms/step - loss: 0.3937 - accuracy: 0.8654 - val_loss: 1.5842 - val_accuracy: 0.5512\n",
      "Epoch 22/30\n",
      "26/26 [==============================] - ETA: 0s - loss: 0.4595 - accuracy: 0.8286\n",
      "Epoch 00022: val_accuracy did not improve from 0.66341\n",
      "26/26 [==============================] - 2s 64ms/step - loss: 0.4595 - accuracy: 0.8286 - val_loss: 1.5111 - val_accuracy: 0.5268\n",
      "Epoch 23/30\n",
      "26/26 [==============================] - ETA: 0s - loss: 0.4564 - accuracy: 0.8360\n",
      "Epoch 00023: val_accuracy did not improve from 0.66341\n",
      "26/26 [==============================] - 2s 66ms/step - loss: 0.4564 - accuracy: 0.8360 - val_loss: 1.4227 - val_accuracy: 0.5073\n",
      "Epoch 24/30\n",
      "26/26 [==============================] - ETA: 0s - loss: 0.4892 - accuracy: 0.8176\n",
      "Epoch 00024: val_accuracy did not improve from 0.66341\n",
      "26/26 [==============================] - 2s 67ms/step - loss: 0.4892 - accuracy: 0.8176 - val_loss: 1.5297 - val_accuracy: 0.5756\n",
      "Epoch 25/30\n",
      "26/26 [==============================] - ETA: 0s - loss: 0.3829 - accuracy: 0.8605\n",
      "Epoch 00025: val_accuracy did not improve from 0.66341\n",
      "26/26 [==============================] - 2s 67ms/step - loss: 0.3829 - accuracy: 0.8605 - val_loss: 1.5879 - val_accuracy: 0.5707\n",
      "Epoch 26/30\n",
      "26/26 [==============================] - ETA: 0s - loss: 0.4125 - accuracy: 0.8348 ETA: 0s - loss: 0.4298 - accuracy: 0.83 - ETA: 0s - loss: 0\n",
      "Epoch 00026: val_accuracy did not improve from 0.66341\n",
      "26/26 [==============================] - 2s 69ms/step - loss: 0.4125 - accuracy: 0.8348 - val_loss: 1.5171 - val_accuracy: 0.5707\n",
      "Epoch 27/30\n",
      "26/26 [==============================] - ETA: 0s - loss: 0.3809 - accuracy: 0.8580\n",
      "Epoch 00027: val_accuracy did not improve from 0.66341\n",
      "26/26 [==============================] - 2s 71ms/step - loss: 0.3809 - accuracy: 0.8580 - val_loss: 1.1355 - val_accuracy: 0.6634\n",
      "Epoch 28/30\n",
      "26/26 [==============================] - ETA: 0s - loss: 0.3762 - accuracy: 0.8580\n",
      "Epoch 00028: val_accuracy did not improve from 0.66341\n",
      "26/26 [==============================] - 2s 71ms/step - loss: 0.3762 - accuracy: 0.8580 - val_loss: 1.4103 - val_accuracy: 0.5415\n",
      "Epoch 29/30\n",
      "26/26 [==============================] - ETA: 0s - loss: 0.4042 - accuracy: 0.8409\n",
      "Epoch 00029: val_accuracy did not improve from 0.66341\n",
      "26/26 [==============================] - 2s 67ms/step - loss: 0.4042 - accuracy: 0.8409 - val_loss: 1.6530 - val_accuracy: 0.5415\n",
      "Epoch 30/30\n",
      "26/26 [==============================] - ETA: 0s - loss: 0.3105 - accuracy: 0.8862\n",
      "Epoch 00030: val_accuracy did not improve from 0.66341\n",
      "26/26 [==============================] - 2s 67ms/step - loss: 0.3105 - accuracy: 0.8862 - val_loss: 1.3625 - val_accuracy: 0.6195\n"
     ]
    }
   ],
   "source": [
    "model = Sequential()\n",
    "\n",
    "#1°layer\n",
    "model.add(Dense(1000, input_shape=(17393,)))\n",
    "model.add(Activation('relu'))\n",
    "model.add(Dropout(0.25))\n",
    "\n",
    "#2°layer\n",
    "model.add(Dense(1000))\n",
    "model.add(Activation('relu'))\n",
    "model.add(Dropout(0.2))\n",
    "\n",
    "#3°layer\n",
    "model.add(Dense(10))\n",
    "model.add(Activation('softmax'))\n",
    "\n",
    "#categorical_crossentropy loss per classificazione (penalizza molto le previsioni che sono sbagliate ma con alta probabilità)\n",
    "model.compile(optimizer = 'adam', loss = 'categorical_crossentropy', metrics=['accuracy']) #ottimizzatore che usa stochastic gradient , errore assoluto medio\n",
    "\n",
    "early_stopping_monitor = EarlyStopping(patience= 15, monitor = 'val_accuracy')\n",
    "\n",
    "model_chekpoint_callback = ModelCheckpoint(filepath='best_model.hdf5',\n",
    "                                           monitor = 'val_accuracy',\n",
    "                                           mode = 'auto',\n",
    "                                           save_best_only=True,\n",
    "                                           verbose=1)\n",
    "\n",
    "hystory = model.fit(x_train_reshaped, y_train,\n",
    "         validation_data = (x_test_reshaped,y_test),\n",
    "                    epochs =30,\n",
    "                   callbacks = (early_stopping_monitor,model_chekpoint_callback))\n"
   ]
  },
  {
   "cell_type": "code",
   "execution_count": 122,
   "metadata": {},
   "outputs": [],
   "source": [
    "#To predict only the best model\n",
    "\n",
    "from keras.models import load_model\n",
    "\n",
    "best_model = load_model('best_model.hdf5')\n",
    "y_pred = np.argmax(best_model.predict(x_test_reshaped),axis = 1)\n",
    "y_pred = pd.get_dummies(y_pred)"
   ]
  },
  {
   "cell_type": "code",
   "execution_count": 138,
   "metadata": {
    "collapsed": true
   },
   "outputs": [],
   "source": [
    "#Create the vectors that contains the Cancers chosen (Cancer_Type2) and the one observed (Cancer_Type)\n",
    "\n",
    "Cancer_Type = [\"Gastrointestinal\",\"Genitals\",\"Muscle-Bone\",\"Neuro\",\"Breast\",\"Head_Neck\",\"Blood\",\"Urinario\",\"Lung\"]\n",
    "Cancer_Type2 = [\"Others\",\"Gastrointestinal\",\"Genitals\",\"Muscle-Bone\",\"Neuro\",\"Breast\",\"Head_Neck\",\"Blood\",\"Urinario\",\"Lung\"]\n",
    "\n",
    "y_test_new = y_test.drop(['label_0'],axis = 1) #because in the prediction Others doesn't show up\n"
   ]
  },
  {
   "cell_type": "code",
   "execution_count": 139,
   "metadata": {},
   "outputs": [],
   "source": [
    "#Change the name of the coloumns of the class matrix created through get_dummies using more meaningful names\n",
    "\n",
    "y_test_new = y_test_new.set_axis(Cancer_Type, axis = 1)\n",
    "y_pred_new = y_pred.set_axis(Cancer_Type, axis= 1)\n",
    "y_train_new =  y_train.set_axis(Cancer_Type2, axis= 1)\n",
    "y_test_new2 = y_test.set_axis(Cancer_Type2, axis = 1)"
   ]
  },
  {
   "cell_type": "code",
   "execution_count": 141,
   "metadata": {
    "collapsed": true
   },
   "outputs": [
    {
     "data": {
      "text/plain": [
       "Gastrointestinal    46\n",
       "Genitals            22\n",
       "Muscle-Bone         21\n",
       "Neuro               31\n",
       "Breast               7\n",
       "Head_Neck           14\n",
       "Blood               19\n",
       "Urinario            12\n",
       "Lung                30\n",
       "dtype: int64"
      ]
     },
     "execution_count": 141,
     "metadata": {},
     "output_type": "execute_result"
    }
   ],
   "source": [
    "#To observe the distribution of the observation w.r.t. CancerType\n",
    "\n",
    "#y_train_new.sum() \n",
    "#y_test_new2.sum()"
   ]
  },
  {
   "cell_type": "code",
   "execution_count": null,
   "metadata": {},
   "outputs": [],
   "source": []
  },
  {
   "cell_type": "code",
   "execution_count": 107,
   "metadata": {},
   "outputs": [
    {
     "data": {
      "text/plain": [
       "array([[[140,  19],\n",
       "        [  8,  38]],\n",
       "\n",
       "       [[172,  11],\n",
       "        [  9,  13]],\n",
       "\n",
       "       [[178,   6],\n",
       "        [  7,  14]],\n",
       "\n",
       "       [[153,  21],\n",
       "        [  4,  27]],\n",
       "\n",
       "       [[198,   0],\n",
       "        [  2,   5]],\n",
       "\n",
       "       [[188,   3],\n",
       "        [  6,   8]],\n",
       "\n",
       "       [[185,   1],\n",
       "        [  0,  19]],\n",
       "\n",
       "       [[191,   2],\n",
       "        [  8,   4]],\n",
       "\n",
       "       [[170,   5],\n",
       "        [ 21,   9]]], dtype=int64)"
      ]
     },
     "execution_count": 107,
     "metadata": {},
     "output_type": "execute_result"
    }
   ],
   "source": [
    "from sklearn.metrics import multilabel_confusion_matrix\n",
    "multilabel_confusion_matrix(y_test_new, y_pred_new)"
   ]
  },
  {
   "cell_type": "code",
   "execution_count": 119,
   "metadata": {},
   "outputs": [
    {
     "data": {
      "text/plain": [
       "array([0, 1, 2, 3, 4, 5, 6, 7, 8, 9], dtype=int64)"
      ]
     },
     "execution_count": 119,
     "metadata": {},
     "output_type": "execute_result"
    }
   ],
   "source": [
    "y_pred = np.argmax(best_model.predict(x_test_reshaped),axis = 1)\n",
    "y_test_confusion = multiclass_test.iloc[:,17395]\n",
    "np.unique(y_test_confusion)"
   ]
  },
  {
   "cell_type": "code",
   "execution_count": 117,
   "metadata": {},
   "outputs": [
    {
     "data": {
      "text/plain": [
       "array([[ 0,  0,  0,  2,  1,  0,  0,  0,  0,  0],\n",
       "       [ 0, 38,  3,  1,  3,  0,  1,  0,  0,  0],\n",
       "       [ 0,  3, 13,  0,  3,  0,  0,  0,  1,  2],\n",
       "       [ 0,  1,  1, 14,  4,  0,  1,  0,  0,  0],\n",
       "       [ 0,  0,  2,  1, 27,  0,  0,  0,  0,  1],\n",
       "       [ 0,  0,  0,  0,  0,  5,  0,  0,  0,  2],\n",
       "       [ 0,  2,  1,  0,  3,  0,  8,  0,  0,  0],\n",
       "       [ 0,  0,  0,  0,  0,  0,  0, 19,  0,  0],\n",
       "       [ 0,  3,  2,  0,  2,  0,  0,  1,  4,  0],\n",
       "       [ 0, 10,  2,  2,  5,  0,  1,  0,  1,  9]], dtype=int64)"
      ]
     },
     "execution_count": 117,
     "metadata": {},
     "output_type": "execute_result"
    }
   ],
   "source": [
    "from sklearn.metrics import confusion_matrix\n",
    "confusion_matrix(y_test_confusion,y_pred)"
   ]
  },
  {
   "cell_type": "code",
   "execution_count": null,
   "metadata": {},
   "outputs": [],
   "source": [
    "Gastrointestinal == 1\n",
    "\n",
    "Genitals == 2\n",
    "\n",
    "Muscle-Bone == 3\n",
    "\n",
    "Neuro == 4\n",
    "\n",
    "Breast == 5\n",
    "\n",
    "Head_Neck == 6\n",
    "\n",
    "Blood == 7\n",
    "\n",
    "Urinario == 8\n",
    "\n",
    "Lung == 9\n",
    "\n",
    "Others == 0"
   ]
  },
  {
   "cell_type": "markdown",
   "metadata": {},
   "source": [
    "for multiclass\n",
    "\n",
    "def target_encode_multiclass(X,y): #X,y are pandas df and series   \n",
    "    y=y.astype(str)   #convert to string to onehot encode\n",
    "    enc=ce.OneHotEncoder().fit(y)\n",
    "    y_onehot=enc.transform(y)    \n",
    "    class_names=y_onehot.columns  #names of onehot encoded columns    X_obj=X.select_dtypes('object') #separate categorical columns\n",
    "    X=X.select_dtypes(exclude='object')     \n",
    "    for class_ in class_names:\n",
    "        enc=ce.TargetEncoder()\n",
    "        enc.fit(X_obj,y_onehot[class_]) #convert all categorical \n",
    "        temp=enc.transform(X_obj)       #columns for class_\n",
    "        temp.columns=[str(x)+'_'+str(class_) for x in temp.columns]\n",
    "        X=pd.concat([X,temp],axis=1)    #add to original dataset\n",
    "      \n",
    "    return X"
   ]
  },
  {
   "cell_type": "code",
   "execution_count": null,
   "metadata": {
    "collapsed": true
   },
   "outputs": [],
   "source": [
    "##for i in range(len(Cancer_Type)):\n",
    "  #  y_test = y_test.rename(columns={\"label_\" + str(i+1):Cancer_Type[i]}, errors= 'raise')"
   ]
  }
 ],
 "metadata": {
  "kernelspec": {
   "display_name": "Python 3",
   "language": "python",
   "name": "python3"
  },
  "language_info": {
   "codemirror_mode": {
    "name": "ipython",
    "version": 3
   },
   "file_extension": ".py",
   "mimetype": "text/x-python",
   "name": "python",
   "nbconvert_exporter": "python",
   "pygments_lexer": "ipython3",
   "version": "3.8.5"
  }
 },
 "nbformat": 4,
 "nbformat_minor": 4
}
