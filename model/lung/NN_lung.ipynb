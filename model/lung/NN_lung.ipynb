{
 "cells": [
  {
   "cell_type": "markdown",
   "metadata": {},
   "source": [
    "# Classification and Feature Selection -- Neural Networks\n",
    "We use Neural Networks for our binary classification of Lung Cancer."
   ]
  },
  {
   "cell_type": "code",
   "execution_count": 1,
   "metadata": {},
   "outputs": [],
   "source": [
    "import tensorflow as tf\n",
    "from tensorflow import keras\n",
    "from tensorflow.keras.activations import elu\n",
    "from keras import backend as K\n",
    "from keras.wrappers.scikit_learn import KerasClassifier, KerasRegressor\n",
    "from focal_loss import BinaryFocalLoss\n",
    "import pandas as pd\n",
    "from imblearn.over_sampling import SMOTE\n",
    "from imblearn.under_sampling import RandomUnderSampler\n",
    "from sklearn.model_selection import train_test_split\n",
    "from sklearn.metrics import accuracy_score, confusion_matrix, precision_score, recall_score, roc_auc_score, roc_curve\n",
    "import numpy as np\n",
    "import matplotlib.pyplot as plt"
   ]
  },
  {
   "cell_type": "markdown",
   "metadata": {},
   "source": [
    "### 1. Import the dataset"
   ]
  },
  {
   "cell_type": "code",
   "execution_count": 2,
   "metadata": {},
   "outputs": [],
   "source": [
    "lung = pd.read_csv(\"dataset/lung_dataset.csv\")"
   ]
  },
  {
   "cell_type": "code",
   "execution_count": 3,
   "metadata": {},
   "outputs": [],
   "source": [
    "first_split, second_split = train_test_split (lung, test_size = 0.4, random_state = 42)\n",
    "lung_train, lung_test = train_test_split(first_split, test_size = 0.2, random_state = 42)"
   ]
  },
  {
   "cell_type": "code",
   "execution_count": 4,
   "metadata": {},
   "outputs": [
    {
     "data": {
      "text/plain": [
       "((490, 17396), (123, 17396))"
      ]
     },
     "execution_count": 4,
     "metadata": {},
     "output_type": "execute_result"
    }
   ],
   "source": [
    "lung_train.shape, lung_test.shape"
   ]
  },
  {
   "cell_type": "code",
   "execution_count": 5,
   "metadata": {},
   "outputs": [],
   "source": [
    "X_train = lung_train.drop(['Unnamed: 0', 'DepMap_ID', 'label'], axis = 1)\n",
    "y_train = lung_train['label']\n",
    "\n",
    "X_test = lung_test.drop(['Unnamed: 0', 'DepMap_ID', 'label'], axis = 1)\n",
    "y_test = lung_test['label']"
   ]
  },
  {
   "cell_type": "markdown",
   "metadata": {},
   "source": [
    "### 2. Ensemble model of Neural Network"
   ]
  },
  {
   "cell_type": "markdown",
   "metadata": {},
   "source": [
    "The idea is to fit $k + 1$ NNs models:\n",
    "\n",
    "1. the first one will be the one trained on all lung obs and an equal number of non-lung obs randomly selected\n",
    "2. ...\n",
    "3. ...\n",
    "\n",
    "And so forth up top the $k$-th model. \n",
    "We then define the prediction in voting fashion, possibly with a weight (i.e. a vote for lung could count more than a vote for non-lung).\n",
    "\n",
    "As loss function we use the Focal Loss. Here’s the main idea: in our dataset, we will naturally have some training examples that are easier to classify than others (non-lung). During training, these examples will be classified with 99% accuracy, while other more challenging ones may still exhibit poor performance. The problem is that those easily classified training examples are still contributing to the loss. Why are we still giving them equal weight when there are other more challenging data points that if correctly classified can contribute much more to our overall accuracy?\n",
    "\n",
    "$$FL(p_t) = \\alpha \\cdot (1-p_t)^\\gamma \\cdot \\log{p_t}$$\n",
    "\n",
    "Focal loss down-weights the well-classified examples. This has the net effect of putting more training emphasis on that data that is hard to classify! In a practical setting where we have a data imbalance, our majority class will quickly become well-classified since we have much more data for it. Thus, in order to insure that we also achieve high accuracy on our minority class, we can use the focal loss to give those minority class examples more relative weight during training. "
   ]
  },
  {
   "cell_type": "markdown",
   "metadata": {},
   "source": [
    "**$k$ undersampling NNs models**"
   ]
  },
  {
   "cell_type": "code",
   "execution_count": 16,
   "metadata": {},
   "outputs": [],
   "source": [
    "models = []\n",
    "\n",
    "metrics = [\n",
    "        keras.metrics.FalseNegatives(name = \"fn\"),\n",
    "        keras.metrics.FalsePositives(name = \"fp\"),\n",
    "        keras.metrics.TrueNegatives(name = \"tn\"),\n",
    "        keras.metrics.TruePositives(name = \"tp\"),\n",
    "        keras.metrics.Precision(name = \"precision\"),\n",
    "        keras.metrics.Recall(name = \"recall\"),\n",
    "    ]\n",
    "\n",
    "for i in range(30):\n",
    "    # create random undersampling of majority class\n",
    "    rus = RandomUnderSampler(random_state=i)\n",
    "    X_res, y_res = rus.fit_resample(X_train, y_train)\n",
    "\n",
    "\n",
    "    model_i = keras.Sequential(\n",
    "    [\n",
    "        keras.layers.Dense(500, activation=\"relu\", input_shape=(17393,)),\n",
    "        keras.layers.Dropout(0.3),\n",
    "        keras.layers.Dense(300, activation=\"relu\"),\n",
    "        keras.layers.Dropout(0.3),\n",
    "        keras.layers.Dense(1, activation=\"sigmoid\")\n",
    "    ]\n",
    "    )\n",
    "\n",
    "\n",
    "    model_i.compile(optimizer = \"adam\", loss = BinaryFocalLoss(gamma = 2), metrics = metrics)\n",
    "\n",
    "    model_i.fit(X_res, y_res, batch_size = len(X_res), epochs = 40, verbose = 0)\n",
    "\n",
    "    models.append(model_i)"
   ]
  },
  {
   "cell_type": "markdown",
   "metadata": {},
   "source": [
    "**Confusion matrix on test**"
   ]
  },
  {
   "cell_type": "code",
   "execution_count": 10,
   "metadata": {},
   "outputs": [],
   "source": [
    "import itertools\n",
    "def plot_confusion_matrix(cm, classes, normalize = False,\n",
    "                          title='Confusion matrix',\n",
    "                          cmap=plt.cm.Purples):\n",
    "    \n",
    "    plt.figure(figsize = (10, 10))\n",
    "    plt.imshow(cm, interpolation='nearest', cmap=cmap)\n",
    "    plt.title(title, size = 24)\n",
    "    plt.colorbar(aspect = 4)\n",
    "    tick_marks = np.arange(len(classes))\n",
    "    plt.xticks(tick_marks, classes, rotation = 45, size = 14)\n",
    "    plt.yticks(tick_marks, classes, size = 14)\n",
    "    fmt = '.2f' if normalize else 'd'\n",
    "    thresh = cm.max() / 2.\n",
    "    # Label the plot\n",
    "    for i, j in itertools.product(range(cm.shape[0]),   range(cm.shape[1])):\n",
    "        plt.text(j, i, format(cm[i, j], fmt), \n",
    "                fontsize = 15,\n",
    "                horizontalalignment=\"center\",\n",
    "                color=\"white\" if cm[i, j] > thresh else \"black\")\n",
    "        plt.grid(None)\n",
    "        plt.tight_layout()\n",
    "        plt.ylabel('True label', size = 18)\n",
    "        plt.xlabel('Predicted label', size = 18)"
   ]
  },
  {
   "cell_type": "code",
   "execution_count": 17,
   "metadata": {},
   "outputs": [],
   "source": [
    "sum_pred = 0\n",
    "for i in range(len(models)):\n",
    "    sum_pred += models[i].predict(X_test)\n",
    "\n",
    "ensemble_prediction = (sum_pred/len(models)) > 0.5 # corresponds to y_pred"
   ]
  },
  {
   "cell_type": "code",
   "execution_count": 18,
   "metadata": {},
   "outputs": [
    {
     "name": "stdout",
     "output_type": "stream",
     "text": [
      "The accuracy of the model is 60.199999999999996 %\n",
      "Predicted 52 obs out of 9 True obs\n"
     ]
    }
   ],
   "source": [
    "print(f'The accuracy of the model is {round(accuracy_score(y_test, ensemble_prediction), 3)*100} %')\n",
    "\n",
    "print(f'Predicted {ensemble_prediction.sum()} obs out of {y_test.sum()} True obs')"
   ]
  },
  {
   "cell_type": "code",
   "execution_count": 19,
   "metadata": {},
   "outputs": [
    {
     "data": {
      "image/png": "[encoded data removed]",
      "text/plain": [
       "<Figure size 720x720 with 2 Axes>"
      ]
     },
     "metadata": {
      "needs_background": "light"
     },
     "output_type": "display_data"
    }
   ],
   "source": [
    "cm = confusion_matrix(y_test, ensemble_prediction)\n",
    "\n",
    "plot_confusion_matrix(cm, classes = ['0 - No Lung Cancer', '1 - Lung Cancer'])"
   ]
  },
  {
   "cell_type": "markdown",
   "metadata": {},
   "source": [
    "It completely fails in classifying Lung Cancer cells"
   ]
  },
  {
   "cell_type": "code",
   "execution_count": 20,
   "metadata": {},
   "outputs": [],
   "source": [
    "def evaluate_model(y_pred, y_test, y_train, train_predictions):\n",
    "    baseline = {}\n",
    "    baseline['recall'] = recall_score(y_test, [1 for _ in range(len(y_test))])\n",
    "    baseline['precision'] = precision_score(y_test, [1 for _ in range(len(y_test))])\n",
    "    \n",
    "    results = {}\n",
    "    results['recall'] = recall_score(y_test, y_pred)\n",
    "    results['precision'] = precision_score(y_test, y_pred)\n",
    "    \n",
    "    train_results = {}\n",
    "    train_results['recall'] = recall_score(y_train, train_predictions)\n",
    "    train_results['precision'] = precision_score(y_train, train_predictions)\n",
    "    \n",
    "    for metric in ['recall', 'precision']:\n",
    "        print(f'{metric.capitalize()} -- Baseline: {round(baseline[metric], 3)}, Test: {round(results[metric], 3)}, Train: {round(train_results[metric], 3)}')"
   ]
  },
  {
   "cell_type": "code",
   "execution_count": 21,
   "metadata": {},
   "outputs": [],
   "source": [
    "sum_pred_train = 0\n",
    "for i in range(len(models)):\n",
    "    sum_pred_train += models[i].predict(X_train)\n",
    "\n",
    "ensemble_prediction_train = (sum_pred_train/len(models)) > 0.5 # corresponds to train_predictions"
   ]
  },
  {
   "cell_type": "code",
   "execution_count": 22,
   "metadata": {},
   "outputs": [
    {
     "name": "stdout",
     "output_type": "stream",
     "text": [
      "Recall -- Baseline: 1.0, Test: 0.667, Train: 0.982\n",
      "Precision -- Baseline: 0.073, Test: 0.115, Train: 0.312\n"
     ]
    }
   ],
   "source": [
    "evaluate_model(ensemble_prediction, y_test, y_train, ensemble_prediction_train)"
   ]
  },
  {
   "cell_type": "code",
   "execution_count": null,
   "metadata": {},
   "outputs": [],
   "source": []
  }
 ],
 "metadata": {
  "interpreter": {
   "hash": "31f2aee4e71d21fbe5cf8b01ff0e069b9275f58929596ceb00d14d90e3e16cd6"
  },
  "kernelspec": {
   "display_name": "Python 3.9.2 64-bit ('3.9')",
   "language": "python",
   "name": "python3"
  },
  "language_info": {
   "codemirror_mode": {
    "name": "ipython",
    "version": 3
   },
   "file_extension": ".py",
   "mimetype": "text/x-python",
   "name": "python",
   "nbconvert_exporter": "python",
   "pygments_lexer": "ipython3",
   "version": "3.9.9"
  },
  "orig_nbformat": 4
 },
 "nbformat": 4,
 "nbformat_minor": 2
}
