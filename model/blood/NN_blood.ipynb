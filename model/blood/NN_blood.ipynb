{
 "cells": [
  {
   "cell_type": "markdown",
   "metadata": {},
   "source": [
    "# **Import the dataset**"
   ]
  },
  {
   "cell_type": "code",
   "execution_count": 5,
   "metadata": {},
   "outputs": [],
   "source": [
    "import tensorflow as tf\n",
    "from tensorflow import keras\n",
    "from tensorflow.keras.activations import elu\n",
    "from keras import backend as K\n",
    "import pandas as pd\n",
    "from imblearn.over_sampling import SMOTE \n",
    "from sklearn.metrics import confusion_matrix\n",
    "from imblearn.under_sampling import RandomUnderSampler\n",
    "import numpy as np\n",
    "from sklearn.model_selection import train_test_split\n",
    "import matplotlib.pyplot as plt\n",
    "from keras.wrappers.scikit_learn import KerasClassifier, KerasRegressor\n",
    "import eli5\n",
    "from eli5.sklearn import PermutationImportance"
   ]
  },
  {
   "cell_type": "code",
   "execution_count": 6,
   "metadata": {},
   "outputs": [],
   "source": [
    "dataset = pd.read_csv('../../dataset/blood_dataset.csv').iloc[:, 2:]\n",
    "data1, data2 =  train_test_split(dataset, test_size=0.4, random_state=42)\n",
    "train1, test1  = train_test_split(data1, test_size=0.2, random_state=46)\n",
    "train2, test2  = train_test_split(data2, test_size=0.2, random_state=32)"
   ]
  },
  {
   "cell_type": "code",
   "execution_count": 7,
   "metadata": {},
   "outputs": [],
   "source": [
    "train1_X = train1.iloc[:,:-1]\n",
    "train1_y = train1.iloc[:,-1]\n",
    "test1_X = test1.iloc[:,:-1]\n",
    "test1_y = test1.iloc[:,-1]"
   ]
  },
  {
   "cell_type": "code",
   "execution_count": 8,
   "metadata": {},
   "outputs": [
    {
     "data": {
      "text/html": [
       "<div>\n",
       "<style scoped>\n",
       "    .dataframe tbody tr th:only-of-type {\n",
       "        vertical-align: middle;\n",
       "    }\n",
       "\n",
       "    .dataframe tbody tr th {\n",
       "        vertical-align: top;\n",
       "    }\n",
       "\n",
       "    .dataframe thead th {\n",
       "        text-align: right;\n",
       "    }\n",
       "</style>\n",
       "<table border=\"1\" class=\"dataframe\">\n",
       "  <thead>\n",
       "    <tr style=\"text-align: right;\">\n",
       "      <th></th>\n",
       "      <th>A1BG..1.</th>\n",
       "      <th>A1CF..29974.</th>\n",
       "      <th>A2M..2.</th>\n",
       "      <th>A2ML1..144568.</th>\n",
       "      <th>A3GALT2..127550.</th>\n",
       "      <th>A4GALT..53947.</th>\n",
       "      <th>A4GNT..51146.</th>\n",
       "      <th>AAAS..8086.</th>\n",
       "      <th>AACS..65985.</th>\n",
       "      <th>AADAC..13.</th>\n",
       "      <th>...</th>\n",
       "      <th>ZWILCH..55055.</th>\n",
       "      <th>ZWINT..11130.</th>\n",
       "      <th>ZXDA..7789.</th>\n",
       "      <th>ZXDB..158586.</th>\n",
       "      <th>ZXDC..79364.</th>\n",
       "      <th>ZYG11A..440590.</th>\n",
       "      <th>ZYG11B..79699.</th>\n",
       "      <th>ZYX..7791.</th>\n",
       "      <th>ZZEF1..23140.</th>\n",
       "      <th>ZZZ3..26009.</th>\n",
       "    </tr>\n",
       "  </thead>\n",
       "  <tbody>\n",
       "    <tr>\n",
       "      <th>650</th>\n",
       "      <td>0.147080</td>\n",
       "      <td>0.445694</td>\n",
       "      <td>0.017483</td>\n",
       "      <td>0.007169</td>\n",
       "      <td>0.045457</td>\n",
       "      <td>0.014632</td>\n",
       "      <td>0.067986</td>\n",
       "      <td>0.403468</td>\n",
       "      <td>0.035305</td>\n",
       "      <td>0.042075</td>\n",
       "      <td>...</td>\n",
       "      <td>0.123353</td>\n",
       "      <td>0.942294</td>\n",
       "      <td>0.054111</td>\n",
       "      <td>0.003993</td>\n",
       "      <td>0.023763</td>\n",
       "      <td>0.006771</td>\n",
       "      <td>0.074534</td>\n",
       "      <td>0.030963</td>\n",
       "      <td>0.040735</td>\n",
       "      <td>0.273131</td>\n",
       "    </tr>\n",
       "    <tr>\n",
       "      <th>819</th>\n",
       "      <td>0.041403</td>\n",
       "      <td>0.044806</td>\n",
       "      <td>0.015059</td>\n",
       "      <td>0.017849</td>\n",
       "      <td>0.014064</td>\n",
       "      <td>0.072826</td>\n",
       "      <td>0.114187</td>\n",
       "      <td>0.050226</td>\n",
       "      <td>0.030321</td>\n",
       "      <td>0.013896</td>\n",
       "      <td>...</td>\n",
       "      <td>0.833055</td>\n",
       "      <td>0.716253</td>\n",
       "      <td>0.012140</td>\n",
       "      <td>0.015239</td>\n",
       "      <td>0.019902</td>\n",
       "      <td>0.045649</td>\n",
       "      <td>0.077900</td>\n",
       "      <td>0.049628</td>\n",
       "      <td>0.058832</td>\n",
       "      <td>0.250032</td>\n",
       "    </tr>\n",
       "    <tr>\n",
       "      <th>704</th>\n",
       "      <td>0.010526</td>\n",
       "      <td>0.014056</td>\n",
       "      <td>0.043156</td>\n",
       "      <td>0.031235</td>\n",
       "      <td>0.018561</td>\n",
       "      <td>0.056506</td>\n",
       "      <td>0.022698</td>\n",
       "      <td>0.173124</td>\n",
       "      <td>0.020605</td>\n",
       "      <td>0.015097</td>\n",
       "      <td>...</td>\n",
       "      <td>0.010972</td>\n",
       "      <td>0.787811</td>\n",
       "      <td>0.073192</td>\n",
       "      <td>0.029455</td>\n",
       "      <td>0.077723</td>\n",
       "      <td>0.019042</td>\n",
       "      <td>0.092804</td>\n",
       "      <td>0.050415</td>\n",
       "      <td>0.481685</td>\n",
       "      <td>0.427200</td>\n",
       "    </tr>\n",
       "    <tr>\n",
       "      <th>898</th>\n",
       "      <td>0.021123</td>\n",
       "      <td>0.058064</td>\n",
       "      <td>0.021918</td>\n",
       "      <td>0.014077</td>\n",
       "      <td>0.175457</td>\n",
       "      <td>0.020636</td>\n",
       "      <td>0.015101</td>\n",
       "      <td>0.076689</td>\n",
       "      <td>0.224626</td>\n",
       "      <td>0.043011</td>\n",
       "      <td>...</td>\n",
       "      <td>0.657375</td>\n",
       "      <td>0.309251</td>\n",
       "      <td>0.018342</td>\n",
       "      <td>0.016745</td>\n",
       "      <td>0.041365</td>\n",
       "      <td>0.013402</td>\n",
       "      <td>0.059737</td>\n",
       "      <td>0.085355</td>\n",
       "      <td>0.077031</td>\n",
       "      <td>0.298912</td>\n",
       "    </tr>\n",
       "    <tr>\n",
       "      <th>389</th>\n",
       "      <td>0.037622</td>\n",
       "      <td>0.035071</td>\n",
       "      <td>0.052090</td>\n",
       "      <td>0.060095</td>\n",
       "      <td>0.084555</td>\n",
       "      <td>0.038729</td>\n",
       "      <td>0.086327</td>\n",
       "      <td>0.719724</td>\n",
       "      <td>0.044339</td>\n",
       "      <td>0.039472</td>\n",
       "      <td>...</td>\n",
       "      <td>0.153459</td>\n",
       "      <td>0.165303</td>\n",
       "      <td>0.011806</td>\n",
       "      <td>0.087887</td>\n",
       "      <td>0.019427</td>\n",
       "      <td>0.031437</td>\n",
       "      <td>0.047821</td>\n",
       "      <td>0.103173</td>\n",
       "      <td>0.265542</td>\n",
       "      <td>0.112986</td>\n",
       "    </tr>\n",
       "  </tbody>\n",
       "</table>\n",
       "<p>5 rows × 17393 columns</p>\n",
       "</div>"
      ],
      "text/plain": [
       "     A1BG..1.  A1CF..29974.   A2M..2.  A2ML1..144568.  A3GALT2..127550.  \\\n",
       "650  0.147080      0.445694  0.017483        0.007169          0.045457   \n",
       "819  0.041403      0.044806  0.015059        0.017849          0.014064   \n",
       "704  0.010526      0.014056  0.043156        0.031235          0.018561   \n",
       "898  0.021123      0.058064  0.021918        0.014077          0.175457   \n",
       "389  0.037622      0.035071  0.052090        0.060095          0.084555   \n",
       "\n",
       "     A4GALT..53947.  A4GNT..51146.  AAAS..8086.  AACS..65985.  AADAC..13.  \\\n",
       "650        0.014632       0.067986     0.403468      0.035305    0.042075   \n",
       "819        0.072826       0.114187     0.050226      0.030321    0.013896   \n",
       "704        0.056506       0.022698     0.173124      0.020605    0.015097   \n",
       "898        0.020636       0.015101     0.076689      0.224626    0.043011   \n",
       "389        0.038729       0.086327     0.719724      0.044339    0.039472   \n",
       "\n",
       "     ...  ZWILCH..55055.  ZWINT..11130.  ZXDA..7789.  ZXDB..158586.  \\\n",
       "650  ...        0.123353       0.942294     0.054111       0.003993   \n",
       "819  ...        0.833055       0.716253     0.012140       0.015239   \n",
       "704  ...        0.010972       0.787811     0.073192       0.029455   \n",
       "898  ...        0.657375       0.309251     0.018342       0.016745   \n",
       "389  ...        0.153459       0.165303     0.011806       0.087887   \n",
       "\n",
       "     ZXDC..79364.  ZYG11A..440590.  ZYG11B..79699.  ZYX..7791.  ZZEF1..23140.  \\\n",
       "650      0.023763         0.006771        0.074534    0.030963       0.040735   \n",
       "819      0.019902         0.045649        0.077900    0.049628       0.058832   \n",
       "704      0.077723         0.019042        0.092804    0.050415       0.481685   \n",
       "898      0.041365         0.013402        0.059737    0.085355       0.077031   \n",
       "389      0.019427         0.031437        0.047821    0.103173       0.265542   \n",
       "\n",
       "     ZZZ3..26009.  \n",
       "650      0.273131  \n",
       "819      0.250032  \n",
       "704      0.427200  \n",
       "898      0.298912  \n",
       "389      0.112986  \n",
       "\n",
       "[5 rows x 17393 columns]"
      ]
     },
     "execution_count": 8,
     "metadata": {},
     "output_type": "execute_result"
    }
   ],
   "source": [
    "train1_X.head()"
   ]
  },
  {
   "cell_type": "markdown",
   "metadata": {},
   "source": []
  },
  {
   "cell_type": "markdown",
   "metadata": {},
   "source": [
    "# **Ensemble model of NN**"
   ]
  },
  {
   "cell_type": "markdown",
   "metadata": {},
   "source": [
    "The idea is to fit $k + 1$ NNs models:\n",
    "\n",
    "1. the first one will be the one trained on all lung obs and an equal number of non-lung obs randomly selected\n",
    "2. ...\n",
    "3. ...\n",
    "\n",
    "And so forth up top the $k$-th model. \n",
    "We then define the prediction in voting fashion, possibly with a weight (i.e. a vote for lung could count more than a vote for non-lung).\n",
    "\n",
    "As loss function we use the Focal Loss. Here’s the main idea: in our dataset, we will naturally have some training examples that are easier to classify than others (non-lung). During training, these examples will be classified with 99% accuracy, while other more challenging ones may still exhibit poor performance. The problem is that those easily classified training examples are still contributing to the loss. Why are we still giving them equal weight when there are other more challenging data points that if correctly classified can contribute much more to our overall accuracy?\n",
    "\n",
    "$$FL(p_t) = \\alpha \\cdot (1-p_t)^\\gamma \\cdot \\log{p_t}$$\n",
    "\n",
    "Focal loss down-weights the well-classified examples. This has the net effect of putting more training emphasis on that data that is hard to classify! In a practical setting where we have a data imbalance, our majority class will quickly become well-classified since we have much more data for it. Thus, in order to insure that we also achieve high accuracy on our minority class, we can use the focal loss to give those minority class examples more relative weight during training. "
   ]
  },
  {
   "cell_type": "code",
   "execution_count": 9,
   "metadata": {},
   "outputs": [],
   "source": [
    "def binary_focal_loss(gamma=2., alpha=.25):\n",
    "    \"\"\"\n",
    "    Binary form of focal loss.\n",
    "      FL(p_t) = -alpha * (1 - p_t)**gamma * log(p_t)\n",
    "      where p = sigmoid(x), p_t = p or 1 - p depending on if the label is 1 or 0, respectively.\n",
    "    References:\n",
    "        https://arxiv.org/pdf/1708.02002.pdf\n",
    "    Usage:\n",
    "     model.compile(loss=[binary_focal_loss(alpha=.25, gamma=2)], metrics=[\"accuracy\"], optimizer=adam)\n",
    "    \"\"\"\n",
    "\n",
    "    def binary_focal_loss_fixed(y_true, y_pred):\n",
    "        \"\"\"\n",
    "        :param y_true: A tensor of the same shape as y_pred\n",
    "        :param y_pred:  A tensor resulting from a sigmoid\n",
    "        :return: Output tensor.\n",
    "        \"\"\"\n",
    "        y_true = tf.cast(y_true, tf.float32)\n",
    "        # Define epsilon so that the back-propagation will not result in NaN for 0 divisor case\n",
    "        epsilon = K.epsilon()\n",
    "        # Add the epsilon to prediction value\n",
    "        # y_pred = y_pred + epsilon\n",
    "        # Clip the prediciton value\n",
    "        y_pred = K.clip(y_pred, epsilon, 1.0 - epsilon)\n",
    "        # Calculate p_t\n",
    "        p_t = tf.where(K.equal(y_true, 1), y_pred, 1 - y_pred)\n",
    "        # Calculate alpha_t\n",
    "        alpha_factor = K.ones_like(y_true) * alpha\n",
    "        alpha_t = tf.where(K.equal(y_true, 1), alpha_factor, 1 - alpha_factor)\n",
    "        # Calculate cross entropy\n",
    "        cross_entropy = -K.log(p_t)\n",
    "        weight = alpha_t * K.pow((1 - p_t), gamma)\n",
    "        # Calculate focal loss\n",
    "        loss = weight * cross_entropy\n",
    "        # Sum the losses in mini_batch\n",
    "        loss = K.mean(K.sum(loss, axis=1))\n",
    "        return loss\n",
    "\n",
    "    return binary_focal_loss_fixed"
   ]
  },
  {
   "cell_type": "markdown",
   "metadata": {},
   "source": [
    "**$k$ undersampling NNs models**"
   ]
  },
  {
   "cell_type": "code",
   "execution_count": 10,
   "metadata": {},
   "outputs": [
    {
     "name": "stderr",
     "output_type": "stream",
     "text": [
      "2021-12-10 12:52:44.643119: I tensorflow/core/grappler/optimizers/custom_graph_optimizer_registry.cc:112] Plugin optimizer for device_type GPU is enabled.\n",
      "2021-12-10 12:52:48.166043: I tensorflow/core/grappler/optimizers/custom_graph_optimizer_registry.cc:112] Plugin optimizer for device_type GPU is enabled.\n",
      "2021-12-10 12:52:50.599011: I tensorflow/core/grappler/optimizers/custom_graph_optimizer_registry.cc:112] Plugin optimizer for device_type GPU is enabled.\n",
      "2021-12-10 12:52:53.111962: I tensorflow/core/grappler/optimizers/custom_graph_optimizer_registry.cc:112] Plugin optimizer for device_type GPU is enabled.\n",
      "2021-12-10 12:52:55.618458: I tensorflow/core/grappler/optimizers/custom_graph_optimizer_registry.cc:112] Plugin optimizer for device_type GPU is enabled.\n",
      "2021-12-10 12:52:57.976025: I tensorflow/core/grappler/optimizers/custom_graph_optimizer_registry.cc:112] Plugin optimizer for device_type GPU is enabled.\n",
      "2021-12-10 12:53:00.426096: I tensorflow/core/grappler/optimizers/custom_graph_optimizer_registry.cc:112] Plugin optimizer for device_type GPU is enabled.\n",
      "2021-12-10 12:53:02.884629: I tensorflow/core/grappler/optimizers/custom_graph_optimizer_registry.cc:112] Plugin optimizer for device_type GPU is enabled.\n",
      "2021-12-10 12:53:05.292540: I tensorflow/core/grappler/optimizers/custom_graph_optimizer_registry.cc:112] Plugin optimizer for device_type GPU is enabled.\n",
      "2021-12-10 12:53:07.730088: I tensorflow/core/grappler/optimizers/custom_graph_optimizer_registry.cc:112] Plugin optimizer for device_type GPU is enabled.\n",
      "2021-12-10 12:53:10.077342: I tensorflow/core/grappler/optimizers/custom_graph_optimizer_registry.cc:112] Plugin optimizer for device_type GPU is enabled.\n",
      "2021-12-10 12:53:12.506905: I tensorflow/core/grappler/optimizers/custom_graph_optimizer_registry.cc:112] Plugin optimizer for device_type GPU is enabled.\n",
      "2021-12-10 12:53:14.917553: I tensorflow/core/grappler/optimizers/custom_graph_optimizer_registry.cc:112] Plugin optimizer for device_type GPU is enabled.\n",
      "2021-12-10 12:53:17.262278: I tensorflow/core/grappler/optimizers/custom_graph_optimizer_registry.cc:112] Plugin optimizer for device_type GPU is enabled.\n",
      "2021-12-10 12:53:19.695358: I tensorflow/core/grappler/optimizers/custom_graph_optimizer_registry.cc:112] Plugin optimizer for device_type GPU is enabled.\n",
      "2021-12-10 12:53:22.202091: I tensorflow/core/grappler/optimizers/custom_graph_optimizer_registry.cc:112] Plugin optimizer for device_type GPU is enabled.\n",
      "2021-12-10 12:53:24.614081: I tensorflow/core/grappler/optimizers/custom_graph_optimizer_registry.cc:112] Plugin optimizer for device_type GPU is enabled.\n",
      "2021-12-10 12:53:27.017141: I tensorflow/core/grappler/optimizers/custom_graph_optimizer_registry.cc:112] Plugin optimizer for device_type GPU is enabled.\n",
      "2021-12-10 12:53:29.495993: I tensorflow/core/grappler/optimizers/custom_graph_optimizer_registry.cc:112] Plugin optimizer for device_type GPU is enabled.\n",
      "2021-12-10 12:53:31.930507: I tensorflow/core/grappler/optimizers/custom_graph_optimizer_registry.cc:112] Plugin optimizer for device_type GPU is enabled.\n"
     ]
    }
   ],
   "source": [
    "models = []\n",
    "\n",
    "metrics = [\n",
    "        keras.metrics.FalseNegatives(name=\"fn\"),\n",
    "        keras.metrics.FalsePositives(name=\"fp\"),\n",
    "        keras.metrics.TrueNegatives(name=\"tn\"),\n",
    "        keras.metrics.TruePositives(name=\"tp\"),\n",
    "        keras.metrics.Precision(name=\"precision\"),\n",
    "        keras.metrics.Recall(name=\"recall\"),\n",
    "    ]\n",
    "\n",
    "for i in range(20):\n",
    "    # create random undersampling of majority class\n",
    "    rus = RandomUnderSampler(random_state=i)\n",
    "    X_res, y_res = rus.fit_resample(train1_X, train1_y)\n",
    "\n",
    "\n",
    "    model_i = keras.Sequential(\n",
    "    [\n",
    "        keras.layers.Dense(400, activation=\"relu\", input_shape=(17393,)),\n",
    "        keras.layers.Dense(300, activation=\"relu\"),\n",
    "        keras.layers.Dropout(0.3),\n",
    "        keras.layers.Dense(1, activation=\"sigmoid\"),\n",
    "    ]\n",
    "    )\n",
    "\n",
    "\n",
    "    model_i.compile(\n",
    "        optimizer='adam', loss=\"binary_crossentropy\", metrics=metrics\n",
    "        )\n",
    "\n",
    "    model_i.fit(X_res, y_res, batch_size=len(X_res), epochs=40, verbose=0)\n",
    "\n",
    "    models.append(model_i)\n",
    "        "
   ]
  },
  {
   "cell_type": "markdown",
   "metadata": {},
   "source": [
    "**Confusion matrix on test**"
   ]
  },
  {
   "cell_type": "code",
   "execution_count": 11,
   "metadata": {},
   "outputs": [
    {
     "name": "stderr",
     "output_type": "stream",
     "text": [
      "2021-12-10 12:54:50.877338: I tensorflow/core/grappler/optimizers/custom_graph_optimizer_registry.cc:112] Plugin optimizer for device_type GPU is enabled.\n",
      "2021-12-10 12:54:51.034870: I tensorflow/core/grappler/optimizers/custom_graph_optimizer_registry.cc:112] Plugin optimizer for device_type GPU is enabled.\n",
      "2021-12-10 12:54:51.139378: I tensorflow/core/grappler/optimizers/custom_graph_optimizer_registry.cc:112] Plugin optimizer for device_type GPU is enabled.\n",
      "2021-12-10 12:54:51.233279: I tensorflow/core/grappler/optimizers/custom_graph_optimizer_registry.cc:112] Plugin optimizer for device_type GPU is enabled.\n",
      "2021-12-10 12:54:51.321159: I tensorflow/core/grappler/optimizers/custom_graph_optimizer_registry.cc:112] Plugin optimizer for device_type GPU is enabled.\n",
      "2021-12-10 12:54:51.406592: I tensorflow/core/grappler/optimizers/custom_graph_optimizer_registry.cc:112] Plugin optimizer for device_type GPU is enabled.\n",
      "2021-12-10 12:54:51.495323: I tensorflow/core/grappler/optimizers/custom_graph_optimizer_registry.cc:112] Plugin optimizer for device_type GPU is enabled.\n",
      "2021-12-10 12:54:51.588447: I tensorflow/core/grappler/optimizers/custom_graph_optimizer_registry.cc:112] Plugin optimizer for device_type GPU is enabled.\n",
      "2021-12-10 12:54:51.686377: I tensorflow/core/grappler/optimizers/custom_graph_optimizer_registry.cc:112] Plugin optimizer for device_type GPU is enabled.\n",
      "2021-12-10 12:54:51.772147: I tensorflow/core/grappler/optimizers/custom_graph_optimizer_registry.cc:112] Plugin optimizer for device_type GPU is enabled.\n",
      "2021-12-10 12:54:51.855378: I tensorflow/core/grappler/optimizers/custom_graph_optimizer_registry.cc:112] Plugin optimizer for device_type GPU is enabled.\n",
      "2021-12-10 12:54:51.943400: I tensorflow/core/grappler/optimizers/custom_graph_optimizer_registry.cc:112] Plugin optimizer for device_type GPU is enabled.\n",
      "2021-12-10 12:54:52.033599: I tensorflow/core/grappler/optimizers/custom_graph_optimizer_registry.cc:112] Plugin optimizer for device_type GPU is enabled.\n",
      "2021-12-10 12:54:52.129874: I tensorflow/core/grappler/optimizers/custom_graph_optimizer_registry.cc:112] Plugin optimizer for device_type GPU is enabled.\n",
      "2021-12-10 12:54:52.223963: I tensorflow/core/grappler/optimizers/custom_graph_optimizer_registry.cc:112] Plugin optimizer for device_type GPU is enabled.\n",
      "2021-12-10 12:54:52.315507: I tensorflow/core/grappler/optimizers/custom_graph_optimizer_registry.cc:112] Plugin optimizer for device_type GPU is enabled.\n",
      "2021-12-10 12:54:52.403744: I tensorflow/core/grappler/optimizers/custom_graph_optimizer_registry.cc:112] Plugin optimizer for device_type GPU is enabled.\n",
      "2021-12-10 12:54:52.517997: I tensorflow/core/grappler/optimizers/custom_graph_optimizer_registry.cc:112] Plugin optimizer for device_type GPU is enabled.\n",
      "2021-12-10 12:54:52.621380: I tensorflow/core/grappler/optimizers/custom_graph_optimizer_registry.cc:112] Plugin optimizer for device_type GPU is enabled.\n",
      "2021-12-10 12:54:52.729873: I tensorflow/core/grappler/optimizers/custom_graph_optimizer_registry.cc:112] Plugin optimizer for device_type GPU is enabled.\n"
     ]
    },
    {
     "data": {
      "text/plain": [
       "array([[109,   1],\n",
       "       [  0,  13]])"
      ]
     },
     "execution_count": 11,
     "metadata": {},
     "output_type": "execute_result"
    }
   ],
   "source": [
    "sum_pred = 0\n",
    "for i in range(len(models)):\n",
    "    sum_pred += models[i].predict(test1_X)\n",
    "\n",
    "ensemble_prediction = (sum_pred/len(models)) > 0.5\n",
    "conf_matr = confusion_matrix(test1_y, ensemble_prediction)\n",
    "conf_matr"
   ]
  },
  {
   "cell_type": "markdown",
   "metadata": {},
   "source": []
  },
  {
   "cell_type": "code",
   "execution_count": 12,
   "metadata": {},
   "outputs": [],
   "source": [
    "import itertools\n",
    "def plot_confusion_matrix(cm, classes, normalize = False,\n",
    "                          title='Confusion matrix',\n",
    "                          cmap=plt.cm.Greens): # can change color\n",
    "\n",
    "    plt.figure(figsize = (10, 10))\n",
    "    plt.imshow(cm, interpolation='nearest', cmap=cmap)\n",
    "    plt.title(title, size = 24)\n",
    "    plt.colorbar(aspect=4)\n",
    "    tick_marks = np.arange(len(classes))\n",
    "    plt.xticks(tick_marks, classes, rotation=45, size = 14)\n",
    "    plt.yticks(tick_marks, classes, size = 14)\n",
    "    fmt = '.2f' if normalize else 'd'\n",
    "    thresh = cm.max() / 2.\n",
    "    # Label the plot\n",
    "    for i, j in itertools.product(range(cm.shape[0]),   range(cm.shape[1])):\n",
    "        plt.text(j, i, format(cm[i, j], fmt), \n",
    "                fontsize = 15,\n",
    "                horizontalalignment=\"center\",\n",
    "                color=\"white\" if cm[i, j] > thresh else \"black\")\n",
    "        plt.grid(None)\n",
    "        plt.tight_layout()\n",
    "        plt.ylabel('True label', size = 18)\n",
    "        plt.xlabel('Predicted label', size = 18)"
   ]
  },
  {
   "cell_type": "code",
   "execution_count": 16,
   "metadata": {},
   "outputs": [
    {
     "data": {
      "image/png": "[encoded data removed]",
      "text/plain": [
       "<Figure size 720x720 with 2 Axes>"
      ]
     },
     "metadata": {
      "needs_background": "light"
     },
     "output_type": "display_data"
    }
   ],
   "source": [
    "plot_confusion_matrix(conf_matr, classes = [\"Blood\", \"Non Blood\"],\n",
    "                        title = 'Confusion Matrix')"
   ]
  },
  {
   "cell_type": "markdown",
   "metadata": {},
   "source": []
  },
  {
   "cell_type": "markdown",
   "metadata": {},
   "source": []
  },
  {
   "cell_type": "markdown",
   "metadata": {},
   "source": []
  }
 ],
 "metadata": {
  "interpreter": {
   "hash": "31f2aee4e71d21fbe5cf8b01ff0e069b9275f58929596ceb00d14d90e3e16cd6"
  },
  "kernelspec": {
   "display_name": "Python 3.9.2 64-bit ('3.9')",
   "language": "python",
   "name": "python3"
  },
  "language_info": {
   "codemirror_mode": {
    "name": "ipython",
    "version": 3
   },
   "file_extension": ".py",
   "mimetype": "text/x-python",
   "name": "python",
   "nbconvert_exporter": "python",
   "pygments_lexer": "ipython3",
   "version": "3.9.0"
  },
  "orig_nbformat": 4
 },
 "nbformat": 4,
 "nbformat_minor": 2
}
