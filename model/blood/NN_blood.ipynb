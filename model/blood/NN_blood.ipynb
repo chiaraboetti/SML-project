{
 "cells": [
  {
   "cell_type": "markdown",
   "metadata": {},
   "source": [
    "# **Import the dataset and SMOTE**"
   ]
  },
  {
   "cell_type": "code",
   "execution_count": 72,
   "metadata": {},
   "outputs": [],
   "source": [
    "import tensorflow as tf\n",
    "from tensorflow import keras\n",
    "from tensorflow.keras.activations import elu\n",
    "from keras import backend as K\n",
    "import pandas as pd\n",
    "from imblearn.over_sampling import SMOTE \n",
    "from sklearn.metrics import confusion_matrix\n",
    "from imblearn.under_sampling import RandomUnderSampler\n",
    "import numpy as np\n",
    "from sklearn.model_selection import train_test_split\n",
    "import matplotlib.pyplot as plt\n",
    "from keras.wrappers.scikit_learn import KerasClassifier, KerasRegressor\n",
    "import eli5\n",
    "from eli5.sklearn import PermutationImportance\n",
    "from eli5 import show_weights, show_prediction"
   ]
  },
  {
   "cell_type": "code",
   "execution_count": 15,
   "metadata": {},
   "outputs": [],
   "source": [
    "dataset = pd.read_csv('../../dataset/blood_dataset.csv').iloc[:, 2:]\n",
    "data1, data2 =  train_test_split(dataset, test_size=0.4, random_state=42)\n",
    "train1, test1  = train_test_split(data1, test_size=0.2, random_state=46)\n",
    "train2, test2  = train_test_split(data2, test_size=0.2, random_state=32)"
   ]
  },
  {
   "cell_type": "code",
   "execution_count": 16,
   "metadata": {},
   "outputs": [],
   "source": [
    "train1_X = train1.iloc[:,:-1]\n",
    "train1_y = train1.iloc[:,-1]\n",
    "test1_X = test1.iloc[:,:-1]\n",
    "test1_y = test1.iloc[:,-1]"
   ]
  },
  {
   "cell_type": "code",
   "execution_count": 17,
   "metadata": {},
   "outputs": [
    {
     "data": {
      "text/html": [
       "<div>\n",
       "<style scoped>\n",
       "    .dataframe tbody tr th:only-of-type {\n",
       "        vertical-align: middle;\n",
       "    }\n",
       "\n",
       "    .dataframe tbody tr th {\n",
       "        vertical-align: top;\n",
       "    }\n",
       "\n",
       "    .dataframe thead th {\n",
       "        text-align: right;\n",
       "    }\n",
       "</style>\n",
       "<table border=\"1\" class=\"dataframe\">\n",
       "  <thead>\n",
       "    <tr style=\"text-align: right;\">\n",
       "      <th></th>\n",
       "      <th>A1BG..1.</th>\n",
       "      <th>A1CF..29974.</th>\n",
       "      <th>A2M..2.</th>\n",
       "      <th>A2ML1..144568.</th>\n",
       "      <th>A3GALT2..127550.</th>\n",
       "      <th>A4GALT..53947.</th>\n",
       "      <th>A4GNT..51146.</th>\n",
       "      <th>AAAS..8086.</th>\n",
       "      <th>AACS..65985.</th>\n",
       "      <th>AADAC..13.</th>\n",
       "      <th>...</th>\n",
       "      <th>ZWILCH..55055.</th>\n",
       "      <th>ZWINT..11130.</th>\n",
       "      <th>ZXDA..7789.</th>\n",
       "      <th>ZXDB..158586.</th>\n",
       "      <th>ZXDC..79364.</th>\n",
       "      <th>ZYG11A..440590.</th>\n",
       "      <th>ZYG11B..79699.</th>\n",
       "      <th>ZYX..7791.</th>\n",
       "      <th>ZZEF1..23140.</th>\n",
       "      <th>ZZZ3..26009.</th>\n",
       "    </tr>\n",
       "  </thead>\n",
       "  <tbody>\n",
       "    <tr>\n",
       "      <th>650</th>\n",
       "      <td>0.147080</td>\n",
       "      <td>0.445694</td>\n",
       "      <td>0.017483</td>\n",
       "      <td>0.007169</td>\n",
       "      <td>0.045457</td>\n",
       "      <td>0.014632</td>\n",
       "      <td>0.067986</td>\n",
       "      <td>0.403468</td>\n",
       "      <td>0.035305</td>\n",
       "      <td>0.042075</td>\n",
       "      <td>...</td>\n",
       "      <td>0.123353</td>\n",
       "      <td>0.942294</td>\n",
       "      <td>0.054111</td>\n",
       "      <td>0.003993</td>\n",
       "      <td>0.023763</td>\n",
       "      <td>0.006771</td>\n",
       "      <td>0.074534</td>\n",
       "      <td>0.030963</td>\n",
       "      <td>0.040735</td>\n",
       "      <td>0.273131</td>\n",
       "    </tr>\n",
       "    <tr>\n",
       "      <th>819</th>\n",
       "      <td>0.041403</td>\n",
       "      <td>0.044806</td>\n",
       "      <td>0.015059</td>\n",
       "      <td>0.017849</td>\n",
       "      <td>0.014064</td>\n",
       "      <td>0.072826</td>\n",
       "      <td>0.114187</td>\n",
       "      <td>0.050226</td>\n",
       "      <td>0.030321</td>\n",
       "      <td>0.013896</td>\n",
       "      <td>...</td>\n",
       "      <td>0.833055</td>\n",
       "      <td>0.716253</td>\n",
       "      <td>0.012140</td>\n",
       "      <td>0.015239</td>\n",
       "      <td>0.019902</td>\n",
       "      <td>0.045649</td>\n",
       "      <td>0.077900</td>\n",
       "      <td>0.049628</td>\n",
       "      <td>0.058832</td>\n",
       "      <td>0.250032</td>\n",
       "    </tr>\n",
       "    <tr>\n",
       "      <th>704</th>\n",
       "      <td>0.010526</td>\n",
       "      <td>0.014056</td>\n",
       "      <td>0.043156</td>\n",
       "      <td>0.031235</td>\n",
       "      <td>0.018561</td>\n",
       "      <td>0.056506</td>\n",
       "      <td>0.022698</td>\n",
       "      <td>0.173124</td>\n",
       "      <td>0.020605</td>\n",
       "      <td>0.015097</td>\n",
       "      <td>...</td>\n",
       "      <td>0.010972</td>\n",
       "      <td>0.787811</td>\n",
       "      <td>0.073192</td>\n",
       "      <td>0.029455</td>\n",
       "      <td>0.077723</td>\n",
       "      <td>0.019042</td>\n",
       "      <td>0.092804</td>\n",
       "      <td>0.050415</td>\n",
       "      <td>0.481685</td>\n",
       "      <td>0.427200</td>\n",
       "    </tr>\n",
       "    <tr>\n",
       "      <th>898</th>\n",
       "      <td>0.021123</td>\n",
       "      <td>0.058064</td>\n",
       "      <td>0.021918</td>\n",
       "      <td>0.014077</td>\n",
       "      <td>0.175457</td>\n",
       "      <td>0.020636</td>\n",
       "      <td>0.015101</td>\n",
       "      <td>0.076689</td>\n",
       "      <td>0.224626</td>\n",
       "      <td>0.043011</td>\n",
       "      <td>...</td>\n",
       "      <td>0.657375</td>\n",
       "      <td>0.309251</td>\n",
       "      <td>0.018342</td>\n",
       "      <td>0.016745</td>\n",
       "      <td>0.041365</td>\n",
       "      <td>0.013402</td>\n",
       "      <td>0.059737</td>\n",
       "      <td>0.085355</td>\n",
       "      <td>0.077031</td>\n",
       "      <td>0.298912</td>\n",
       "    </tr>\n",
       "    <tr>\n",
       "      <th>389</th>\n",
       "      <td>0.037622</td>\n",
       "      <td>0.035071</td>\n",
       "      <td>0.052090</td>\n",
       "      <td>0.060095</td>\n",
       "      <td>0.084555</td>\n",
       "      <td>0.038729</td>\n",
       "      <td>0.086327</td>\n",
       "      <td>0.719724</td>\n",
       "      <td>0.044339</td>\n",
       "      <td>0.039472</td>\n",
       "      <td>...</td>\n",
       "      <td>0.153459</td>\n",
       "      <td>0.165303</td>\n",
       "      <td>0.011806</td>\n",
       "      <td>0.087887</td>\n",
       "      <td>0.019427</td>\n",
       "      <td>0.031437</td>\n",
       "      <td>0.047821</td>\n",
       "      <td>0.103173</td>\n",
       "      <td>0.265542</td>\n",
       "      <td>0.112986</td>\n",
       "    </tr>\n",
       "  </tbody>\n",
       "</table>\n",
       "<p>5 rows × 17393 columns</p>\n",
       "</div>"
      ],
      "text/plain": [
       "     A1BG..1.  A1CF..29974.   A2M..2.  A2ML1..144568.  A3GALT2..127550.  \\\n",
       "650  0.147080      0.445694  0.017483        0.007169          0.045457   \n",
       "819  0.041403      0.044806  0.015059        0.017849          0.014064   \n",
       "704  0.010526      0.014056  0.043156        0.031235          0.018561   \n",
       "898  0.021123      0.058064  0.021918        0.014077          0.175457   \n",
       "389  0.037622      0.035071  0.052090        0.060095          0.084555   \n",
       "\n",
       "     A4GALT..53947.  A4GNT..51146.  AAAS..8086.  AACS..65985.  AADAC..13.  \\\n",
       "650        0.014632       0.067986     0.403468      0.035305    0.042075   \n",
       "819        0.072826       0.114187     0.050226      0.030321    0.013896   \n",
       "704        0.056506       0.022698     0.173124      0.020605    0.015097   \n",
       "898        0.020636       0.015101     0.076689      0.224626    0.043011   \n",
       "389        0.038729       0.086327     0.719724      0.044339    0.039472   \n",
       "\n",
       "     ...  ZWILCH..55055.  ZWINT..11130.  ZXDA..7789.  ZXDB..158586.  \\\n",
       "650  ...        0.123353       0.942294     0.054111       0.003993   \n",
       "819  ...        0.833055       0.716253     0.012140       0.015239   \n",
       "704  ...        0.010972       0.787811     0.073192       0.029455   \n",
       "898  ...        0.657375       0.309251     0.018342       0.016745   \n",
       "389  ...        0.153459       0.165303     0.011806       0.087887   \n",
       "\n",
       "     ZXDC..79364.  ZYG11A..440590.  ZYG11B..79699.  ZYX..7791.  ZZEF1..23140.  \\\n",
       "650      0.023763         0.006771        0.074534    0.030963       0.040735   \n",
       "819      0.019902         0.045649        0.077900    0.049628       0.058832   \n",
       "704      0.077723         0.019042        0.092804    0.050415       0.481685   \n",
       "898      0.041365         0.013402        0.059737    0.085355       0.077031   \n",
       "389      0.019427         0.031437        0.047821    0.103173       0.265542   \n",
       "\n",
       "     ZZZ3..26009.  \n",
       "650      0.273131  \n",
       "819      0.250032  \n",
       "704      0.427200  \n",
       "898      0.298912  \n",
       "389      0.112986  \n",
       "\n",
       "[5 rows x 17393 columns]"
      ]
     },
     "execution_count": 17,
     "metadata": {},
     "output_type": "execute_result"
    }
   ],
   "source": [
    "train1_X.head()"
   ]
  },
  {
   "cell_type": "markdown",
   "metadata": {},
   "source": []
  },
  {
   "cell_type": "markdown",
   "metadata": {},
   "source": [
    "# **Ensemble model of NN**"
   ]
  },
  {
   "cell_type": "markdown",
   "metadata": {},
   "source": [
    "The idea is to fit $k + 1$ NNs models:\n",
    "\n",
    "1. the first one will be the one trained on all lung obs and an equal number of non-lung obs randomly selected\n",
    "2. ...\n",
    "3. ...\n",
    "\n",
    "And so forth up top the $k$-th model. \n",
    "We then define the prediction in voting fashion, possibly with a weight (i.e. a vote for lung could count more than a vote for non-lung).\n",
    "\n",
    "As loss function we use the Focal Loss. Here’s the main idea: in our dataset, we will naturally have some training examples that are easier to classify than others (non-lung). During training, these examples will be classified with 99% accuracy, while other more challenging ones may still exhibit poor performance. The problem is that those easily classified training examples are still contributing to the loss. Why are we still giving them equal weight when there are other more challenging data points that if correctly classified can contribute much more to our overall accuracy?\n",
    "\n",
    "$$FL(p_t) = \\alpha \\cdot (1-p_t)^\\gamma \\cdot \\log{p_t}$$\n",
    "\n",
    "Focal loss down-weights the well-classified examples. This has the net effect of putting more training emphasis on that data that is hard to classify! In a practical setting where we have a data imbalance, our majority class will quickly become well-classified since we have much more data for it. Thus, in order to insure that we also achieve high accuracy on our minority class, we can use the focal loss to give those minority class examples more relative weight during training. "
   ]
  },
  {
   "cell_type": "code",
   "execution_count": 9,
   "metadata": {},
   "outputs": [],
   "source": [
    "def binary_focal_loss(gamma=2., alpha=.25):\n",
    "    \"\"\"\n",
    "    Binary form of focal loss.\n",
    "      FL(p_t) = -alpha * (1 - p_t)**gamma * log(p_t)\n",
    "      where p = sigmoid(x), p_t = p or 1 - p depending on if the label is 1 or 0, respectively.\n",
    "    References:\n",
    "        https://arxiv.org/pdf/1708.02002.pdf\n",
    "    Usage:\n",
    "     model.compile(loss=[binary_focal_loss(alpha=.25, gamma=2)], metrics=[\"accuracy\"], optimizer=adam)\n",
    "    \"\"\"\n",
    "\n",
    "    def binary_focal_loss_fixed(y_true, y_pred):\n",
    "        \"\"\"\n",
    "        :param y_true: A tensor of the same shape as y_pred\n",
    "        :param y_pred:  A tensor resulting from a sigmoid\n",
    "        :return: Output tensor.\n",
    "        \"\"\"\n",
    "        y_true = tf.cast(y_true, tf.float32)\n",
    "        # Define epsilon so that the back-propagation will not result in NaN for 0 divisor case\n",
    "        epsilon = K.epsilon()\n",
    "        # Add the epsilon to prediction value\n",
    "        # y_pred = y_pred + epsilon\n",
    "        # Clip the prediciton value\n",
    "        y_pred = K.clip(y_pred, epsilon, 1.0 - epsilon)\n",
    "        # Calculate p_t\n",
    "        p_t = tf.where(K.equal(y_true, 1), y_pred, 1 - y_pred)\n",
    "        # Calculate alpha_t\n",
    "        alpha_factor = K.ones_like(y_true) * alpha\n",
    "        alpha_t = tf.where(K.equal(y_true, 1), alpha_factor, 1 - alpha_factor)\n",
    "        # Calculate cross entropy\n",
    "        cross_entropy = -K.log(p_t)\n",
    "        weight = alpha_t * K.pow((1 - p_t), gamma)\n",
    "        # Calculate focal loss\n",
    "        loss = weight * cross_entropy\n",
    "        # Sum the losses in mini_batch\n",
    "        loss = K.mean(K.sum(loss, axis=1))\n",
    "        return loss\n",
    "\n",
    "    return binary_focal_loss_fixed"
   ]
  },
  {
   "cell_type": "markdown",
   "metadata": {},
   "source": [
    "**$k$ undersampling NNs models**"
   ]
  },
  {
   "cell_type": "code",
   "execution_count": 20,
   "metadata": {},
   "outputs": [
    {
     "name": "stderr",
     "output_type": "stream",
     "text": [
      "2021-12-03 21:19:30.732767: I tensorflow/core/grappler/optimizers/custom_graph_optimizer_registry.cc:112] Plugin optimizer for device_type GPU is enabled.\n",
      "2021-12-03 21:19:33.240638: I tensorflow/core/grappler/optimizers/custom_graph_optimizer_registry.cc:112] Plugin optimizer for device_type GPU is enabled.\n",
      "2021-12-03 21:19:35.616694: I tensorflow/core/grappler/optimizers/custom_graph_optimizer_registry.cc:112] Plugin optimizer for device_type GPU is enabled.\n",
      "2021-12-03 21:19:37.942242: I tensorflow/core/grappler/optimizers/custom_graph_optimizer_registry.cc:112] Plugin optimizer for device_type GPU is enabled.\n",
      "2021-12-03 21:19:40.233806: I tensorflow/core/grappler/optimizers/custom_graph_optimizer_registry.cc:112] Plugin optimizer for device_type GPU is enabled.\n",
      "2021-12-03 21:19:42.667047: I tensorflow/core/grappler/optimizers/custom_graph_optimizer_registry.cc:112] Plugin optimizer for device_type GPU is enabled.\n",
      "2021-12-03 21:19:45.026088: I tensorflow/core/grappler/optimizers/custom_graph_optimizer_registry.cc:112] Plugin optimizer for device_type GPU is enabled.\n",
      "2021-12-03 21:19:47.348602: I tensorflow/core/grappler/optimizers/custom_graph_optimizer_registry.cc:112] Plugin optimizer for device_type GPU is enabled.\n",
      "2021-12-03 21:19:49.879664: I tensorflow/core/grappler/optimizers/custom_graph_optimizer_registry.cc:112] Plugin optimizer for device_type GPU is enabled.\n",
      "2021-12-03 21:19:52.241536: I tensorflow/core/grappler/optimizers/custom_graph_optimizer_registry.cc:112] Plugin optimizer for device_type GPU is enabled.\n",
      "2021-12-03 21:19:54.575172: I tensorflow/core/grappler/optimizers/custom_graph_optimizer_registry.cc:112] Plugin optimizer for device_type GPU is enabled.\n",
      "2021-12-03 21:19:57.005028: I tensorflow/core/grappler/optimizers/custom_graph_optimizer_registry.cc:112] Plugin optimizer for device_type GPU is enabled.\n",
      "2021-12-03 21:19:59.353155: I tensorflow/core/grappler/optimizers/custom_graph_optimizer_registry.cc:112] Plugin optimizer for device_type GPU is enabled.\n",
      "2021-12-03 21:20:01.752089: I tensorflow/core/grappler/optimizers/custom_graph_optimizer_registry.cc:112] Plugin optimizer for device_type GPU is enabled.\n",
      "2021-12-03 21:20:03.995258: I tensorflow/core/grappler/optimizers/custom_graph_optimizer_registry.cc:112] Plugin optimizer for device_type GPU is enabled.\n",
      "2021-12-03 21:20:06.478778: I tensorflow/core/grappler/optimizers/custom_graph_optimizer_registry.cc:112] Plugin optimizer for device_type GPU is enabled.\n",
      "2021-12-03 21:20:08.994306: I tensorflow/core/grappler/optimizers/custom_graph_optimizer_registry.cc:112] Plugin optimizer for device_type GPU is enabled.\n",
      "2021-12-03 21:20:11.512573: I tensorflow/core/grappler/optimizers/custom_graph_optimizer_registry.cc:112] Plugin optimizer for device_type GPU is enabled.\n",
      "2021-12-03 21:20:14.603018: I tensorflow/core/grappler/optimizers/custom_graph_optimizer_registry.cc:112] Plugin optimizer for device_type GPU is enabled.\n",
      "2021-12-03 21:20:17.716025: I tensorflow/core/grappler/optimizers/custom_graph_optimizer_registry.cc:112] Plugin optimizer for device_type GPU is enabled.\n"
     ]
    }
   ],
   "source": [
    "models = []\n",
    "\n",
    "metrics = [\n",
    "        keras.metrics.FalseNegatives(name=\"fn\"),\n",
    "        keras.metrics.FalsePositives(name=\"fp\"),\n",
    "        keras.metrics.TrueNegatives(name=\"tn\"),\n",
    "        keras.metrics.TruePositives(name=\"tp\"),\n",
    "        keras.metrics.Precision(name=\"precision\"),\n",
    "        keras.metrics.Recall(name=\"recall\"),\n",
    "    ]\n",
    "\n",
    "for i in range(20):\n",
    "    # create random undersampling of majority class\n",
    "    rus = RandomUnderSampler(random_state=i)\n",
    "    X_res, y_res = rus.fit_resample(train1_X, train1_y)\n",
    "\n",
    "\n",
    "    model_i = keras.Sequential(\n",
    "    [\n",
    "        keras.layers.Dense(400, activation=\"relu\", input_shape=(17393,)),\n",
    "        keras.layers.Dense(300, activation=\"relu\"),\n",
    "        keras.layers.Dropout(0.3),\n",
    "        keras.layers.Dense(1, activation=\"sigmoid\"),\n",
    "    ]\n",
    "    )\n",
    "\n",
    "\n",
    "    model_i.compile(\n",
    "        optimizer='adam', loss=\"binary_crossentropy\", metrics=metrics\n",
    "        )\n",
    "\n",
    "    model_i.fit(X_res, y_res, batch_size=len(X_res), epochs=40, verbose=0)\n",
    "\n",
    "    models.append(model_i)\n",
    "        "
   ]
  },
  {
   "cell_type": "markdown",
   "metadata": {},
   "source": [
    "**Confusion matrix on test**"
   ]
  },
  {
   "cell_type": "code",
   "execution_count": 19,
   "metadata": {},
   "outputs": [
    {
     "name": "stderr",
     "output_type": "stream",
     "text": [
      "2021-12-03 21:17:13.583302: I tensorflow/core/grappler/optimizers/custom_graph_optimizer_registry.cc:112] Plugin optimizer for device_type GPU is enabled.\n",
      "2021-12-03 21:17:13.692387: I tensorflow/core/grappler/optimizers/custom_graph_optimizer_registry.cc:112] Plugin optimizer for device_type GPU is enabled.\n",
      "2021-12-03 21:17:13.770587: I tensorflow/core/grappler/optimizers/custom_graph_optimizer_registry.cc:112] Plugin optimizer for device_type GPU is enabled.\n",
      "2021-12-03 21:17:13.855657: I tensorflow/core/grappler/optimizers/custom_graph_optimizer_registry.cc:112] Plugin optimizer for device_type GPU is enabled.\n",
      "2021-12-03 21:17:13.940201: I tensorflow/core/grappler/optimizers/custom_graph_optimizer_registry.cc:112] Plugin optimizer for device_type GPU is enabled.\n",
      "2021-12-03 21:17:14.015771: I tensorflow/core/grappler/optimizers/custom_graph_optimizer_registry.cc:112] Plugin optimizer for device_type GPU is enabled.\n",
      "2021-12-03 21:17:14.098017: I tensorflow/core/grappler/optimizers/custom_graph_optimizer_registry.cc:112] Plugin optimizer for device_type GPU is enabled.\n",
      "2021-12-03 21:17:14.180485: I tensorflow/core/grappler/optimizers/custom_graph_optimizer_registry.cc:112] Plugin optimizer for device_type GPU is enabled.\n"
     ]
    },
    {
     "data": {
      "text/plain": [
       "array([[110,   0],\n",
       "       [  0,  13]])"
      ]
     },
     "execution_count": 19,
     "metadata": {},
     "output_type": "execute_result"
    }
   ],
   "source": [
    "sum_pred = 0\n",
    "for i in range(len(models)):\n",
    "    sum_pred += models[i].predict(test1_X)\n",
    "\n",
    "ensemble_prediction = (sum_pred/len(models)) > 0.5\n",
    "conf_matr = confusion_matrix(test1_y, ensemble_prediction)\n",
    "conf_matr"
   ]
  },
  {
   "cell_type": "markdown",
   "metadata": {},
   "source": []
  },
  {
   "cell_type": "markdown",
   "metadata": {},
   "source": []
  },
  {
   "cell_type": "markdown",
   "metadata": {},
   "source": [
    "# **Variable selection with permutation importance**"
   ]
  },
  {
   "cell_type": "markdown",
   "metadata": {},
   "source": []
  },
  {
   "cell_type": "markdown",
   "metadata": {},
   "source": [
    "Feature importance techniques were developed to help assuage this interpretability crisis. Feature importance techniques assign a score to each predictor based on its ability to improve predictions. This allows us to rank the predictors in our model based on their relative predictive power.\n",
    "\n",
    "The idea behind feature importance is simple. Inputs that are useful for prediction contain valuable information. If you destroy that information by randomly shuffling the feature values, the quality of your predictions should decrease. If the decrease in quality is small, then the information in the original predictor wasn’t very impactful in determining your predictions — your model is still pretty good without it. Furthermore, if the decrease is large, then the information in the original predictor had a large impact on your predictions.\n",
    "\n",
    "This idea is implemented in three simple steps. Say that you’ve trained an ML model and recorded some measure of quality for the predictions (ex. MSE, log-loss, etc). For each predictor in the dataset:\n",
    "\n",
    "1. Randomly shuffle the data in the predictor while keeping the values of other predictors constant\n",
    "\n",
    "2. Generate new predictions based on the shuffled values and evaluate the quality of your new predictions\n",
    "\n",
    "3. Compute the feature importance score by calculating the decrease in the quality of your new predictions relative to your original predictions\n",
    "\n",
    "Once you’ve computed feature importance scores for all of your features, you can rank them in terms of predictive usefulness. To help explain permutation feature importance more concretely, consider the following synthetic case study."
   ]
  },
  {
   "cell_type": "code",
   "execution_count": 55,
   "metadata": {},
   "outputs": [],
   "source": [
    "def nn_model():\n",
    "    model_i = keras.Sequential([\n",
    "        keras.layers.Dense(400, activation=\"relu\", input_shape=(17393,)),\n",
    "        keras.layers.Dense(300, activation=\"relu\"),\n",
    "        keras.layers.Dropout(0.3),\n",
    "        keras.layers.Dense(1, activation=\"sigmoid\"),\n",
    "    ])\n",
    "\n",
    "    model_i.compile(optimizer='adam', loss=\"binary_crossentropy\", metrics=['accuracy'])\n",
    "\n",
    "    return model_i"
   ]
  },
  {
   "cell_type": "code",
   "execution_count": null,
   "metadata": {},
   "outputs": [],
   "source": [
    "sum_weight = 0\n",
    "\n",
    "for i in range(2):\n",
    "\n",
    "    # define the model\n",
    "    rus = RandomUnderSampler(random_state=i)\n",
    "    X_res, y_res = rus.fit_resample(train1_X, train1_y)\n",
    "\n",
    "    my_model = KerasClassifier(build_fn=nn_model)    \n",
    "    my_model.fit(X_res,y_res)\n",
    "\n",
    "    perm = PermutationImportance(my_model, random_state=i).fit(test1_X, test1_y)\n",
    "    sum_weight += eli5.show_weights(perm, test1_X.columns.tolist())\n",
    "    print(\"done: \" + str(i))\n",
    "\n",
    "avg_weigth = sum_weight/len(models)"
   ]
  },
  {
   "cell_type": "code",
   "execution_count": null,
   "metadata": {},
   "outputs": [],
   "source": [
    "avg_weigth[:120].plot.bar(figsize = (25, 10), color = 'r')\n",
    "plt.title('NN Permutation Importance Importance (Top 120)')\n",
    "plt.xlabel('Features')\n",
    "plt.show()"
   ]
  },
  {
   "cell_type": "markdown",
   "metadata": {},
   "source": [
    "# **Test permutation importance on iris dataset**"
   ]
  },
  {
   "cell_type": "markdown",
   "metadata": {},
   "source": []
  },
  {
   "cell_type": "code",
   "execution_count": 57,
   "metadata": {},
   "outputs": [],
   "source": [
    "from sklearn.datasets import load_iris\n",
    "from sklearn.model_selection import train_test_split\n",
    "from sklearn.preprocessing import OneHotEncoder, StandardScaler\n",
    "\n",
    "iris = load_iris()\n",
    "X = iris['data']\n",
    "y = iris['target']\n",
    "names = iris['target_names']\n",
    "feature_names = iris['feature_names']\n",
    "\n",
    "# One hot encoding\n",
    "enc = OneHotEncoder()\n",
    "Y = enc.fit_transform(y[:, np.newaxis]).toarray()\n",
    "\n",
    "# Scale data to have mean 0 and variance 1 \n",
    "# which is importance for convergence of the neural network\n",
    "scaler = StandardScaler()\n",
    "X_scaled = scaler.fit_transform(X)\n",
    "\n",
    "# Split the data set into training and testing\n",
    "X_train, X_test, Y_train, Y_test = train_test_split(\n",
    "    X_scaled, Y, test_size=0.5, random_state=2)\n",
    "\n",
    "n_features = X.shape[1]\n",
    "n_classes = Y.shape[1]"
   ]
  },
  {
   "cell_type": "code",
   "execution_count": 58,
   "metadata": {},
   "outputs": [
    {
     "data": {
      "image/png": "[encoded data removed]",
      "text/plain": [
       "<Figure size 1152x432 with 2 Axes>"
      ]
     },
     "metadata": {
      "needs_background": "light"
     },
     "output_type": "display_data"
    }
   ],
   "source": [
    "# Visualize the data sets\n",
    "plt.figure(figsize=(16, 6))\n",
    "plt.subplot(1, 2, 1)\n",
    "for target, target_name in enumerate(names):\n",
    "    X_plot = X[y == target]\n",
    "    plt.plot(X_plot[:, 0], X_plot[:, 1], linestyle='none', marker='o', label=target_name)\n",
    "plt.xlabel(feature_names[0])\n",
    "plt.ylabel(feature_names[1])\n",
    "plt.axis('equal')\n",
    "plt.legend();\n",
    "\n",
    "plt.subplot(1, 2, 2)\n",
    "for target, target_name in enumerate(names):\n",
    "    X_plot = X[y == target]\n",
    "    plt.plot(X_plot[:, 2], X_plot[:, 3], linestyle='none', marker='o', label=target_name)\n",
    "plt.xlabel(feature_names[2])\n",
    "plt.ylabel(feature_names[3])\n",
    "plt.axis('equal')\n",
    "plt.legend();"
   ]
  },
  {
   "cell_type": "code",
   "execution_count": null,
   "metadata": {},
   "outputs": [],
   "source": [
    "sum_weight = 0\n",
    "\n",
    "def nn_model():\n",
    "    model_i = keras.Sequential([\n",
    "        keras.layers.Dense(8, activation=\"relu\", input_shape=(4,)),\n",
    "        keras.layers.Dense(4, activation=\"relu\"),\n",
    "        keras.layers.Dropout(0.3),\n",
    "        keras.layers.Dense(3, activation=\"softmax\"),\n",
    "    ])\n",
    "\n",
    "    model_i.compile(optimizer='adam', loss=\"categorical_crossentropy\", metrics=['accuracy'])\n",
    "\n",
    "    return model_i\n",
    "\n",
    "for i in range(10):\n",
    "\n",
    "    # define the model\n",
    "    rus = RandomUnderSampler(random_state=i)\n",
    "    X_res, y_res = rus.fit_resample(X_train, Y_train)\n",
    "\n",
    "    my_model = KerasClassifier(build_fn=nn_model)    \n",
    "    my_model.fit(X_res,y_res)\n",
    "\n",
    "    perm = PermutationImportance(my_model, random_state=i).fit(X_test, Y_test)\n",
    "    sum_weight += perm.feature_importances_\n",
    "\n",
    "avg_importance = pd.DataFrame(sorted(sum_weight/10, reverse=True))"
   ]
  },
  {
   "cell_type": "code",
   "execution_count": 96,
   "metadata": {},
   "outputs": [
    {
     "data": {
      "image/png": "[encoded data removed]",
      "text/plain": [
       "<Figure size 1800x720 with 1 Axes>"
      ]
     },
     "metadata": {
      "needs_background": "light"
     },
     "output_type": "display_data"
    }
   ],
   "source": [
    "pd.DataFrame(avg_importance[:3]).plot.bar(figsize = (25, 10), color = 'r')\n",
    "plt.title('NN Permutation Importance Importance on Iris')\n",
    "plt.xlabel('Features')\n",
    "plt.show()"
   ]
  },
  {
   "cell_type": "code",
   "execution_count": null,
   "metadata": {},
   "outputs": [],
   "source": []
  }
 ],
 "metadata": {
  "interpreter": {
   "hash": "31f2aee4e71d21fbe5cf8b01ff0e069b9275f58929596ceb00d14d90e3e16cd6"
  },
  "kernelspec": {
   "display_name": "Python 3.9.2 64-bit ('3.9')",
   "language": "python",
   "name": "python3"
  },
  "language_info": {
   "codemirror_mode": {
    "name": "ipython",
    "version": 3
   },
   "file_extension": ".py",
   "mimetype": "text/x-python",
   "name": "python",
   "nbconvert_exporter": "python",
   "pygments_lexer": "ipython3",
   "version": "3.9.0"
  },
  "orig_nbformat": 4
 },
 "nbformat": 4,
 "nbformat_minor": 2
}
