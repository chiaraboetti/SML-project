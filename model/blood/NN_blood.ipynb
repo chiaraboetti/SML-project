{
 "cells": [
  {
   "cell_type": "markdown",
   "metadata": {},
   "source": [
    "# **Import the dataset and SMOTE**"
   ]
  },
  {
   "cell_type": "code",
   "execution_count": 1,
   "metadata": {},
   "outputs": [],
   "source": [
    "import tensorflow as tf\n",
    "from tensorflow import keras\n",
    "from tensorflow.keras.activations import elu\n",
    "from keras import backend as K\n",
    "import pandas as pd\n",
    "from imblearn.over_sampling import SMOTE \n",
    "from sklearn.metrics import confusion_matrix\n",
    "from imblearn.under_sampling import RandomUnderSampler\n",
    "import numpy as np\n",
    "from sklearn.model_selection import train_test_split\n",
    "import matplotlib.pyplot as plt\n",
    "from keras.wrappers.scikit_learn import KerasClassifier, KerasRegressor\n",
    "import eli5\n",
    "from eli5.sklearn import PermutationImportance"
   ]
  },
  {
   "cell_type": "code",
   "execution_count": 4,
   "metadata": {},
   "outputs": [],
   "source": [
    "dataset = pd.read_csv('../../dataset/blood_dataset.csv').iloc[:, 2:]\n",
    "data1, data2 =  train_test_split(dataset, test_size=0.4, random_state=42)\n",
    "train1, test1  = train_test_split(data1, test_size=0.2, random_state=46)\n",
    "train2, test2  = train_test_split(data2, test_size=0.2, random_state=32)"
   ]
  },
  {
   "cell_type": "code",
   "execution_count": 5,
   "metadata": {},
   "outputs": [],
   "source": [
    "train1_X = train1.iloc[:,:-1]\n",
    "train1_y = train1.iloc[:,-1]\n",
    "test1_X = test1.iloc[:,:-1]\n",
    "test1_y = test1.iloc[:,-1]"
   ]
  },
  {
   "cell_type": "code",
   "execution_count": 6,
   "metadata": {},
   "outputs": [
    {
     "data": {
      "text/html": [
       "<div>\n",
       "<style scoped>\n",
       "    .dataframe tbody tr th:only-of-type {\n",
       "        vertical-align: middle;\n",
       "    }\n",
       "\n",
       "    .dataframe tbody tr th {\n",
       "        vertical-align: top;\n",
       "    }\n",
       "\n",
       "    .dataframe thead th {\n",
       "        text-align: right;\n",
       "    }\n",
       "</style>\n",
       "<table border=\"1\" class=\"dataframe\">\n",
       "  <thead>\n",
       "    <tr style=\"text-align: right;\">\n",
       "      <th></th>\n",
       "      <th>A1BG..1.</th>\n",
       "      <th>A1CF..29974.</th>\n",
       "      <th>A2M..2.</th>\n",
       "      <th>A2ML1..144568.</th>\n",
       "      <th>A3GALT2..127550.</th>\n",
       "      <th>A4GALT..53947.</th>\n",
       "      <th>A4GNT..51146.</th>\n",
       "      <th>AAAS..8086.</th>\n",
       "      <th>AACS..65985.</th>\n",
       "      <th>AADAC..13.</th>\n",
       "      <th>...</th>\n",
       "      <th>ZWILCH..55055.</th>\n",
       "      <th>ZWINT..11130.</th>\n",
       "      <th>ZXDA..7789.</th>\n",
       "      <th>ZXDB..158586.</th>\n",
       "      <th>ZXDC..79364.</th>\n",
       "      <th>ZYG11A..440590.</th>\n",
       "      <th>ZYG11B..79699.</th>\n",
       "      <th>ZYX..7791.</th>\n",
       "      <th>ZZEF1..23140.</th>\n",
       "      <th>ZZZ3..26009.</th>\n",
       "    </tr>\n",
       "  </thead>\n",
       "  <tbody>\n",
       "    <tr>\n",
       "      <th>650</th>\n",
       "      <td>0.147080</td>\n",
       "      <td>0.445694</td>\n",
       "      <td>0.017483</td>\n",
       "      <td>0.007169</td>\n",
       "      <td>0.045457</td>\n",
       "      <td>0.014632</td>\n",
       "      <td>0.067986</td>\n",
       "      <td>0.403468</td>\n",
       "      <td>0.035305</td>\n",
       "      <td>0.042075</td>\n",
       "      <td>...</td>\n",
       "      <td>0.123353</td>\n",
       "      <td>0.942294</td>\n",
       "      <td>0.054111</td>\n",
       "      <td>0.003993</td>\n",
       "      <td>0.023763</td>\n",
       "      <td>0.006771</td>\n",
       "      <td>0.074534</td>\n",
       "      <td>0.030963</td>\n",
       "      <td>0.040735</td>\n",
       "      <td>0.273131</td>\n",
       "    </tr>\n",
       "    <tr>\n",
       "      <th>819</th>\n",
       "      <td>0.041403</td>\n",
       "      <td>0.044806</td>\n",
       "      <td>0.015059</td>\n",
       "      <td>0.017849</td>\n",
       "      <td>0.014064</td>\n",
       "      <td>0.072826</td>\n",
       "      <td>0.114187</td>\n",
       "      <td>0.050226</td>\n",
       "      <td>0.030321</td>\n",
       "      <td>0.013896</td>\n",
       "      <td>...</td>\n",
       "      <td>0.833055</td>\n",
       "      <td>0.716253</td>\n",
       "      <td>0.012140</td>\n",
       "      <td>0.015239</td>\n",
       "      <td>0.019902</td>\n",
       "      <td>0.045649</td>\n",
       "      <td>0.077900</td>\n",
       "      <td>0.049628</td>\n",
       "      <td>0.058832</td>\n",
       "      <td>0.250032</td>\n",
       "    </tr>\n",
       "    <tr>\n",
       "      <th>704</th>\n",
       "      <td>0.010526</td>\n",
       "      <td>0.014056</td>\n",
       "      <td>0.043156</td>\n",
       "      <td>0.031235</td>\n",
       "      <td>0.018561</td>\n",
       "      <td>0.056506</td>\n",
       "      <td>0.022698</td>\n",
       "      <td>0.173124</td>\n",
       "      <td>0.020605</td>\n",
       "      <td>0.015097</td>\n",
       "      <td>...</td>\n",
       "      <td>0.010972</td>\n",
       "      <td>0.787811</td>\n",
       "      <td>0.073192</td>\n",
       "      <td>0.029455</td>\n",
       "      <td>0.077723</td>\n",
       "      <td>0.019042</td>\n",
       "      <td>0.092804</td>\n",
       "      <td>0.050415</td>\n",
       "      <td>0.481685</td>\n",
       "      <td>0.427200</td>\n",
       "    </tr>\n",
       "    <tr>\n",
       "      <th>898</th>\n",
       "      <td>0.021123</td>\n",
       "      <td>0.058064</td>\n",
       "      <td>0.021918</td>\n",
       "      <td>0.014077</td>\n",
       "      <td>0.175457</td>\n",
       "      <td>0.020636</td>\n",
       "      <td>0.015101</td>\n",
       "      <td>0.076689</td>\n",
       "      <td>0.224626</td>\n",
       "      <td>0.043011</td>\n",
       "      <td>...</td>\n",
       "      <td>0.657375</td>\n",
       "      <td>0.309251</td>\n",
       "      <td>0.018342</td>\n",
       "      <td>0.016745</td>\n",
       "      <td>0.041365</td>\n",
       "      <td>0.013402</td>\n",
       "      <td>0.059737</td>\n",
       "      <td>0.085355</td>\n",
       "      <td>0.077031</td>\n",
       "      <td>0.298912</td>\n",
       "    </tr>\n",
       "    <tr>\n",
       "      <th>389</th>\n",
       "      <td>0.037622</td>\n",
       "      <td>0.035071</td>\n",
       "      <td>0.052090</td>\n",
       "      <td>0.060095</td>\n",
       "      <td>0.084555</td>\n",
       "      <td>0.038729</td>\n",
       "      <td>0.086327</td>\n",
       "      <td>0.719724</td>\n",
       "      <td>0.044339</td>\n",
       "      <td>0.039472</td>\n",
       "      <td>...</td>\n",
       "      <td>0.153459</td>\n",
       "      <td>0.165303</td>\n",
       "      <td>0.011806</td>\n",
       "      <td>0.087887</td>\n",
       "      <td>0.019427</td>\n",
       "      <td>0.031437</td>\n",
       "      <td>0.047821</td>\n",
       "      <td>0.103173</td>\n",
       "      <td>0.265542</td>\n",
       "      <td>0.112986</td>\n",
       "    </tr>\n",
       "  </tbody>\n",
       "</table>\n",
       "<p>5 rows × 17393 columns</p>\n",
       "</div>"
      ],
      "text/plain": [
       "     A1BG..1.  A1CF..29974.   A2M..2.  A2ML1..144568.  A3GALT2..127550.  \\\n",
       "650  0.147080      0.445694  0.017483        0.007169          0.045457   \n",
       "819  0.041403      0.044806  0.015059        0.017849          0.014064   \n",
       "704  0.010526      0.014056  0.043156        0.031235          0.018561   \n",
       "898  0.021123      0.058064  0.021918        0.014077          0.175457   \n",
       "389  0.037622      0.035071  0.052090        0.060095          0.084555   \n",
       "\n",
       "     A4GALT..53947.  A4GNT..51146.  AAAS..8086.  AACS..65985.  AADAC..13.  \\\n",
       "650        0.014632       0.067986     0.403468      0.035305    0.042075   \n",
       "819        0.072826       0.114187     0.050226      0.030321    0.013896   \n",
       "704        0.056506       0.022698     0.173124      0.020605    0.015097   \n",
       "898        0.020636       0.015101     0.076689      0.224626    0.043011   \n",
       "389        0.038729       0.086327     0.719724      0.044339    0.039472   \n",
       "\n",
       "     ...  ZWILCH..55055.  ZWINT..11130.  ZXDA..7789.  ZXDB..158586.  \\\n",
       "650  ...        0.123353       0.942294     0.054111       0.003993   \n",
       "819  ...        0.833055       0.716253     0.012140       0.015239   \n",
       "704  ...        0.010972       0.787811     0.073192       0.029455   \n",
       "898  ...        0.657375       0.309251     0.018342       0.016745   \n",
       "389  ...        0.153459       0.165303     0.011806       0.087887   \n",
       "\n",
       "     ZXDC..79364.  ZYG11A..440590.  ZYG11B..79699.  ZYX..7791.  ZZEF1..23140.  \\\n",
       "650      0.023763         0.006771        0.074534    0.030963       0.040735   \n",
       "819      0.019902         0.045649        0.077900    0.049628       0.058832   \n",
       "704      0.077723         0.019042        0.092804    0.050415       0.481685   \n",
       "898      0.041365         0.013402        0.059737    0.085355       0.077031   \n",
       "389      0.019427         0.031437        0.047821    0.103173       0.265542   \n",
       "\n",
       "     ZZZ3..26009.  \n",
       "650      0.273131  \n",
       "819      0.250032  \n",
       "704      0.427200  \n",
       "898      0.298912  \n",
       "389      0.112986  \n",
       "\n",
       "[5 rows x 17393 columns]"
      ]
     },
     "execution_count": 6,
     "metadata": {},
     "output_type": "execute_result"
    }
   ],
   "source": [
    "train1_X.head()"
   ]
  },
  {
   "cell_type": "markdown",
   "metadata": {},
   "source": []
  },
  {
   "cell_type": "markdown",
   "metadata": {},
   "source": [
    "# **Ensemble model of NN**"
   ]
  },
  {
   "cell_type": "markdown",
   "metadata": {},
   "source": [
    "The idea is to fit $k + 1$ NNs models:\n",
    "\n",
    "1. the first one will be the one trained on all lung obs and an equal number of non-lung obs randomly selected\n",
    "2. ...\n",
    "3. ...\n",
    "\n",
    "And so forth up top the $k$-th model. \n",
    "We then define the prediction in voting fashion, possibly with a weight (i.e. a vote for lung could count more than a vote for non-lung).\n",
    "\n",
    "As loss function we use the Focal Loss. Here’s the main idea: in our dataset, we will naturally have some training examples that are easier to classify than others (non-lung). During training, these examples will be classified with 99% accuracy, while other more challenging ones may still exhibit poor performance. The problem is that those easily classified training examples are still contributing to the loss. Why are we still giving them equal weight when there are other more challenging data points that if correctly classified can contribute much more to our overall accuracy?\n",
    "\n",
    "$$FL(p_t) = \\alpha \\cdot (1-p_t)^\\gamma \\cdot \\log{p_t}$$\n",
    "\n",
    "Focal loss down-weights the well-classified examples. This has the net effect of putting more training emphasis on that data that is hard to classify! In a practical setting where we have a data imbalance, our majority class will quickly become well-classified since we have much more data for it. Thus, in order to insure that we also achieve high accuracy on our minority class, we can use the focal loss to give those minority class examples more relative weight during training. "
   ]
  },
  {
   "cell_type": "code",
   "execution_count": 7,
   "metadata": {},
   "outputs": [],
   "source": [
    "def binary_focal_loss(gamma=2., alpha=.25):\n",
    "    \"\"\"\n",
    "    Binary form of focal loss.\n",
    "      FL(p_t) = -alpha * (1 - p_t)**gamma * log(p_t)\n",
    "      where p = sigmoid(x), p_t = p or 1 - p depending on if the label is 1 or 0, respectively.\n",
    "    References:\n",
    "        https://arxiv.org/pdf/1708.02002.pdf\n",
    "    Usage:\n",
    "     model.compile(loss=[binary_focal_loss(alpha=.25, gamma=2)], metrics=[\"accuracy\"], optimizer=adam)\n",
    "    \"\"\"\n",
    "\n",
    "    def binary_focal_loss_fixed(y_true, y_pred):\n",
    "        \"\"\"\n",
    "        :param y_true: A tensor of the same shape as y_pred\n",
    "        :param y_pred:  A tensor resulting from a sigmoid\n",
    "        :return: Output tensor.\n",
    "        \"\"\"\n",
    "        y_true = tf.cast(y_true, tf.float32)\n",
    "        # Define epsilon so that the back-propagation will not result in NaN for 0 divisor case\n",
    "        epsilon = K.epsilon()\n",
    "        # Add the epsilon to prediction value\n",
    "        # y_pred = y_pred + epsilon\n",
    "        # Clip the prediciton value\n",
    "        y_pred = K.clip(y_pred, epsilon, 1.0 - epsilon)\n",
    "        # Calculate p_t\n",
    "        p_t = tf.where(K.equal(y_true, 1), y_pred, 1 - y_pred)\n",
    "        # Calculate alpha_t\n",
    "        alpha_factor = K.ones_like(y_true) * alpha\n",
    "        alpha_t = tf.where(K.equal(y_true, 1), alpha_factor, 1 - alpha_factor)\n",
    "        # Calculate cross entropy\n",
    "        cross_entropy = -K.log(p_t)\n",
    "        weight = alpha_t * K.pow((1 - p_t), gamma)\n",
    "        # Calculate focal loss\n",
    "        loss = weight * cross_entropy\n",
    "        # Sum the losses in mini_batch\n",
    "        loss = K.mean(K.sum(loss, axis=1))\n",
    "        return loss\n",
    "\n",
    "    return binary_focal_loss_fixed"
   ]
  },
  {
   "cell_type": "markdown",
   "metadata": {},
   "source": [
    "**$k$ undersampling NNs models**"
   ]
  },
  {
   "cell_type": "code",
   "execution_count": 8,
   "metadata": {},
   "outputs": [
    {
     "name": "stdout",
     "output_type": "stream",
     "text": [
      "Metal device set to: Apple M1\n",
      "\n",
      "systemMemory: 8.00 GB\n",
      "maxCacheSize: 2.67 GB\n",
      "\n"
     ]
    },
    {
     "name": "stderr",
     "output_type": "stream",
     "text": [
      "2021-12-04 09:44:25.282481: I tensorflow/core/common_runtime/pluggable_device/pluggable_device_factory.cc:305] Could not identify NUMA node of platform GPU ID 0, defaulting to 0. Your kernel may not have been built with NUMA support.\n",
      "2021-12-04 09:44:25.283466: I tensorflow/core/common_runtime/pluggable_device/pluggable_device_factory.cc:271] Created TensorFlow device (/job:localhost/replica:0/task:0/device:GPU:0 with 0 MB memory) -> physical PluggableDevice (device: 0, name: METAL, pci bus id: <undefined>)\n",
      "2021-12-04 09:44:26.472014: I tensorflow/compiler/mlir/mlir_graph_optimization_pass.cc:185] None of the MLIR Optimization Passes are enabled (registered 2)\n",
      "2021-12-04 09:44:26.475543: W tensorflow/core/platform/profile_utils/cpu_utils.cc:128] Failed to get CPU frequency: 0 Hz\n",
      "2021-12-04 09:44:26.857888: I tensorflow/core/grappler/optimizers/custom_graph_optimizer_registry.cc:112] Plugin optimizer for device_type GPU is enabled.\n",
      "2021-12-04 09:44:29.297424: I tensorflow/core/grappler/optimizers/custom_graph_optimizer_registry.cc:112] Plugin optimizer for device_type GPU is enabled.\n",
      "2021-12-04 09:44:31.649396: I tensorflow/core/grappler/optimizers/custom_graph_optimizer_registry.cc:112] Plugin optimizer for device_type GPU is enabled.\n",
      "2021-12-04 09:44:33.921672: I tensorflow/core/grappler/optimizers/custom_graph_optimizer_registry.cc:112] Plugin optimizer for device_type GPU is enabled.\n",
      "2021-12-04 09:44:36.266940: I tensorflow/core/grappler/optimizers/custom_graph_optimizer_registry.cc:112] Plugin optimizer for device_type GPU is enabled.\n",
      "2021-12-04 09:44:38.579834: I tensorflow/core/grappler/optimizers/custom_graph_optimizer_registry.cc:112] Plugin optimizer for device_type GPU is enabled.\n",
      "2021-12-04 09:44:40.849145: I tensorflow/core/grappler/optimizers/custom_graph_optimizer_registry.cc:112] Plugin optimizer for device_type GPU is enabled.\n",
      "2021-12-04 09:44:43.119894: I tensorflow/core/grappler/optimizers/custom_graph_optimizer_registry.cc:112] Plugin optimizer for device_type GPU is enabled.\n",
      "2021-12-04 09:44:45.433524: I tensorflow/core/grappler/optimizers/custom_graph_optimizer_registry.cc:112] Plugin optimizer for device_type GPU is enabled.\n",
      "2021-12-04 09:44:47.649775: I tensorflow/core/grappler/optimizers/custom_graph_optimizer_registry.cc:112] Plugin optimizer for device_type GPU is enabled.\n",
      "2021-12-04 09:44:49.973249: I tensorflow/core/grappler/optimizers/custom_graph_optimizer_registry.cc:112] Plugin optimizer for device_type GPU is enabled.\n",
      "2021-12-04 09:44:52.345972: I tensorflow/core/grappler/optimizers/custom_graph_optimizer_registry.cc:112] Plugin optimizer for device_type GPU is enabled.\n",
      "2021-12-04 09:44:54.696499: I tensorflow/core/grappler/optimizers/custom_graph_optimizer_registry.cc:112] Plugin optimizer for device_type GPU is enabled.\n",
      "2021-12-04 09:44:57.025402: I tensorflow/core/grappler/optimizers/custom_graph_optimizer_registry.cc:112] Plugin optimizer for device_type GPU is enabled.\n",
      "2021-12-04 09:44:59.404502: I tensorflow/core/grappler/optimizers/custom_graph_optimizer_registry.cc:112] Plugin optimizer for device_type GPU is enabled.\n",
      "2021-12-04 09:45:01.656102: I tensorflow/core/grappler/optimizers/custom_graph_optimizer_registry.cc:112] Plugin optimizer for device_type GPU is enabled.\n",
      "2021-12-04 09:45:04.024605: I tensorflow/core/grappler/optimizers/custom_graph_optimizer_registry.cc:112] Plugin optimizer for device_type GPU is enabled.\n",
      "2021-12-04 09:45:06.294075: I tensorflow/core/grappler/optimizers/custom_graph_optimizer_registry.cc:112] Plugin optimizer for device_type GPU is enabled.\n",
      "2021-12-04 09:45:08.733339: I tensorflow/core/grappler/optimizers/custom_graph_optimizer_registry.cc:112] Plugin optimizer for device_type GPU is enabled.\n",
      "2021-12-04 09:45:11.044050: I tensorflow/core/grappler/optimizers/custom_graph_optimizer_registry.cc:112] Plugin optimizer for device_type GPU is enabled.\n"
     ]
    }
   ],
   "source": [
    "models = []\n",
    "\n",
    "metrics = [\n",
    "        keras.metrics.FalseNegatives(name=\"fn\"),\n",
    "        keras.metrics.FalsePositives(name=\"fp\"),\n",
    "        keras.metrics.TrueNegatives(name=\"tn\"),\n",
    "        keras.metrics.TruePositives(name=\"tp\"),\n",
    "        keras.metrics.Precision(name=\"precision\"),\n",
    "        keras.metrics.Recall(name=\"recall\"),\n",
    "    ]\n",
    "\n",
    "for i in range(20):\n",
    "    # create random undersampling of majority class\n",
    "    rus = RandomUnderSampler(random_state=i)\n",
    "    X_res, y_res = rus.fit_resample(train1_X, train1_y)\n",
    "\n",
    "\n",
    "    model_i = keras.Sequential(\n",
    "    [\n",
    "        keras.layers.Dense(400, activation=\"relu\", input_shape=(17393,)),\n",
    "        keras.layers.Dense(300, activation=\"relu\"),\n",
    "        keras.layers.Dropout(0.3),\n",
    "        keras.layers.Dense(1, activation=\"sigmoid\"),\n",
    "    ]\n",
    "    )\n",
    "\n",
    "\n",
    "    model_i.compile(\n",
    "        optimizer='adam', loss=\"binary_crossentropy\", metrics=metrics\n",
    "        )\n",
    "\n",
    "    model_i.fit(X_res, y_res, batch_size=len(X_res), epochs=40, verbose=0)\n",
    "\n",
    "    models.append(model_i)\n",
    "        "
   ]
  },
  {
   "cell_type": "markdown",
   "metadata": {},
   "source": [
    "**Confusion matrix on test**"
   ]
  },
  {
   "cell_type": "code",
   "execution_count": 9,
   "metadata": {},
   "outputs": [
    {
     "name": "stderr",
     "output_type": "stream",
     "text": [
      "2021-12-04 09:45:15.271993: I tensorflow/core/grappler/optimizers/custom_graph_optimizer_registry.cc:112] Plugin optimizer for device_type GPU is enabled.\n",
      "2021-12-04 09:45:15.355679: I tensorflow/core/grappler/optimizers/custom_graph_optimizer_registry.cc:112] Plugin optimizer for device_type GPU is enabled.\n",
      "2021-12-04 09:45:15.435737: I tensorflow/core/grappler/optimizers/custom_graph_optimizer_registry.cc:112] Plugin optimizer for device_type GPU is enabled.\n",
      "2021-12-04 09:45:15.521349: I tensorflow/core/grappler/optimizers/custom_graph_optimizer_registry.cc:112] Plugin optimizer for device_type GPU is enabled.\n",
      "2021-12-04 09:45:15.604916: I tensorflow/core/grappler/optimizers/custom_graph_optimizer_registry.cc:112] Plugin optimizer for device_type GPU is enabled.\n",
      "2021-12-04 09:45:15.695126: I tensorflow/core/grappler/optimizers/custom_graph_optimizer_registry.cc:112] Plugin optimizer for device_type GPU is enabled.\n",
      "2021-12-04 09:45:15.789010: I tensorflow/core/grappler/optimizers/custom_graph_optimizer_registry.cc:112] Plugin optimizer for device_type GPU is enabled.\n",
      "2021-12-04 09:45:15.877353: I tensorflow/core/grappler/optimizers/custom_graph_optimizer_registry.cc:112] Plugin optimizer for device_type GPU is enabled.\n",
      "2021-12-04 09:45:15.963752: I tensorflow/core/grappler/optimizers/custom_graph_optimizer_registry.cc:112] Plugin optimizer for device_type GPU is enabled.\n",
      "2021-12-04 09:45:16.042837: I tensorflow/core/grappler/optimizers/custom_graph_optimizer_registry.cc:112] Plugin optimizer for device_type GPU is enabled.\n",
      "2021-12-04 09:45:16.128119: I tensorflow/core/grappler/optimizers/custom_graph_optimizer_registry.cc:112] Plugin optimizer for device_type GPU is enabled.\n",
      "2021-12-04 09:45:16.223339: I tensorflow/core/grappler/optimizers/custom_graph_optimizer_registry.cc:112] Plugin optimizer for device_type GPU is enabled.\n",
      "2021-12-04 09:45:16.321497: I tensorflow/core/grappler/optimizers/custom_graph_optimizer_registry.cc:112] Plugin optimizer for device_type GPU is enabled.\n",
      "2021-12-04 09:45:16.412180: I tensorflow/core/grappler/optimizers/custom_graph_optimizer_registry.cc:112] Plugin optimizer for device_type GPU is enabled.\n",
      "2021-12-04 09:45:16.494582: I tensorflow/core/grappler/optimizers/custom_graph_optimizer_registry.cc:112] Plugin optimizer for device_type GPU is enabled.\n",
      "2021-12-04 09:45:16.580060: I tensorflow/core/grappler/optimizers/custom_graph_optimizer_registry.cc:112] Plugin optimizer for device_type GPU is enabled.\n",
      "2021-12-04 09:45:16.657675: I tensorflow/core/grappler/optimizers/custom_graph_optimizer_registry.cc:112] Plugin optimizer for device_type GPU is enabled.\n",
      "2021-12-04 09:45:16.746302: I tensorflow/core/grappler/optimizers/custom_graph_optimizer_registry.cc:112] Plugin optimizer for device_type GPU is enabled.\n",
      "2021-12-04 09:45:16.850233: I tensorflow/core/grappler/optimizers/custom_graph_optimizer_registry.cc:112] Plugin optimizer for device_type GPU is enabled.\n",
      "2021-12-04 09:45:16.936465: I tensorflow/core/grappler/optimizers/custom_graph_optimizer_registry.cc:112] Plugin optimizer for device_type GPU is enabled.\n"
     ]
    },
    {
     "data": {
      "text/plain": [
       "array([[109,   1],\n",
       "       [  0,  13]])"
      ]
     },
     "execution_count": 9,
     "metadata": {},
     "output_type": "execute_result"
    }
   ],
   "source": [
    "sum_pred = 0\n",
    "for i in range(len(models)):\n",
    "    sum_pred += models[i].predict(test1_X)\n",
    "\n",
    "ensemble_prediction = (sum_pred/len(models)) > 0.5\n",
    "conf_matr = confusion_matrix(test1_y, ensemble_prediction)\n",
    "conf_matr"
   ]
  },
  {
   "cell_type": "markdown",
   "metadata": {},
   "source": []
  },
  {
   "cell_type": "markdown",
   "metadata": {},
   "source": []
  },
  {
   "cell_type": "markdown",
   "metadata": {},
   "source": [
    "# **Variable selection with permutation importance**"
   ]
  },
  {
   "cell_type": "markdown",
   "metadata": {},
   "source": []
  },
  {
   "cell_type": "markdown",
   "metadata": {},
   "source": [
    "Feature importance techniques were developed to help assuage this interpretability crisis. Feature importance techniques assign a score to each predictor based on its ability to improve predictions. This allows us to rank the predictors in our model based on their relative predictive power.\n",
    "\n",
    "The idea behind feature importance is simple. Inputs that are useful for prediction contain valuable information. If you destroy that information by randomly shuffling the feature values, the quality of your predictions should decrease. If the decrease in quality is small, then the information in the original predictor wasn’t very impactful in determining your predictions — your model is still pretty good without it. Furthermore, if the decrease is large, then the information in the original predictor had a large impact on your predictions.\n",
    "\n",
    "This idea is implemented in three simple steps. Say that you’ve trained an ML model and recorded some measure of quality for the predictions (ex. MSE, log-loss, etc). For each predictor in the dataset:\n",
    "\n",
    "1. Randomly shuffle the data in the predictor while keeping the values of other predictors constant\n",
    "\n",
    "2. Generate new predictions based on the shuffled values and evaluate the quality of your new predictions\n",
    "\n",
    "3. Compute the feature importance score by calculating the decrease in the quality of your new predictions relative to your original predictions\n",
    "\n",
    "Once you’ve computed feature importance scores for all of your features, you can rank them in terms of predictive usefulness. To help explain permutation feature importance more concretely, consider the following synthetic case study."
   ]
  },
  {
   "cell_type": "code",
   "execution_count": 16,
   "metadata": {},
   "outputs": [],
   "source": [
    "def nn_model():\n",
    "    model_i = keras.Sequential([\n",
    "        keras.layers.Dense(400, activation=\"relu\", input_shape=(17393,)),\n",
    "        keras.layers.Dense(300, activation=\"relu\"),\n",
    "        keras.layers.Dropout(0.3),\n",
    "        keras.layers.Dense(1, activation=\"sigmoid\"),\n",
    "    ])\n",
    "\n",
    "    model_i.compile(optimizer='adam', loss=\"binary_crossentropy\", metrics=['accuracy'])\n",
    "\n",
    "    return model_i"
   ]
  },
  {
   "cell_type": "code",
   "execution_count": null,
   "metadata": {},
   "outputs": [],
   "source": [
    "sum_weight = 0\n",
    "\n",
    "for i in range(1):\n",
    "\n",
    "    # define the model\n",
    "    rus = RandomUnderSampler(random_state=i)\n",
    "    X_res, y_res = rus.fit_resample(train1_X, train1_y)\n",
    "\n",
    "    my_model = KerasClassifier(build_fn=nn_model)    \n",
    "    my_model.fit(X_res,y_res)\n",
    "\n",
    "    perm = PermutationImportance(my_model, random_state=i).fit(test1_X, test1_y)\n",
    "    sum_weight += perm.feature_importances_\n",
    "    print(\"done: \" + str(i))\n",
    "\n",
    "avg_importance = pd.DataFrame(sorted(sum_weight/1, reverse=True))"
   ]
  },
  {
   "cell_type": "code",
   "execution_count": null,
   "metadata": {},
   "outputs": [],
   "source": [
    "np.save('avg_importance', avg_importance) \n",
    "imp_blood = np.load('avg_importance.npy')"
   ]
  },
  {
   "cell_type": "code",
   "execution_count": null,
   "metadata": {},
   "outputs": [],
   "source": [
    "imp_blood[:120].plot.bar(figsize = (25, 10), color = 'r')\n",
    "plt.title('NN Permutation Importance Importance (Top 120)')\n",
    "plt.xlabel('Features')\n",
    "plt.show()"
   ]
  },
  {
   "cell_type": "markdown",
   "metadata": {},
   "source": [
    "# **Test permutation importance on iris dataset**"
   ]
  },
  {
   "cell_type": "markdown",
   "metadata": {},
   "source": []
  },
  {
   "cell_type": "code",
   "execution_count": 2,
   "metadata": {},
   "outputs": [],
   "source": [
    "from sklearn.datasets import load_iris\n",
    "from sklearn.model_selection import train_test_split\n",
    "from sklearn.preprocessing import OneHotEncoder, StandardScaler\n",
    "\n",
    "iris = load_iris()\n",
    "X = iris['data']\n",
    "y = iris['target']\n",
    "names = iris['target_names']\n",
    "feature_names = iris['feature_names']\n",
    "\n",
    "# One hot encoding\n",
    "enc = OneHotEncoder()\n",
    "Y = enc.fit_transform(y[:, np.newaxis]).toarray()\n",
    "\n",
    "# Scale data to have mean 0 and variance 1 \n",
    "# which is importance for convergence of the neural network\n",
    "scaler = StandardScaler()\n",
    "X_scaled = scaler.fit_transform(X)\n",
    "\n",
    "# Split the data set into training and testing\n",
    "X_train, X_test, Y_train, Y_test = train_test_split(\n",
    "    X_scaled, Y, test_size=0.5, random_state=2)\n",
    "\n",
    "n_features = X.shape[1]\n",
    "n_classes = Y.shape[1]"
   ]
  },
  {
   "cell_type": "code",
   "execution_count": 3,
   "metadata": {},
   "outputs": [
    {
     "data": {
      "image/png": "[encoded data removed]",
      "text/plain": [
       "<Figure size 1152x432 with 2 Axes>"
      ]
     },
     "metadata": {
      "needs_background": "light"
     },
     "output_type": "display_data"
    }
   ],
   "source": [
    "# Visualize the data sets\n",
    "plt.figure(figsize=(16, 6))\n",
    "plt.subplot(1, 2, 1)\n",
    "for target, target_name in enumerate(names):\n",
    "    X_plot = X[y == target]\n",
    "    plt.plot(X_plot[:, 0], X_plot[:, 1], linestyle='none', marker='o', label=target_name)\n",
    "plt.xlabel(feature_names[0])\n",
    "plt.ylabel(feature_names[1])\n",
    "plt.axis('equal')\n",
    "plt.legend();\n",
    "\n",
    "plt.subplot(1, 2, 2)\n",
    "for target, target_name in enumerate(names):\n",
    "    X_plot = X[y == target]\n",
    "    plt.plot(X_plot[:, 2], X_plot[:, 3], linestyle='none', marker='o', label=target_name)\n",
    "plt.xlabel(feature_names[2])\n",
    "plt.ylabel(feature_names[3])\n",
    "plt.axis('equal')\n",
    "plt.legend();"
   ]
  },
  {
   "cell_type": "code",
   "execution_count": 4,
   "metadata": {},
   "outputs": [
    {
     "name": "stderr",
     "output_type": "stream",
     "text": [
      "2021-12-05 22:32:27.754773: I tensorflow/core/common_runtime/pluggable_device/pluggable_device_factory.cc:305] Could not identify NUMA node of platform GPU ID 0, defaulting to 0. Your kernel may not have been built with NUMA support.\n",
      "2021-12-05 22:32:27.755199: I tensorflow/core/common_runtime/pluggable_device/pluggable_device_factory.cc:271] Created TensorFlow device (/job:localhost/replica:0/task:0/device:GPU:0 with 0 MB memory) -> physical PluggableDevice (device: 0, name: METAL, pci bus id: <undefined>)\n"
     ]
    },
    {
     "name": "stdout",
     "output_type": "stream",
     "text": [
      "Metal device set to: Apple M1\n",
      "\n",
      "systemMemory: 8.00 GB\n",
      "maxCacheSize: 2.67 GB\n",
      "\n"
     ]
    },
    {
     "name": "stderr",
     "output_type": "stream",
     "text": [
      "2021-12-05 22:32:27.998480: I tensorflow/compiler/mlir/mlir_graph_optimization_pass.cc:185] None of the MLIR Optimization Passes are enabled (registered 2)\n",
      "2021-12-05 22:32:28.002034: W tensorflow/core/platform/profile_utils/cpu_utils.cc:128] Failed to get CPU frequency: 0 Hz\n",
      "2021-12-05 22:32:28.144829: I tensorflow/core/grappler/optimizers/custom_graph_optimizer_registry.cc:112] Plugin optimizer for device_type GPU is enabled.\n"
     ]
    },
    {
     "name": "stdout",
     "output_type": "stream",
     "text": [
      "3/3 [==============================] - 1s 71ms/step - loss: 1.0716 - accuracy: 0.5797\n",
      "3/3 [==============================] - 0s 9ms/step - loss: 0.9397 - accuracy: 0.6533\n",
      "3/3 [==============================] - 0s 5ms/step - loss: 1.1873 - accuracy: 0.5467\n",
      "3/3 [==============================] - 0s 6ms/step - loss: 1.0536 - accuracy: 0.4800\n",
      "1/3 [=========>....................] - ETA: 0s - loss: 0.8553 - accuracy: 0.5938"
     ]
    },
    {
     "name": "stderr",
     "output_type": "stream",
     "text": [
      "2021-12-05 22:32:29.060911: I tensorflow/core/grappler/optimizers/custom_graph_optimizer_registry.cc:112] Plugin optimizer for device_type GPU is enabled.\n"
     ]
    },
    {
     "name": "stdout",
     "output_type": "stream",
     "text": [
      "3/3 [==============================] - 0s 6ms/step - loss: 0.9220 - accuracy: 0.5333\n",
      "3/3 [==============================] - 0s 6ms/step - loss: 1.0079 - accuracy: 0.5600\n",
      "3/3 [==============================] - 0s 6ms/step - loss: 1.1546 - accuracy: 0.4933\n",
      "3/3 [==============================] - 0s 6ms/step - loss: 1.0701 - accuracy: 0.4533\n",
      "3/3 [==============================] - 0s 6ms/step - loss: 0.9631 - accuracy: 0.5867\n",
      "3/3 [==============================] - 0s 5ms/step - loss: 1.0098 - accuracy: 0.5600\n",
      "3/3 [==============================] - 0s 5ms/step - loss: 1.0982 - accuracy: 0.5333\n",
      "3/3 [==============================] - 0s 6ms/step - loss: 1.0281 - accuracy: 0.5333\n",
      "3/3 [==============================] - 0s 5ms/step - loss: 0.9549 - accuracy: 0.5600\n",
      "3/3 [==============================] - 0s 6ms/step - loss: 1.0650 - accuracy: 0.5600\n",
      "3/3 [==============================] - 0s 5ms/step - loss: 1.2407 - accuracy: 0.5067\n",
      "3/3 [==============================] - 0s 5ms/step - loss: 1.0166 - accuracy: 0.5467\n",
      "3/3 [==============================] - 0s 5ms/step - loss: 0.9159 - accuracy: 0.6000\n",
      "3/3 [==============================] - 0s 5ms/step - loss: 1.0175 - accuracy: 0.5467\n",
      "3/3 [==============================] - 0s 6ms/step - loss: 1.1764 - accuracy: 0.5333\n",
      "3/3 [==============================] - 0s 6ms/step - loss: 1.1322 - accuracy: 0.4800\n",
      "3/3 [==============================] - 0s 6ms/step - loss: 0.9413 - accuracy: 0.5600\n",
      "3/3 [==============================] - 0s 6ms/step - loss: 1.0662 - accuracy: 0.5600\n",
      "3/3 [==============================] - 0s 14ms/step - loss: 1.2576 - accuracy: 0.3913\n",
      "3/3 [==============================] - 0s 10ms/step - loss: 1.1707 - accuracy: 0.3333\n",
      "1/3 [=========>....................] - ETA: 0s - loss: 1.2410 - accuracy: 0.2812"
     ]
    },
    {
     "name": "stderr",
     "output_type": "stream",
     "text": [
      "2021-12-05 22:32:29.966882: I tensorflow/core/grappler/optimizers/custom_graph_optimizer_registry.cc:112] Plugin optimizer for device_type GPU is enabled.\n",
      "2021-12-05 22:32:30.094611: I tensorflow/core/grappler/optimizers/custom_graph_optimizer_registry.cc:112] Plugin optimizer for device_type GPU is enabled.\n"
     ]
    },
    {
     "name": "stdout",
     "output_type": "stream",
     "text": [
      "3/3 [==============================] - 0s 5ms/step - loss: 1.1873 - accuracy: 0.3333\n",
      "3/3 [==============================] - 0s 5ms/step - loss: 1.1813 - accuracy: 0.3333\n",
      "3/3 [==============================] - 0s 6ms/step - loss: 1.1812 - accuracy: 0.3333\n",
      "3/3 [==============================] - 0s 6ms/step - loss: 1.1728 - accuracy: 0.3333\n",
      "3/3 [==============================] - 0s 6ms/step - loss: 1.2027 - accuracy: 0.3333\n",
      "3/3 [==============================] - 0s 6ms/step - loss: 1.2074 - accuracy: 0.3333\n",
      "3/3 [==============================] - 0s 6ms/step - loss: 1.1805 - accuracy: 0.3333\n",
      "3/3 [==============================] - 0s 6ms/step - loss: 1.2090 - accuracy: 0.3333\n",
      "3/3 [==============================] - 0s 5ms/step - loss: 1.1565 - accuracy: 0.3333\n",
      "3/3 [==============================] - 0s 6ms/step - loss: 1.1891 - accuracy: 0.3333\n",
      "3/3 [==============================] - 0s 6ms/step - loss: 1.2015 - accuracy: 0.3333\n",
      "3/3 [==============================] - 0s 5ms/step - loss: 1.1944 - accuracy: 0.3333\n",
      "3/3 [==============================] - 0s 5ms/step - loss: 1.1756 - accuracy: 0.3333\n",
      "3/3 [==============================] - 0s 5ms/step - loss: 1.2016 - accuracy: 0.3333\n",
      "3/3 [==============================] - 0s 5ms/step - loss: 1.1875 - accuracy: 0.3333\n",
      "3/3 [==============================] - 0s 5ms/step - loss: 1.1744 - accuracy: 0.3333\n",
      "3/3 [==============================] - 0s 5ms/step - loss: 1.1829 - accuracy: 0.3333\n",
      "3/3 [==============================] - 0s 6ms/step - loss: 1.2048 - accuracy: 0.3333\n",
      "3/3 [==============================] - 0s 6ms/step - loss: 1.1891 - accuracy: 0.3333\n",
      "3/3 [==============================] - 0s 6ms/step - loss: 1.1595 - accuracy: 0.3333\n",
      "3/3 [==============================] - 0s 14ms/step - loss: 1.3158 - accuracy: 0.2464\n",
      "3/3 [==============================] - 0s 9ms/step - loss: 1.1817 - accuracy: 0.2933\n",
      "1/3 [=========>....................] - ETA: 0s - loss: 1.1309 - accuracy: 0.2500"
     ]
    },
    {
     "name": "stderr",
     "output_type": "stream",
     "text": [
      "2021-12-05 22:32:30.947451: I tensorflow/core/grappler/optimizers/custom_graph_optimizer_registry.cc:112] Plugin optimizer for device_type GPU is enabled.\n",
      "2021-12-05 22:32:31.074115: I tensorflow/core/grappler/optimizers/custom_graph_optimizer_registry.cc:112] Plugin optimizer for device_type GPU is enabled.\n"
     ]
    },
    {
     "name": "stdout",
     "output_type": "stream",
     "text": [
      "3/3 [==============================] - 0s 5ms/step - loss: 1.1651 - accuracy: 0.2667\n",
      "3/3 [==============================] - 0s 6ms/step - loss: 1.2165 - accuracy: 0.2000\n",
      "3/3 [==============================] - 0s 5ms/step - loss: 1.1752 - accuracy: 0.3200\n",
      "3/3 [==============================] - 0s 5ms/step - loss: 1.0242 - accuracy: 0.3867\n",
      "3/3 [==============================] - 0s 5ms/step - loss: 1.1314 - accuracy: 0.3200\n",
      "3/3 [==============================] - 0s 6ms/step - loss: 1.2466 - accuracy: 0.1733\n",
      "3/3 [==============================] - 0s 6ms/step - loss: 1.1889 - accuracy: 0.3333\n",
      "3/3 [==============================] - 0s 6ms/step - loss: 1.0975 - accuracy: 0.3467\n",
      "3/3 [==============================] - 0s 5ms/step - loss: 1.1755 - accuracy: 0.2933\n",
      "3/3 [==============================] - 0s 5ms/step - loss: 1.2464 - accuracy: 0.2000\n",
      "3/3 [==============================] - 0s 6ms/step - loss: 1.1742 - accuracy: 0.3867\n",
      "3/3 [==============================] - 0s 6ms/step - loss: 1.0461 - accuracy: 0.3333\n",
      "3/3 [==============================] - 0s 5ms/step - loss: 1.1713 - accuracy: 0.3067\n",
      "3/3 [==============================] - 0s 6ms/step - loss: 1.2522 - accuracy: 0.1600\n",
      "3/3 [==============================] - 0s 5ms/step - loss: 1.1850 - accuracy: 0.3733\n",
      "3/3 [==============================] - 0s 6ms/step - loss: 1.0589 - accuracy: 0.3600\n",
      "3/3 [==============================] - 0s 6ms/step - loss: 1.1851 - accuracy: 0.2800\n",
      "3/3 [==============================] - 0s 6ms/step - loss: 1.2030 - accuracy: 0.1600\n",
      "3/3 [==============================] - 0s 6ms/step - loss: 1.1681 - accuracy: 0.4000\n",
      "3/3 [==============================] - 0s 6ms/step - loss: 1.0159 - accuracy: 0.3867\n",
      "3/3 [==============================] - 0s 14ms/step - loss: 1.2335 - accuracy: 0.3333\n",
      "3/3 [==============================] - 0s 9ms/step - loss: 1.2154 - accuracy: 0.3600\n"
     ]
    },
    {
     "name": "stderr",
     "output_type": "stream",
     "text": [
      "2021-12-05 22:32:31.940409: I tensorflow/core/grappler/optimizers/custom_graph_optimizer_registry.cc:112] Plugin optimizer for device_type GPU is enabled.\n",
      "2021-12-05 22:32:32.069929: I tensorflow/core/grappler/optimizers/custom_graph_optimizer_registry.cc:112] Plugin optimizer for device_type GPU is enabled.\n"
     ]
    },
    {
     "name": "stdout",
     "output_type": "stream",
     "text": [
      "3/3 [==============================] - 0s 6ms/step - loss: 1.2820 - accuracy: 0.3467\n",
      "3/3 [==============================] - 0s 6ms/step - loss: 1.1801 - accuracy: 0.4533\n",
      "3/3 [==============================] - 0s 6ms/step - loss: 1.2197 - accuracy: 0.3200\n",
      "3/3 [==============================] - 0s 6ms/step - loss: 1.1994 - accuracy: 0.3467\n",
      "3/3 [==============================] - 0s 6ms/step - loss: 1.2840 - accuracy: 0.3467\n",
      "3/3 [==============================] - 0s 5ms/step - loss: 1.1923 - accuracy: 0.4000\n",
      "3/3 [==============================] - 0s 5ms/step - loss: 1.2046 - accuracy: 0.4000\n",
      "3/3 [==============================] - 0s 6ms/step - loss: 1.1858 - accuracy: 0.3733\n",
      "3/3 [==============================] - 0s 6ms/step - loss: 1.2942 - accuracy: 0.2800\n",
      "3/3 [==============================] - 0s 6ms/step - loss: 1.1820 - accuracy: 0.4267\n",
      "3/3 [==============================] - 0s 6ms/step - loss: 1.2300 - accuracy: 0.2533\n",
      "3/3 [==============================] - 0s 6ms/step - loss: 1.1790 - accuracy: 0.4000\n",
      "3/3 [==============================] - 0s 6ms/step - loss: 1.2818 - accuracy: 0.3333\n",
      "3/3 [==============================] - 0s 5ms/step - loss: 1.2010 - accuracy: 0.4133\n",
      "3/3 [==============================] - 0s 6ms/step - loss: 1.2060 - accuracy: 0.3733\n",
      "3/3 [==============================] - 0s 5ms/step - loss: 1.1746 - accuracy: 0.3733\n",
      "3/3 [==============================] - 0s 6ms/step - loss: 1.2860 - accuracy: 0.3067\n",
      "3/3 [==============================] - 0s 6ms/step - loss: 1.1985 - accuracy: 0.4133\n",
      "3/3 [==============================] - 0s 5ms/step - loss: 1.2142 - accuracy: 0.3067\n",
      "3/3 [==============================] - 0s 6ms/step - loss: 1.1886 - accuracy: 0.3600\n",
      "WARNING:tensorflow:5 out of the last 13 calls to <function Model.make_train_function.<locals>.train_function at 0x28ae508b0> triggered tf.function retracing. Tracing is expensive and the excessive number of tracings could be due to (1) creating @tf.function repeatedly in a loop, (2) passing tensors with different shapes, (3) passing Python objects instead of tensors. For (1), please define your @tf.function outside of the loop. For (2), @tf.function has experimental_relax_shapes=True option that relaxes argument shapes that can avoid unnecessary retracing. For (3), please refer to https://www.tensorflow.org/guide/function#controlling_retracing and https://www.tensorflow.org/api_docs/python/tf/function for  more details.\n",
      "3/3 [==============================] - 0s 14ms/step - loss: 1.2687 - accuracy: 0.3333\n",
      "3/3 [==============================] - 0s 10ms/step - loss: 1.2321 - accuracy: 0.3600\n"
     ]
    },
    {
     "name": "stderr",
     "output_type": "stream",
     "text": [
      "2021-12-05 22:32:32.933749: I tensorflow/core/grappler/optimizers/custom_graph_optimizer_registry.cc:112] Plugin optimizer for device_type GPU is enabled.\n",
      "2021-12-05 22:32:33.067185: I tensorflow/core/grappler/optimizers/custom_graph_optimizer_registry.cc:112] Plugin optimizer for device_type GPU is enabled.\n"
     ]
    },
    {
     "name": "stdout",
     "output_type": "stream",
     "text": [
      "3/3 [==============================] - 0s 6ms/step - loss: 1.1666 - accuracy: 0.3067\n",
      "3/3 [==============================] - 0s 6ms/step - loss: 1.2612 - accuracy: 0.3867\n",
      "3/3 [==============================] - 0s 5ms/step - loss: 1.0344 - accuracy: 0.4000\n",
      "3/3 [==============================] - 0s 5ms/step - loss: 1.4060 - accuracy: 0.3600\n",
      "3/3 [==============================] - 0s 6ms/step - loss: 1.1843 - accuracy: 0.2933\n",
      "3/3 [==============================] - 0s 6ms/step - loss: 1.2642 - accuracy: 0.3733\n",
      "3/3 [==============================] - 0s 7ms/step - loss: 1.0692 - accuracy: 0.3733\n",
      "3/3 [==============================] - 0s 5ms/step - loss: 1.3739 - accuracy: 0.3600\n",
      "3/3 [==============================] - 0s 23ms/step - loss: 1.1561 - accuracy: 0.3333\n",
      "3/3 [==============================] - 0s 5ms/step - loss: 1.2551 - accuracy: 0.3733\n",
      "3/3 [==============================] - 0s 6ms/step - loss: 1.0534 - accuracy: 0.3733\n",
      "3/3 [==============================] - 0s 6ms/step - loss: 1.3469 - accuracy: 0.3733\n",
      "3/3 [==============================] - 0s 5ms/step - loss: 1.1682 - accuracy: 0.2933\n",
      "3/3 [==============================] - 0s 5ms/step - loss: 1.2582 - accuracy: 0.3867\n",
      "3/3 [==============================] - 0s 6ms/step - loss: 1.0605 - accuracy: 0.3733\n",
      "3/3 [==============================] - 0s 6ms/step - loss: 1.3875 - accuracy: 0.3733\n",
      "3/3 [==============================] - 0s 6ms/step - loss: 1.1373 - accuracy: 0.3467\n",
      "3/3 [==============================] - 0s 5ms/step - loss: 1.2758 - accuracy: 0.3600\n",
      "3/3 [==============================] - 0s 5ms/step - loss: 1.0709 - accuracy: 0.3733\n",
      "3/3 [==============================] - 0s 5ms/step - loss: 1.3709 - accuracy: 0.3600\n",
      "WARNING:tensorflow:5 out of the last 13 calls to <function Model.make_train_function.<locals>.train_function at 0x28e35c0d0> triggered tf.function retracing. Tracing is expensive and the excessive number of tracings could be due to (1) creating @tf.function repeatedly in a loop, (2) passing tensors with different shapes, (3) passing Python objects instead of tensors. For (1), please define your @tf.function outside of the loop. For (2), @tf.function has experimental_relax_shapes=True option that relaxes argument shapes that can avoid unnecessary retracing. For (3), please refer to https://www.tensorflow.org/guide/function#controlling_retracing and https://www.tensorflow.org/api_docs/python/tf/function for  more details.\n",
      "3/3 [==============================] - 0s 15ms/step - loss: 1.1306 - accuracy: 0.2029\n",
      "3/3 [==============================] - 0s 9ms/step - loss: 1.0993 - accuracy: 0.3467\n"
     ]
    },
    {
     "name": "stderr",
     "output_type": "stream",
     "text": [
      "2021-12-05 22:32:33.945095: I tensorflow/core/grappler/optimizers/custom_graph_optimizer_registry.cc:112] Plugin optimizer for device_type GPU is enabled.\n",
      "2021-12-05 22:32:34.083570: I tensorflow/core/grappler/optimizers/custom_graph_optimizer_registry.cc:112] Plugin optimizer for device_type GPU is enabled.\n"
     ]
    },
    {
     "name": "stdout",
     "output_type": "stream",
     "text": [
      "3/3 [==============================] - 0s 6ms/step - loss: 1.1006 - accuracy: 0.4133\n",
      "3/3 [==============================] - 0s 6ms/step - loss: 1.0741 - accuracy: 0.4933\n",
      "3/3 [==============================] - 0s 6ms/step - loss: 1.0859 - accuracy: 0.2267\n",
      "3/3 [==============================] - 0s 5ms/step - loss: 1.1826 - accuracy: 0.2400\n",
      "3/3 [==============================] - 0s 6ms/step - loss: 1.0808 - accuracy: 0.4400\n",
      "3/3 [==============================] - 0s 6ms/step - loss: 1.0705 - accuracy: 0.4933\n",
      "3/3 [==============================] - 0s 6ms/step - loss: 1.0934 - accuracy: 0.3067\n",
      "3/3 [==============================] - 0s 5ms/step - loss: 1.2305 - accuracy: 0.2400\n",
      "3/3 [==============================] - 0s 6ms/step - loss: 1.0669 - accuracy: 0.4667\n",
      "3/3 [==============================] - 0s 6ms/step - loss: 1.0847 - accuracy: 0.3733\n",
      "3/3 [==============================] - 0s 6ms/step - loss: 1.0928 - accuracy: 0.3467\n",
      "3/3 [==============================] - 0s 6ms/step - loss: 1.2220 - accuracy: 0.1600\n",
      "3/3 [==============================] - 0s 7ms/step - loss: 1.1071 - accuracy: 0.4000\n",
      "3/3 [==============================] - 0s 6ms/step - loss: 1.0727 - accuracy: 0.3867\n",
      "3/3 [==============================] - 0s 6ms/step - loss: 1.0950 - accuracy: 0.2000\n",
      "3/3 [==============================] - 0s 6ms/step - loss: 1.2196 - accuracy: 0.2000\n",
      "3/3 [==============================] - 0s 6ms/step - loss: 1.0937 - accuracy: 0.3867\n",
      "3/3 [==============================] - 0s 6ms/step - loss: 1.0726 - accuracy: 0.3867\n",
      "3/3 [==============================] - 0s 6ms/step - loss: 1.0978 - accuracy: 0.2800\n",
      "3/3 [==============================] - 0s 6ms/step - loss: 1.1790 - accuracy: 0.2667\n",
      "3/3 [==============================] - 0s 15ms/step - loss: 1.1060 - accuracy: 0.3623\n",
      "3/3 [==============================] - 0s 10ms/step - loss: 1.0949 - accuracy: 0.2667\n"
     ]
    },
    {
     "name": "stderr",
     "output_type": "stream",
     "text": [
      "2021-12-05 22:32:34.958406: I tensorflow/core/grappler/optimizers/custom_graph_optimizer_registry.cc:112] Plugin optimizer for device_type GPU is enabled.\n",
      "2021-12-05 22:32:35.091369: I tensorflow/core/grappler/optimizers/custom_graph_optimizer_registry.cc:112] Plugin optimizer for device_type GPU is enabled.\n"
     ]
    },
    {
     "name": "stdout",
     "output_type": "stream",
     "text": [
      "3/3 [==============================] - 0s 6ms/step - loss: 1.0657 - accuracy: 0.4267\n",
      "3/3 [==============================] - 0s 6ms/step - loss: 1.1046 - accuracy: 0.2533\n",
      "3/3 [==============================] - 0s 6ms/step - loss: 1.1178 - accuracy: 0.2667\n",
      "3/3 [==============================] - 0s 6ms/step - loss: 1.1344 - accuracy: 0.1333\n",
      "3/3 [==============================] - 0s 6ms/step - loss: 1.0704 - accuracy: 0.3733\n",
      "3/3 [==============================] - 0s 7ms/step - loss: 1.1033 - accuracy: 0.2400\n",
      "3/3 [==============================] - 0s 6ms/step - loss: 1.1101 - accuracy: 0.2533\n",
      "3/3 [==============================] - 0s 5ms/step - loss: 1.1393 - accuracy: 0.1600\n",
      "3/3 [==============================] - 0s 7ms/step - loss: 1.0578 - accuracy: 0.4533\n",
      "3/3 [==============================] - 0s 6ms/step - loss: 1.1048 - accuracy: 0.2667\n",
      "3/3 [==============================] - 0s 6ms/step - loss: 1.1075 - accuracy: 0.2667\n",
      "3/3 [==============================] - 0s 6ms/step - loss: 1.1388 - accuracy: 0.1333\n",
      "3/3 [==============================] - 0s 8ms/step - loss: 1.0703 - accuracy: 0.3333\n",
      "3/3 [==============================] - 0s 6ms/step - loss: 1.1009 - accuracy: 0.2667\n",
      "3/3 [==============================] - 0s 9ms/step - loss: 1.1176 - accuracy: 0.2933\n",
      "3/3 [==============================] - 0s 7ms/step - loss: 1.1449 - accuracy: 0.1067\n",
      "3/3 [==============================] - 0s 6ms/step - loss: 1.0578 - accuracy: 0.3467\n",
      "3/3 [==============================] - 0s 18ms/step - loss: 1.1073 - accuracy: 0.2667\n",
      "3/3 [==============================] - 0s 5ms/step - loss: 1.1077 - accuracy: 0.2800\n",
      "3/3 [==============================] - 0s 5ms/step - loss: 1.1358 - accuracy: 0.1600\n",
      "3/3 [==============================] - 0s 16ms/step - loss: 1.3571 - accuracy: 0.2319\n",
      "3/3 [==============================] - 0s 9ms/step - loss: 1.2991 - accuracy: 0.2000\n"
     ]
    },
    {
     "name": "stderr",
     "output_type": "stream",
     "text": [
      "2021-12-05 22:32:36.027807: I tensorflow/core/grappler/optimizers/custom_graph_optimizer_registry.cc:112] Plugin optimizer for device_type GPU is enabled.\n",
      "2021-12-05 22:32:36.167715: I tensorflow/core/grappler/optimizers/custom_graph_optimizer_registry.cc:112] Plugin optimizer for device_type GPU is enabled.\n"
     ]
    },
    {
     "name": "stdout",
     "output_type": "stream",
     "text": [
      "3/3 [==============================] - 0s 7ms/step - loss: 1.1527 - accuracy: 0.2667\n",
      "3/3 [==============================] - 0s 6ms/step - loss: 1.3143 - accuracy: 0.0800\n",
      "3/3 [==============================] - 0s 5ms/step - loss: 1.2715 - accuracy: 0.2133\n",
      "3/3 [==============================] - 0s 6ms/step - loss: 1.1696 - accuracy: 0.2267\n",
      "3/3 [==============================] - 0s 6ms/step - loss: 1.1659 - accuracy: 0.2400\n",
      "3/3 [==============================] - 0s 6ms/step - loss: 1.3527 - accuracy: 0.1467\n",
      "3/3 [==============================] - 0s 6ms/step - loss: 1.3115 - accuracy: 0.2000\n",
      "3/3 [==============================] - 0s 5ms/step - loss: 1.1580 - accuracy: 0.2400\n",
      "3/3 [==============================] - 0s 6ms/step - loss: 1.1828 - accuracy: 0.2133\n",
      "3/3 [==============================] - 0s 7ms/step - loss: 1.2802 - accuracy: 0.1467\n",
      "3/3 [==============================] - 0s 6ms/step - loss: 1.2956 - accuracy: 0.1867\n",
      "3/3 [==============================] - 0s 6ms/step - loss: 1.2115 - accuracy: 0.2667\n",
      "3/3 [==============================] - 0s 6ms/step - loss: 1.1682 - accuracy: 0.1733\n",
      "3/3 [==============================] - 0s 6ms/step - loss: 1.3127 - accuracy: 0.1067\n",
      "3/3 [==============================] - 0s 6ms/step - loss: 1.2948 - accuracy: 0.2133\n",
      "3/3 [==============================] - 0s 6ms/step - loss: 1.2072 - accuracy: 0.2800\n",
      "3/3 [==============================] - 0s 6ms/step - loss: 1.1507 - accuracy: 0.2267\n",
      "3/3 [==============================] - 0s 6ms/step - loss: 1.3524 - accuracy: 0.1333\n",
      "3/3 [==============================] - 0s 6ms/step - loss: 1.2833 - accuracy: 0.1867\n",
      "3/3 [==============================] - 0s 14ms/step - loss: 1.1723 - accuracy: 0.2933\n",
      "3/3 [==============================] - 0s 14ms/step - loss: 1.0948 - accuracy: 0.5072\n",
      "3/3 [==============================] - 0s 9ms/step - loss: 1.1113 - accuracy: 0.4667\n"
     ]
    },
    {
     "name": "stderr",
     "output_type": "stream",
     "text": [
      "2021-12-05 22:32:37.240289: I tensorflow/core/grappler/optimizers/custom_graph_optimizer_registry.cc:112] Plugin optimizer for device_type GPU is enabled.\n",
      "2021-12-05 22:32:37.370011: I tensorflow/core/grappler/optimizers/custom_graph_optimizer_registry.cc:112] Plugin optimizer for device_type GPU is enabled.\n"
     ]
    },
    {
     "name": "stdout",
     "output_type": "stream",
     "text": [
      "3/3 [==============================] - 0s 6ms/step - loss: 1.1275 - accuracy: 0.4667\n",
      "3/3 [==============================] - 0s 5ms/step - loss: 1.1353 - accuracy: 0.4933\n",
      "3/3 [==============================] - 0s 5ms/step - loss: 1.1166 - accuracy: 0.5333\n",
      "3/3 [==============================] - 0s 5ms/step - loss: 1.1222 - accuracy: 0.4267\n",
      "3/3 [==============================] - 0s 5ms/step - loss: 1.1445 - accuracy: 0.4000\n",
      "3/3 [==============================] - 0s 6ms/step - loss: 1.1118 - accuracy: 0.4133\n",
      "3/3 [==============================] - 0s 5ms/step - loss: 1.1057 - accuracy: 0.5067\n",
      "3/3 [==============================] - 0s 5ms/step - loss: 1.1389 - accuracy: 0.4400\n",
      "3/3 [==============================] - 0s 5ms/step - loss: 1.1787 - accuracy: 0.4000\n",
      "3/3 [==============================] - 0s 5ms/step - loss: 1.1263 - accuracy: 0.3867\n",
      "3/3 [==============================] - 0s 5ms/step - loss: 1.0946 - accuracy: 0.4933\n",
      "3/3 [==============================] - 0s 5ms/step - loss: 1.1318 - accuracy: 0.3733\n",
      "3/3 [==============================] - 0s 5ms/step - loss: 1.1423 - accuracy: 0.4267\n",
      "3/3 [==============================] - 0s 5ms/step - loss: 1.1100 - accuracy: 0.4800\n",
      "3/3 [==============================] - 0s 6ms/step - loss: 1.1058 - accuracy: 0.5467\n",
      "3/3 [==============================] - 0s 5ms/step - loss: 1.1429 - accuracy: 0.3467\n",
      "3/3 [==============================] - 0s 5ms/step - loss: 1.1475 - accuracy: 0.4267\n",
      "3/3 [==============================] - 0s 5ms/step - loss: 1.1393 - accuracy: 0.4267\n",
      "3/3 [==============================] - 0s 5ms/step - loss: 1.1180 - accuracy: 0.5200\n",
      "3/3 [==============================] - 0s 5ms/step - loss: 1.1299 - accuracy: 0.4267\n",
      "3/3 [==============================] - 0s 13ms/step - loss: 1.6062 - accuracy: 0.2464\n",
      "3/3 [==============================] - 0s 9ms/step - loss: 1.4856 - accuracy: 0.2267\n",
      "3/3 [==============================] - 0s 5ms/step - loss: 1.3900 - accuracy: 0.3467\n"
     ]
    },
    {
     "name": "stderr",
     "output_type": "stream",
     "text": [
      "2021-12-05 22:32:38.172543: I tensorflow/core/grappler/optimizers/custom_graph_optimizer_registry.cc:112] Plugin optimizer for device_type GPU is enabled.\n",
      "2021-12-05 22:32:38.290896: I tensorflow/core/grappler/optimizers/custom_graph_optimizer_registry.cc:112] Plugin optimizer for device_type GPU is enabled.\n"
     ]
    },
    {
     "name": "stdout",
     "output_type": "stream",
     "text": [
      "3/3 [==============================] - 0s 6ms/step - loss: 1.3525 - accuracy: 0.1600\n",
      "3/3 [==============================] - 0s 5ms/step - loss: 1.5757 - accuracy: 0.2800\n",
      "3/3 [==============================] - 0s 5ms/step - loss: 1.2418 - accuracy: 0.2533\n",
      "3/3 [==============================] - 0s 5ms/step - loss: 1.3973 - accuracy: 0.2267\n",
      "3/3 [==============================] - 0s 6ms/step - loss: 1.3758 - accuracy: 0.1867\n",
      "3/3 [==============================] - 0s 5ms/step - loss: 1.5552 - accuracy: 0.2800\n",
      "3/3 [==============================] - 0s 6ms/step - loss: 1.2543 - accuracy: 0.3733\n",
      "3/3 [==============================] - 0s 6ms/step - loss: 1.3824 - accuracy: 0.3600\n",
      "3/3 [==============================] - 0s 5ms/step - loss: 1.3369 - accuracy: 0.1733\n",
      "3/3 [==============================] - 0s 5ms/step - loss: 1.5787 - accuracy: 0.2800\n",
      "3/3 [==============================] - 0s 5ms/step - loss: 1.2603 - accuracy: 0.2933\n",
      "3/3 [==============================] - 0s 5ms/step - loss: 1.3994 - accuracy: 0.3200\n",
      "3/3 [==============================] - 0s 5ms/step - loss: 1.3443 - accuracy: 0.1600\n",
      "3/3 [==============================] - 0s 5ms/step - loss: 1.5779 - accuracy: 0.2133\n",
      "3/3 [==============================] - 0s 5ms/step - loss: 1.2456 - accuracy: 0.3067\n",
      "3/3 [==============================] - 0s 5ms/step - loss: 1.3982 - accuracy: 0.2133\n",
      "3/3 [==============================] - 0s 6ms/step - loss: 1.3584 - accuracy: 0.2000\n",
      "3/3 [==============================] - 0s 6ms/step - loss: 1.5606 - accuracy: 0.2800\n",
      "3/3 [==============================] - 0s 7ms/step - loss: 1.2286 - accuracy: 0.2933\n"
     ]
    }
   ],
   "source": [
    "sum_weight = 0\n",
    "\n",
    "def nn_model():\n",
    "    model_i = keras.Sequential([\n",
    "        keras.layers.Dense(8, activation=\"relu\", input_shape=(4,)),\n",
    "        keras.layers.Dense(4, activation=\"relu\"),\n",
    "        keras.layers.Dropout(0.3),\n",
    "        keras.layers.Dense(3, activation=\"softmax\"),\n",
    "    ])\n",
    "\n",
    "    model_i.compile(optimizer='adam', loss=\"categorical_crossentropy\", metrics=['accuracy'])\n",
    "\n",
    "    return model_i\n",
    "\n",
    "for i in range(10):\n",
    "\n",
    "    # define the model\n",
    "    rus = RandomUnderSampler(random_state=i)\n",
    "    X_res, y_res = rus.fit_resample(X_train, Y_train)\n",
    "\n",
    "    my_model = KerasClassifier(build_fn=nn_model)    \n",
    "    my_model.fit(X_res,y_res)\n",
    "\n",
    "    perm = PermutationImportance(my_model, random_state=i).fit(X_test, Y_test)\n",
    "    sum_weight += perm.feature_importances_\n",
    "\n",
    "avg_importance = pd.DataFrame(sorted(sum_weight/10, reverse=True))"
   ]
  },
  {
   "cell_type": "code",
   "execution_count": 5,
   "metadata": {},
   "outputs": [
    {
     "data": {
      "image/png": "[encoded data removed]",
      "text/plain": [
       "<Figure size 1800x720 with 1 Axes>"
      ]
     },
     "metadata": {
      "needs_background": "light"
     },
     "output_type": "display_data"
    }
   ],
   "source": [
    "avg_importance[:3].plot.bar(figsize = (25, 10), color = 'r')\n",
    "plt.title('NN Permutation Importance Importance on Iris')\n",
    "plt.xlabel('Features')\n",
    "plt.show()"
   ]
  },
  {
   "cell_type": "code",
   "execution_count": 8,
   "metadata": {},
   "outputs": [],
   "source": [
    "np.save('avg_importance', avg_importance) \n",
    "ajeje = np.load('avg_importance.np.npy')"
   ]
  },
  {
   "cell_type": "code",
   "execution_count": null,
   "metadata": {},
   "outputs": [],
   "source": []
  }
 ],
 "metadata": {
  "interpreter": {
   "hash": "31f2aee4e71d21fbe5cf8b01ff0e069b9275f58929596ceb00d14d90e3e16cd6"
  },
  "kernelspec": {
   "display_name": "Python 3.9.2 64-bit ('3.9')",
   "language": "python",
   "name": "python3"
  },
  "language_info": {
   "codemirror_mode": {
    "name": "ipython",
    "version": 3
   },
   "file_extension": ".py",
   "mimetype": "text/x-python",
   "name": "python",
   "nbconvert_exporter": "python",
   "pygments_lexer": "ipython3",
   "version": "3.9.0"
  },
  "orig_nbformat": 4
 },
 "nbformat": 4,
 "nbformat_minor": 2
}
