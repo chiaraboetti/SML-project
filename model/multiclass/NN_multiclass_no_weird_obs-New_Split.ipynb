{
 "cells": [
  {
   "cell_type": "code",
   "execution_count": 1,
   "metadata": {},
   "outputs": [],
   "source": [
    "import tensorflow as tf\n",
    "import keras\n",
    "import pandas as pd\n",
    "import matplotlib.pyplot as plt\n",
    "import numpy as np\n",
    "from keras.models import Sequential, load_model\n",
    "from keras.layers import Dense, Activation, Dropout\n",
    "from keras.callbacks import EarlyStopping, ModelCheckpoint\n",
    "from keras import backend as K\n",
    "\n",
    "from sklearn.metrics import multilabel_confusion_matrix,confusion_matrix\n",
    "from sklearn.inspection import permutation_importance\n",
    "from sklearn.model_selection import train_test_split"
   ]
  },
  {
   "cell_type": "markdown",
   "metadata": {},
   "source": [
    "**Load the dataset**"
   ]
  },
  {
   "cell_type": "code",
   "execution_count": 3,
   "metadata": {},
   "outputs": [],
   "source": [
    "multiclass = pd.read_csv('../../dataset/multiclass_dataset_no_weird_obs.csv',header= 0)"
   ]
  },
  {
   "cell_type": "code",
   "execution_count": 4,
   "metadata": {},
   "outputs": [],
   "source": [
    "first_split, second_split = train_test_split (multiclass, test_size=403,\n",
    "                                              train_size=604, random_state=42,\n",
    "                                              shuffle=True, stratify=None,\n",
    ")"
   ]
  },
  {
   "cell_type": "code",
   "execution_count": 5,
   "metadata": {},
   "outputs": [],
   "source": [
    "Training, Test = train_test_split(first_split, train_size = 480,\n",
    "                                   test_size = 124, random_state=42,\n",
    "                                   shuffle=True, stratify=None,\n",
    ")"
   ]
  },
  {
   "cell_type": "code",
   "execution_count": 6,
   "metadata": {},
   "outputs": [],
   "source": [
    "X_test = np.array(Test.drop(['label','DepMap_ID','Unnamed: 0'], axis = 1))\n",
    "y_test = pd.get_dummies(Test, columns = ['label']).iloc[:,17395:17404]\n",
    "X_train = np.array(Training.drop(['label','Unnamed: 0','DepMap_ID'], axis = 1))\n",
    "y_train = pd.get_dummies(Training, columns = ['label']).iloc[:,17395:17404]"
   ]
  },
  {
   "cell_type": "code",
   "execution_count": 7,
   "metadata": {},
   "outputs": [
    {
     "data": {
      "text/plain": [
       "(124, 17393)"
      ]
     },
     "execution_count": 7,
     "metadata": {},
     "output_type": "execute_result"
    }
   ],
   "source": [
    "np.shape(X_test)"
   ]
  },
  {
   "cell_type": "code",
   "execution_count": 8,
   "metadata": {},
   "outputs": [],
   "source": [
    "X_train_reshaped = X_train.reshape(480,17393)\n",
    "X_test_reshaped = X_test.reshape(124,17393)"
   ]
  },
  {
   "cell_type": "markdown",
   "metadata": {},
   "source": [
    "**First model**"
   ]
  },
  {
   "cell_type": "code",
   "execution_count": 9,
   "metadata": {},
   "outputs": [
    {
     "name": "stderr",
     "output_type": "stream",
     "text": [
      "2021-12-05 22:36:22.788495: I tensorflow/core/common_runtime/pluggable_device/pluggable_device_factory.cc:305] Could not identify NUMA node of platform GPU ID 0, defaulting to 0. Your kernel may not have been built with NUMA support.\n",
      "2021-12-05 22:36:22.789343: I tensorflow/core/common_runtime/pluggable_device/pluggable_device_factory.cc:271] Created TensorFlow device (/job:localhost/replica:0/task:0/device:GPU:0 with 0 MB memory) -> physical PluggableDevice (device: 0, name: METAL, pci bus id: <undefined>)\n"
     ]
    },
    {
     "name": "stdout",
     "output_type": "stream",
     "text": [
      "Metal device set to: Apple M1\n",
      "\n",
      "systemMemory: 8.00 GB\n",
      "maxCacheSize: 2.67 GB\n",
      "\n"
     ]
    },
    {
     "name": "stderr",
     "output_type": "stream",
     "text": [
      "2021-12-05 22:36:23.064993: I tensorflow/compiler/mlir/mlir_graph_optimization_pass.cc:185] None of the MLIR Optimization Passes are enabled (registered 2)\n",
      "2021-12-05 22:36:23.068837: W tensorflow/core/platform/profile_utils/cpu_utils.cc:128] Failed to get CPU frequency: 0 Hz\n",
      "2021-12-05 22:36:23.197057: I tensorflow/core/grappler/optimizers/custom_graph_optimizer_registry.cc:112] Plugin optimizer for device_type GPU is enabled.\n"
     ]
    },
    {
     "name": "stdout",
     "output_type": "stream",
     "text": [
      "Epoch 1/30\n",
      "15/15 [==============================] - 1s 19ms/step - loss: 3.7079 - accuracy: 0.1917 - val_loss: 2.0913 - val_accuracy: 0.2500\n",
      "\n",
      "Epoch 00001: saving model to best_model0.hdf5\n",
      "Epoch 2/30\n",
      " 6/15 [===========>..................] - ETA: 0s - loss: 2.1168 - accuracy: 0.2396"
     ]
    },
    {
     "name": "stderr",
     "output_type": "stream",
     "text": [
      "2021-12-05 22:36:24.103647: I tensorflow/core/grappler/optimizers/custom_graph_optimizer_registry.cc:112] Plugin optimizer for device_type GPU is enabled.\n"
     ]
    },
    {
     "name": "stdout",
     "output_type": "stream",
     "text": [
      "15/15 [==============================] - 0s 13ms/step - loss: 1.9769 - accuracy: 0.3083 - val_loss: 1.8609 - val_accuracy: 0.3790\n",
      "\n",
      "Epoch 00002: saving model to best_model0.hdf5\n",
      "Epoch 3/30\n",
      "15/15 [==============================] - 0s 12ms/step - loss: 1.6566 - accuracy: 0.4688 - val_loss: 1.6489 - val_accuracy: 0.4839\n",
      "\n",
      "Epoch 00003: saving model to best_model0.hdf5\n",
      "Epoch 4/30\n",
      "15/15 [==============================] - 0s 13ms/step - loss: 1.4691 - accuracy: 0.5833 - val_loss: 1.6646 - val_accuracy: 0.5242\n",
      "\n",
      "Epoch 00004: saving model to best_model0.hdf5\n",
      "Epoch 5/30\n",
      "15/15 [==============================] - 0s 12ms/step - loss: 1.2692 - accuracy: 0.7125 - val_loss: 1.4582 - val_accuracy: 0.5403\n",
      "\n",
      "Epoch 00005: saving model to best_model0.hdf5\n",
      "Epoch 6/30\n",
      "15/15 [==============================] - 0s 12ms/step - loss: 1.0921 - accuracy: 0.7583 - val_loss: 1.4961 - val_accuracy: 0.4597\n",
      "\n",
      "Epoch 00006: saving model to best_model0.hdf5\n",
      "Epoch 7/30\n",
      "15/15 [==============================] - 0s 12ms/step - loss: 0.9601 - accuracy: 0.7833 - val_loss: 1.2821 - val_accuracy: 0.6210\n",
      "\n",
      "Epoch 00007: saving model to best_model0.hdf5\n",
      "Epoch 8/30\n",
      "15/15 [==============================] - 0s 14ms/step - loss: 0.8086 - accuracy: 0.8854 - val_loss: 1.2879 - val_accuracy: 0.6210\n",
      "\n",
      "Epoch 00008: saving model to best_model0.hdf5\n",
      "Epoch 9/30\n",
      "15/15 [==============================] - 0s 12ms/step - loss: 0.6830 - accuracy: 0.9271 - val_loss: 1.1881 - val_accuracy: 0.6371\n",
      "\n",
      "Epoch 00009: saving model to best_model0.hdf5\n",
      "Epoch 10/30\n",
      "15/15 [==============================] - 0s 12ms/step - loss: 0.5920 - accuracy: 0.9271 - val_loss: 1.2128 - val_accuracy: 0.6452\n",
      "\n",
      "Epoch 00010: saving model to best_model0.hdf5\n",
      "Epoch 11/30\n",
      "15/15 [==============================] - 0s 12ms/step - loss: 0.5089 - accuracy: 0.9646 - val_loss: 1.1668 - val_accuracy: 0.6210\n",
      "\n",
      "Epoch 00011: saving model to best_model0.hdf5\n",
      "Epoch 12/30\n",
      "15/15 [==============================] - 0s 13ms/step - loss: 0.4328 - accuracy: 0.9688 - val_loss: 1.1610 - val_accuracy: 0.6129\n",
      "\n",
      "Epoch 00012: saving model to best_model0.hdf5\n",
      "Epoch 13/30\n",
      "15/15 [==============================] - 0s 11ms/step - loss: 0.3915 - accuracy: 0.9604 - val_loss: 1.0989 - val_accuracy: 0.6452\n",
      "\n",
      "Epoch 00013: saving model to best_model0.hdf5\n",
      "Epoch 14/30\n",
      "15/15 [==============================] - 0s 13ms/step - loss: 0.3248 - accuracy: 0.9792 - val_loss: 1.1042 - val_accuracy: 0.5968\n",
      "\n",
      "Epoch 00014: saving model to best_model0.hdf5\n",
      "Epoch 15/30\n",
      "15/15 [==============================] - 0s 13ms/step - loss: 0.2843 - accuracy: 0.9875 - val_loss: 0.9998 - val_accuracy: 0.6613\n",
      "\n",
      "Epoch 00015: saving model to best_model0.hdf5\n",
      "Epoch 16/30\n",
      "15/15 [==============================] - 0s 13ms/step - loss: 0.2285 - accuracy: 1.0000 - val_loss: 0.9711 - val_accuracy: 0.6935\n",
      "\n",
      "Epoch 00016: saving model to best_model0.hdf5\n",
      "Epoch 17/30\n",
      "15/15 [==============================] - 0s 15ms/step - loss: 0.1968 - accuracy: 0.9938 - val_loss: 0.9774 - val_accuracy: 0.6532\n",
      "\n",
      "Epoch 00017: saving model to best_model0.hdf5\n",
      "Epoch 18/30\n",
      "15/15 [==============================] - 0s 13ms/step - loss: 0.1628 - accuracy: 0.9979 - val_loss: 1.0066 - val_accuracy: 0.6694\n",
      "\n",
      "Epoch 00018: saving model to best_model0.hdf5\n",
      "Epoch 19/30\n",
      "15/15 [==============================] - 0s 13ms/step - loss: 0.1567 - accuracy: 0.9979 - val_loss: 0.9843 - val_accuracy: 0.6855\n",
      "\n",
      "Epoch 00019: saving model to best_model0.hdf5\n",
      "Epoch 20/30\n",
      "15/15 [==============================] - 0s 13ms/step - loss: 0.1322 - accuracy: 1.0000 - val_loss: 0.9739 - val_accuracy: 0.6774\n",
      "\n",
      "Epoch 00020: saving model to best_model0.hdf5\n",
      "Epoch 21/30\n",
      "15/15 [==============================] - 0s 15ms/step - loss: 0.1138 - accuracy: 1.0000 - val_loss: 0.9868 - val_accuracy: 0.6613\n",
      "\n",
      "Epoch 00021: saving model to best_model0.hdf5\n"
     ]
    }
   ],
   "source": [
    "model = Sequential()\n",
    "\n",
    "model.add(Dense(200, input_shape=(17393,)))\n",
    "model.add(Activation('relu'))\n",
    "#model.add(Dropout(0.25))\n",
    "\n",
    "\n",
    "model.add(Dense(9))\n",
    "model.add(Activation('softmax'))\n",
    "#categorical_crossentropy loss per classificazione (penalizza molto le previsioni che sono sbagliate ma con alta probabilità)\n",
    "\n",
    "model.compile(optimizer = 'adam', loss = 'categorical_crossentropy', metrics=['accuracy']) #ottimizzatore che usa stochastic gradient , errore assoluto medio\n",
    "\n",
    "early_stopping_monitor = EarlyStopping(patience= 5, monitor = 'val_accuracy')\n",
    "\n",
    "model_chekpoint_callback = ModelCheckpoint(filepath='best_model0.hdf5',\n",
    "                                           monitor = 'val_accuracy',\n",
    "                                           mode = 'auto',\n",
    "                                           verbose=1)\n",
    "\n",
    "hystory = model.fit(X_train_reshaped, y_train,\n",
    "         validation_data = (X_test_reshaped,y_test),\n",
    "                    epochs =30,\n",
    "                   callbacks = (early_stopping_monitor,model_chekpoint_callback))\n",
    "\n",
    "#in multiclass possiamo aggiungere la softmax come activation function in modo da aumentare la probabilità che solo\n",
    "#un nodo di uscita venga scelto ogni volta\n",
    "#se per caso due possibili risultati sono anche parzialmente sovrapponibili si usa come activation function sigmoid"
   ]
  },
  {
   "cell_type": "markdown",
   "metadata": {},
   "source": [
    "**More complex model: increase width and depth**"
   ]
  },
  {
   "cell_type": "code",
   "execution_count": 10,
   "metadata": {},
   "outputs": [
    {
     "name": "stdout",
     "output_type": "stream",
     "text": [
      "Epoch 1/30\n"
     ]
    },
    {
     "name": "stderr",
     "output_type": "stream",
     "text": [
      "2021-12-05 22:36:51.313753: I tensorflow/core/grappler/optimizers/custom_graph_optimizer_registry.cc:112] Plugin optimizer for device_type GPU is enabled.\n"
     ]
    },
    {
     "name": "stdout",
     "output_type": "stream",
     "text": [
      "15/15 [==============================] - 1s 22ms/step - loss: 4.3274 - accuracy: 0.1354 - val_loss: 2.7577 - val_accuracy: 0.1290\n",
      "\n",
      "Epoch 00001: val_accuracy improved from -inf to 0.12903, saving model to best_model1.hdf5\n",
      "Epoch 2/30\n",
      " 1/15 [=>............................] - ETA: 0s - loss: 3.2110 - accuracy: 0.1250"
     ]
    },
    {
     "name": "stderr",
     "output_type": "stream",
     "text": [
      "2021-12-05 22:36:51.849587: I tensorflow/core/grappler/optimizers/custom_graph_optimizer_registry.cc:112] Plugin optimizer for device_type GPU is enabled.\n"
     ]
    },
    {
     "name": "stdout",
     "output_type": "stream",
     "text": [
      "15/15 [==============================] - 0s 18ms/step - loss: 2.3923 - accuracy: 0.2375 - val_loss: 1.8634 - val_accuracy: 0.2823\n",
      "\n",
      "Epoch 00002: val_accuracy improved from 0.12903 to 0.28226, saving model to best_model1.hdf5\n",
      "Epoch 3/30\n",
      "15/15 [==============================] - 0s 17ms/step - loss: 1.8530 - accuracy: 0.3333 - val_loss: 1.6398 - val_accuracy: 0.4758\n",
      "\n",
      "Epoch 00003: val_accuracy improved from 0.28226 to 0.47581, saving model to best_model1.hdf5\n",
      "Epoch 4/30\n",
      "15/15 [==============================] - 0s 17ms/step - loss: 1.4873 - accuracy: 0.5167 - val_loss: 1.5388 - val_accuracy: 0.4435\n",
      "\n",
      "Epoch 00004: val_accuracy did not improve from 0.47581\n",
      "Epoch 5/30\n",
      "15/15 [==============================] - 0s 17ms/step - loss: 1.2119 - accuracy: 0.6208 - val_loss: 1.3658 - val_accuracy: 0.5726\n",
      "\n",
      "Epoch 00005: val_accuracy improved from 0.47581 to 0.57258, saving model to best_model1.hdf5\n",
      "Epoch 6/30\n",
      "15/15 [==============================] - 0s 17ms/step - loss: 0.9113 - accuracy: 0.7313 - val_loss: 1.1909 - val_accuracy: 0.6129\n",
      "\n",
      "Epoch 00006: val_accuracy improved from 0.57258 to 0.61290, saving model to best_model1.hdf5\n",
      "Epoch 7/30\n",
      "15/15 [==============================] - 0s 17ms/step - loss: 0.7026 - accuracy: 0.7896 - val_loss: 1.2515 - val_accuracy: 0.5887\n",
      "\n",
      "Epoch 00007: val_accuracy did not improve from 0.61290\n",
      "Epoch 8/30\n",
      "15/15 [==============================] - 0s 17ms/step - loss: 0.5439 - accuracy: 0.8667 - val_loss: 1.1073 - val_accuracy: 0.6048\n",
      "\n",
      "Epoch 00008: val_accuracy did not improve from 0.61290\n",
      "Epoch 9/30\n",
      "15/15 [==============================] - 0s 17ms/step - loss: 0.4126 - accuracy: 0.9208 - val_loss: 1.1941 - val_accuracy: 0.6290\n",
      "\n",
      "Epoch 00009: val_accuracy improved from 0.61290 to 0.62903, saving model to best_model1.hdf5\n",
      "Epoch 10/30\n",
      "15/15 [==============================] - 0s 17ms/step - loss: 0.2795 - accuracy: 0.9479 - val_loss: 1.1308 - val_accuracy: 0.6210\n",
      "\n",
      "Epoch 00010: val_accuracy did not improve from 0.62903\n",
      "Epoch 11/30\n",
      "15/15 [==============================] - 0s 17ms/step - loss: 0.2496 - accuracy: 0.9417 - val_loss: 1.3344 - val_accuracy: 0.5968\n",
      "\n",
      "Epoch 00011: val_accuracy did not improve from 0.62903\n",
      "Epoch 12/30\n",
      "15/15 [==============================] - 0s 19ms/step - loss: 0.2027 - accuracy: 0.9646 - val_loss: 1.1412 - val_accuracy: 0.6613\n",
      "\n",
      "Epoch 00012: val_accuracy improved from 0.62903 to 0.66129, saving model to best_model1.hdf5\n",
      "Epoch 13/30\n",
      "15/15 [==============================] - 0s 17ms/step - loss: 0.1121 - accuracy: 0.9917 - val_loss: 0.9736 - val_accuracy: 0.7177\n",
      "\n",
      "Epoch 00013: val_accuracy improved from 0.66129 to 0.71774, saving model to best_model1.hdf5\n",
      "Epoch 14/30\n",
      "15/15 [==============================] - 0s 17ms/step - loss: 0.0703 - accuracy: 0.9979 - val_loss: 0.9808 - val_accuracy: 0.7258\n",
      "\n",
      "Epoch 00014: val_accuracy improved from 0.71774 to 0.72581, saving model to best_model1.hdf5\n",
      "Epoch 15/30\n",
      "15/15 [==============================] - 0s 17ms/step - loss: 0.0526 - accuracy: 1.0000 - val_loss: 1.0042 - val_accuracy: 0.7258\n",
      "\n",
      "Epoch 00015: val_accuracy did not improve from 0.72581\n",
      "Epoch 16/30\n",
      "15/15 [==============================] - 0s 17ms/step - loss: 0.0417 - accuracy: 1.0000 - val_loss: 1.1394 - val_accuracy: 0.6774\n",
      "\n",
      "Epoch 00016: val_accuracy did not improve from 0.72581\n",
      "Epoch 17/30\n",
      "15/15 [==============================] - 0s 17ms/step - loss: 0.0409 - accuracy: 0.9958 - val_loss: 1.0498 - val_accuracy: 0.7258\n",
      "\n",
      "Epoch 00017: val_accuracy did not improve from 0.72581\n",
      "Epoch 18/30\n",
      "15/15 [==============================] - 0s 17ms/step - loss: 0.0280 - accuracy: 1.0000 - val_loss: 1.1459 - val_accuracy: 0.6855\n",
      "\n",
      "Epoch 00018: val_accuracy did not improve from 0.72581\n",
      "Epoch 19/30\n",
      "15/15 [==============================] - 0s 17ms/step - loss: 0.0218 - accuracy: 1.0000 - val_loss: 1.0691 - val_accuracy: 0.7016\n",
      "\n",
      "Epoch 00019: val_accuracy did not improve from 0.72581\n",
      "Epoch 20/30\n",
      "15/15 [==============================] - 0s 17ms/step - loss: 0.0166 - accuracy: 1.0000 - val_loss: 1.0341 - val_accuracy: 0.6935\n",
      "\n",
      "Epoch 00020: val_accuracy did not improve from 0.72581\n",
      "Epoch 21/30\n",
      "15/15 [==============================] - 0s 17ms/step - loss: 0.0179 - accuracy: 1.0000 - val_loss: 1.0679 - val_accuracy: 0.7097\n",
      "\n",
      "Epoch 00021: val_accuracy did not improve from 0.72581\n",
      "Epoch 22/30\n",
      "15/15 [==============================] - 0s 17ms/step - loss: 0.0107 - accuracy: 1.0000 - val_loss: 0.9997 - val_accuracy: 0.6935\n",
      "\n",
      "Epoch 00022: val_accuracy did not improve from 0.72581\n",
      "Epoch 23/30\n",
      "15/15 [==============================] - 0s 17ms/step - loss: 0.0107 - accuracy: 1.0000 - val_loss: 1.0129 - val_accuracy: 0.7016\n",
      "\n",
      "Epoch 00023: val_accuracy did not improve from 0.72581\n",
      "Epoch 24/30\n",
      "15/15 [==============================] - 0s 17ms/step - loss: 0.0078 - accuracy: 1.0000 - val_loss: 0.9922 - val_accuracy: 0.7097\n",
      "\n",
      "Epoch 00024: val_accuracy did not improve from 0.72581\n",
      "Epoch 25/30\n",
      "15/15 [==============================] - 0s 17ms/step - loss: 0.0082 - accuracy: 1.0000 - val_loss: 0.9834 - val_accuracy: 0.7097\n",
      "\n",
      "Epoch 00025: val_accuracy did not improve from 0.72581\n",
      "Epoch 26/30\n",
      "15/15 [==============================] - 0s 17ms/step - loss: 0.0070 - accuracy: 1.0000 - val_loss: 0.9913 - val_accuracy: 0.7177\n",
      "\n",
      "Epoch 00026: val_accuracy did not improve from 0.72581\n",
      "Epoch 27/30\n",
      "15/15 [==============================] - 0s 17ms/step - loss: 0.0069 - accuracy: 1.0000 - val_loss: 1.0148 - val_accuracy: 0.7097\n",
      "\n",
      "Epoch 00027: val_accuracy did not improve from 0.72581\n",
      "Epoch 28/30\n",
      "15/15 [==============================] - 0s 17ms/step - loss: 0.0060 - accuracy: 1.0000 - val_loss: 1.0006 - val_accuracy: 0.7177\n",
      "\n",
      "Epoch 00028: val_accuracy did not improve from 0.72581\n",
      "Epoch 29/30\n",
      "15/15 [==============================] - 0s 17ms/step - loss: 0.0061 - accuracy: 1.0000 - val_loss: 1.0160 - val_accuracy: 0.7016\n",
      "\n",
      "Epoch 00029: val_accuracy did not improve from 0.72581\n"
     ]
    }
   ],
   "source": [
    "model = Sequential()\n",
    "\n",
    "#1°layer\n",
    "model.add(Dense(600, input_shape=(17393,)))\n",
    "model.add(Activation('relu'))\n",
    "#model.add(Dropout(0.25))\n",
    "\n",
    "#2°layer\n",
    "model.add(Dense(300))\n",
    "model.add(Activation('relu'))\n",
    "model.add(Dropout(0.2))\n",
    "\n",
    "#3°layer\n",
    "model.add(Dense(9))\n",
    "model.add(Activation('softmax'))\n",
    "\n",
    "#categorical_crossentropy loss per classificazione (penalizza molto le previsioni che sono sbagliate ma con alta probabilità)\n",
    "model.compile(optimizer = 'adam', loss = 'categorical_crossentropy', metrics=['accuracy']) #ottimizzatore che usa stochastic gradient , errore assoluto medio\n",
    "\n",
    "early_stopping_monitor = EarlyStopping(patience= 15, monitor = 'val_accuracy')\n",
    "\n",
    "model_chekpoint_callback = ModelCheckpoint(filepath='best_model1.hdf5',\n",
    "                                           monitor = 'val_accuracy',\n",
    "                                           mode = 'auto',\n",
    "                                           save_best_only=True,\n",
    "                                           verbose=1)\n",
    "\n",
    "hystory = model.fit(X_train_reshaped, y_train,\n",
    "         validation_data = (X_test_reshaped,y_test),\n",
    "                    epochs =30,\n",
    "                   callbacks = (early_stopping_monitor,model_chekpoint_callback))\n"
   ]
  },
  {
   "cell_type": "markdown",
   "metadata": {},
   "source": [
    "**Performance on test**"
   ]
  },
  {
   "cell_type": "code",
   "execution_count": 11,
   "metadata": {},
   "outputs": [],
   "source": [
    "#Create the vectors that contains the Cancers chosen (Cancer_Type2) and the one observed (Cancer_Type)\n",
    "Cancer_Type = [\"Gastrointestinal\",\"Genitals\",\"Muscle-Bone\",\"Neuro\",\"Breast\",\"Head_Neck\",\"Blood\",\n",
    "               \"Genitourinary\", \"Lung\"] \n"
   ]
  },
  {
   "cell_type": "markdown",
   "metadata": {},
   "source": [
    "- Eye: 0\n",
    "\n",
    "- Gastrointestinal: 1\n",
    "\n",
    "- Genitals: 2\n",
    "\n",
    "- Muscle-Bone: 3\n",
    "\n",
    "- Neuro: 4\n",
    "\n",
    "- Breast: 5\n",
    "\n",
    "- Head_Neck: 6\n",
    "\n",
    "- Blood: 7\n",
    "\n",
    "- Urinario: 8\n",
    "\n",
    "- Lung: 9"
   ]
  },
  {
   "cell_type": "code",
   "execution_count": 12,
   "metadata": {},
   "outputs": [],
   "source": [
    "import itertools\n",
    "def plot_confusion_matrix(cm, classes, normalize = False,\n",
    "                          title='Confusion matrix',\n",
    "                          cmap=plt.cm.Greens): # can change color\n",
    "\n",
    "    plt.figure(figsize = (10, 10))\n",
    "    plt.imshow(cm, interpolation='nearest', cmap=cmap)\n",
    "    plt.title(title, size = 24)\n",
    "    plt.colorbar(aspect=4)\n",
    "    tick_marks = np.arange(len(classes))\n",
    "    plt.xticks(tick_marks, classes, rotation=45, size = 14)\n",
    "    plt.yticks(tick_marks, classes, size = 14)\n",
    "    fmt = '.2f' if normalize else 'd'\n",
    "    thresh = cm.max() / 2.\n",
    "    # Label the plot\n",
    "    for i, j in itertools.product(range(cm.shape[0]),   range(cm.shape[1])):\n",
    "        plt.text(j, i, format(cm[i, j], fmt), \n",
    "                fontsize = 15,\n",
    "                horizontalalignment=\"center\",\n",
    "                color=\"white\" if cm[i, j] > thresh else \"black\")\n",
    "        plt.grid(None)\n",
    "        plt.tight_layout()\n",
    "        plt.ylabel('True label', size = 18)\n",
    "        plt.xlabel('Predicted label', size = 18)"
   ]
  },
  {
   "cell_type": "code",
   "execution_count": 13,
   "metadata": {},
   "outputs": [
    {
     "name": "stderr",
     "output_type": "stream",
     "text": [
      "2021-12-05 22:37:10.920778: I tensorflow/core/grappler/optimizers/custom_graph_optimizer_registry.cc:112] Plugin optimizer for device_type GPU is enabled.\n"
     ]
    }
   ],
   "source": [
    "best_model1 = load_model('best_model1.hdf5')\n",
    "y_pred = np.argmax(best_model1.predict(X_test_reshaped),axis = 1)\n",
    "y_pred = pd.get_dummies(y_pred)\n",
    "y_pred = y_pred.T.reindex(range(9)).T.fillna(0)"
   ]
  },
  {
   "cell_type": "code",
   "execution_count": 14,
   "metadata": {},
   "outputs": [
    {
     "data": {
      "image/png": "[encoded data removed]",
      "text/plain": [
       "<Figure size 720x720 with 2 Axes>"
      ]
     },
     "metadata": {
      "needs_background": "light"
     },
     "output_type": "display_data"
    }
   ],
   "source": [
    "#Change the name of the coloumns of the class matrix created through get_dummies \n",
    "# using more meaningful names\n",
    "y_test = y_test.set_axis(Cancer_Type, axis = 1)\n",
    "y_pred = y_pred.set_axis(Cancer_Type, axis= 1)\n",
    "y_train = y_train.set_axis(Cancer_Type, axis= 1)\n",
    "\n",
    "y_pred = np.argmax(best_model1.predict(X_test_reshaped),axis = 1)\n",
    "y_test_confusion = Test.iloc[:,17395]\n",
    "\n",
    "cm = confusion_matrix(y_test_confusion,y_pred)\n",
    "plot_confusion_matrix(cm, classes = Cancer_Type,\n",
    "                        title = 'Confusion Matrix')\n"
   ]
  },
  {
   "cell_type": "markdown",
   "metadata": {},
   "source": [
    "**Try the same but with focal loss**\n",
    "\n",
    "![Focal loss](https://lh4.googleusercontent.com/_Zb8VyevBHbPdlPS1Bcph18b0GnRdY__yrSWaxEobHAOSq5izCVXdRS0Eo-26pU5Q8JE2daQAmFlwwUKnRiaf7JJrv7VJOLXbTOF-B6G8yshVWdBwhRXFBuMB5L6eH7KCTjzen-t7e39pxku5A)"
   ]
  },
  {
   "cell_type": "code",
   "execution_count": 15,
   "metadata": {},
   "outputs": [],
   "source": [
    "\n",
    "def categorical_focal_loss(alpha, gamma=2.):\n",
    "    \"\"\"\n",
    "    Softmax version of focal loss.\n",
    "    When there is a skew between different categories/labels in your data set, you can try to apply this function as a\n",
    "    loss.\n",
    "           m\n",
    "      FL = ∑  -alpha * (1 - p_o,c)^gamma * y_o,c * log(p_o,c)\n",
    "          c=1\n",
    "      where m = number of classes, c = class and o = observation\n",
    "    Parameters:\n",
    "      alpha -- the same as weighing factor in balanced cross entropy. Alpha is used to specify the weight of different\n",
    "      categories/labels, the size of the array needs to be consistent with the number of classes.\n",
    "      gamma -- focusing parameter for modulating factor (1-p)\n",
    "    Default value:\n",
    "      gamma -- 2.0 as mentioned in the paper\n",
    "      alpha -- 0.25 as mentioned in the paper\n",
    "    References:\n",
    "        Official paper: https://arxiv.org/pdf/1708.02002.pdf\n",
    "        https://www.tensorflow.org/api_docs/python/tf/keras/backend/categorical_crossentropy\n",
    "    Usage:\n",
    "     model.compile(loss=[categorical_focal_loss(alpha=[[.25, .25, .25]], gamma=2)], metrics=[\"accuracy\"], optimizer=adam)\n",
    "    \"\"\"\n",
    "\n",
    "    alpha = np.array(alpha, dtype=np.float32)\n",
    "\n",
    "    def categorical_focal_loss_fixed(y_true, y_pred):\n",
    "        \"\"\"\n",
    "        :param y_true: A tensor of the same shape as `y_pred`\n",
    "        :param y_pred: A tensor resulting from a softmax\n",
    "        :return: Output tensor.\n",
    "        \"\"\"\n",
    "        y_true = tf.cast(y_true, tf.float32)\n",
    "        # Clip the prediction value to prevent NaN's and Inf's\n",
    "        epsilon = K.epsilon()\n",
    "        y_pred = K.clip(y_pred, epsilon, 1. - epsilon)\n",
    "\n",
    "        # Calculate Cross Entropy\n",
    "        cross_entropy = -y_true * K.log(y_pred)\n",
    "\n",
    "        # Calculate Focal Loss\n",
    "        loss = alpha * K.pow(1 - y_pred, gamma) * cross_entropy\n",
    "\n",
    "        # Compute mean loss in mini_batch\n",
    "        return K.mean(K.sum(loss, axis=-1))\n",
    "\n",
    "    return categorical_focal_loss_fixed"
   ]
  },
  {
   "cell_type": "code",
   "execution_count": 16,
   "metadata": {},
   "outputs": [
    {
     "name": "stdout",
     "output_type": "stream",
     "text": [
      "Epoch 1/50\n"
     ]
    },
    {
     "name": "stderr",
     "output_type": "stream",
     "text": [
      "2021-12-05 22:37:19.122170: I tensorflow/core/grappler/optimizers/custom_graph_optimizer_registry.cc:112] Plugin optimizer for device_type GPU is enabled.\n"
     ]
    },
    {
     "name": "stdout",
     "output_type": "stream",
     "text": [
      "15/15 [==============================] - 1s 27ms/step - loss: 0.7912 - accuracy: 0.1521 - val_loss: 0.3999 - val_accuracy: 0.2177\n"
     ]
    },
    {
     "name": "stderr",
     "output_type": "stream",
     "text": [
      "2021-12-05 22:37:19.586231: I tensorflow/core/grappler/optimizers/custom_graph_optimizer_registry.cc:112] Plugin optimizer for device_type GPU is enabled.\n"
     ]
    },
    {
     "name": "stdout",
     "output_type": "stream",
     "text": [
      "\n",
      "Epoch 00001: val_accuracy improved from -inf to 0.21774, saving model to best_model_2.hdf5\n",
      "Epoch 2/50\n",
      "15/15 [==============================] - 0s 16ms/step - loss: 0.4494 - accuracy: 0.2000 - val_loss: 0.3377 - val_accuracy: 0.4435\n",
      "\n",
      "Epoch 00002: val_accuracy improved from 0.21774 to 0.44355, saving model to best_model_2.hdf5\n",
      "Epoch 3/50\n",
      "15/15 [==============================] - 0s 15ms/step - loss: 0.3532 - accuracy: 0.3208 - val_loss: 0.3199 - val_accuracy: 0.3710\n",
      "\n",
      "Epoch 00003: val_accuracy did not improve from 0.44355\n",
      "Epoch 4/50\n",
      "15/15 [==============================] - 0s 15ms/step - loss: 0.3051 - accuracy: 0.4021 - val_loss: 0.3063 - val_accuracy: 0.5081\n",
      "\n",
      "Epoch 00004: val_accuracy improved from 0.44355 to 0.50806, saving model to best_model_2.hdf5\n",
      "Epoch 5/50\n",
      "15/15 [==============================] - 0s 15ms/step - loss: 0.2729 - accuracy: 0.4688 - val_loss: 0.2755 - val_accuracy: 0.3790\n",
      "\n",
      "Epoch 00005: val_accuracy did not improve from 0.50806\n",
      "Epoch 6/50\n",
      "15/15 [==============================] - 0s 14ms/step - loss: 0.2228 - accuracy: 0.5604 - val_loss: 0.2397 - val_accuracy: 0.5565\n",
      "\n",
      "Epoch 00006: val_accuracy improved from 0.50806 to 0.55645, saving model to best_model_2.hdf5\n",
      "Epoch 7/50\n",
      "15/15 [==============================] - 0s 15ms/step - loss: 0.1687 - accuracy: 0.6646 - val_loss: 0.2299 - val_accuracy: 0.6371\n",
      "\n",
      "Epoch 00007: val_accuracy improved from 0.55645 to 0.63710, saving model to best_model_2.hdf5\n",
      "Epoch 8/50\n",
      "15/15 [==============================] - 0s 15ms/step - loss: 0.1373 - accuracy: 0.6979 - val_loss: 0.2259 - val_accuracy: 0.5000\n",
      "\n",
      "Epoch 00008: val_accuracy did not improve from 0.63710\n",
      "Epoch 9/50\n",
      "15/15 [==============================] - 0s 15ms/step - loss: 0.1051 - accuracy: 0.7854 - val_loss: 0.1866 - val_accuracy: 0.6290\n",
      "\n",
      "Epoch 00009: val_accuracy did not improve from 0.63710\n",
      "Epoch 10/50\n",
      "15/15 [==============================] - 0s 14ms/step - loss: 0.0899 - accuracy: 0.8104 - val_loss: 0.1961 - val_accuracy: 0.5726\n",
      "\n",
      "Epoch 00010: val_accuracy did not improve from 0.63710\n",
      "Epoch 11/50\n",
      "15/15 [==============================] - 0s 16ms/step - loss: 0.0698 - accuracy: 0.8625 - val_loss: 0.1670 - val_accuracy: 0.6935\n",
      "\n",
      "Epoch 00011: val_accuracy improved from 0.63710 to 0.69355, saving model to best_model_2.hdf5\n",
      "Epoch 12/50\n",
      "15/15 [==============================] - 0s 15ms/step - loss: 0.0475 - accuracy: 0.9000 - val_loss: 0.1751 - val_accuracy: 0.6613\n",
      "\n",
      "Epoch 00012: val_accuracy did not improve from 0.69355\n",
      "Epoch 13/50\n",
      "15/15 [==============================] - 0s 14ms/step - loss: 0.0301 - accuracy: 0.9292 - val_loss: 0.1958 - val_accuracy: 0.6371\n",
      "\n",
      "Epoch 00013: val_accuracy did not improve from 0.69355\n",
      "Epoch 14/50\n",
      "15/15 [==============================] - 0s 16ms/step - loss: 0.0250 - accuracy: 0.9542 - val_loss: 0.1689 - val_accuracy: 0.6855\n",
      "\n",
      "Epoch 00014: val_accuracy did not improve from 0.69355\n",
      "Epoch 15/50\n",
      "15/15 [==============================] - 0s 15ms/step - loss: 0.0203 - accuracy: 0.9521 - val_loss: 0.1817 - val_accuracy: 0.6935\n",
      "\n",
      "Epoch 00015: val_accuracy did not improve from 0.69355\n",
      "Epoch 16/50\n",
      "15/15 [==============================] - 0s 16ms/step - loss: 0.0108 - accuracy: 0.9792 - val_loss: 0.1629 - val_accuracy: 0.6855\n",
      "\n",
      "Epoch 00016: val_accuracy did not improve from 0.69355\n",
      "Epoch 17/50\n",
      "15/15 [==============================] - 0s 16ms/step - loss: 0.0095 - accuracy: 0.9771 - val_loss: 0.1597 - val_accuracy: 0.7016\n",
      "\n",
      "Epoch 00017: val_accuracy improved from 0.69355 to 0.70161, saving model to best_model_2.hdf5\n",
      "Epoch 18/50\n",
      "15/15 [==============================] - 0s 16ms/step - loss: 0.0060 - accuracy: 0.9938 - val_loss: 0.1649 - val_accuracy: 0.7016\n",
      "\n",
      "Epoch 00018: val_accuracy did not improve from 0.70161\n",
      "Epoch 19/50\n",
      "15/15 [==============================] - 0s 14ms/step - loss: 0.0057 - accuracy: 0.9917 - val_loss: 0.1453 - val_accuracy: 0.7339\n",
      "\n",
      "Epoch 00019: val_accuracy improved from 0.70161 to 0.73387, saving model to best_model_2.hdf5\n",
      "Epoch 20/50\n",
      "15/15 [==============================] - 0s 15ms/step - loss: 0.0061 - accuracy: 0.9938 - val_loss: 0.1433 - val_accuracy: 0.7016\n",
      "\n",
      "Epoch 00020: val_accuracy did not improve from 0.73387\n",
      "Epoch 21/50\n",
      "15/15 [==============================] - 0s 16ms/step - loss: 0.0037 - accuracy: 0.9958 - val_loss: 0.1512 - val_accuracy: 0.7258\n",
      "\n",
      "Epoch 00021: val_accuracy did not improve from 0.73387\n",
      "Epoch 22/50\n",
      "15/15 [==============================] - 0s 15ms/step - loss: 0.0049 - accuracy: 0.9875 - val_loss: 0.1999 - val_accuracy: 0.7016\n",
      "\n",
      "Epoch 00022: val_accuracy did not improve from 0.73387\n",
      "Epoch 23/50\n",
      "15/15 [==============================] - 0s 14ms/step - loss: 0.0053 - accuracy: 0.9875 - val_loss: 0.1716 - val_accuracy: 0.7016\n",
      "\n",
      "Epoch 00023: val_accuracy did not improve from 0.73387\n",
      "Epoch 24/50\n",
      "15/15 [==============================] - 0s 14ms/step - loss: 0.0064 - accuracy: 0.9875 - val_loss: 0.1601 - val_accuracy: 0.7258\n",
      "\n",
      "Epoch 00024: val_accuracy did not improve from 0.73387\n",
      "Epoch 25/50\n",
      "15/15 [==============================] - 0s 14ms/step - loss: 0.0056 - accuracy: 0.9833 - val_loss: 0.1466 - val_accuracy: 0.7339\n",
      "\n",
      "Epoch 00025: val_accuracy did not improve from 0.73387\n",
      "Epoch 26/50\n",
      "15/15 [==============================] - 0s 14ms/step - loss: 0.0030 - accuracy: 0.9958 - val_loss: 0.1680 - val_accuracy: 0.7097\n",
      "\n",
      "Epoch 00026: val_accuracy did not improve from 0.73387\n",
      "Epoch 27/50\n",
      "15/15 [==============================] - 0s 15ms/step - loss: 0.0024 - accuracy: 0.9958 - val_loss: 0.1721 - val_accuracy: 0.7097\n",
      "\n",
      "Epoch 00027: val_accuracy did not improve from 0.73387\n",
      "Epoch 28/50\n",
      "15/15 [==============================] - 0s 14ms/step - loss: 0.0032 - accuracy: 0.9938 - val_loss: 0.1446 - val_accuracy: 0.7419\n",
      "\n",
      "Epoch 00028: val_accuracy improved from 0.73387 to 0.74194, saving model to best_model_2.hdf5\n",
      "Epoch 29/50\n",
      "15/15 [==============================] - 0s 15ms/step - loss: 0.0032 - accuracy: 0.9917 - val_loss: 0.1832 - val_accuracy: 0.6694\n",
      "\n",
      "Epoch 00029: val_accuracy did not improve from 0.74194\n",
      "Epoch 30/50\n",
      "15/15 [==============================] - 0s 14ms/step - loss: 0.0040 - accuracy: 0.9958 - val_loss: 0.1689 - val_accuracy: 0.7177\n",
      "\n",
      "Epoch 00030: val_accuracy did not improve from 0.74194\n",
      "Epoch 31/50\n",
      "15/15 [==============================] - 0s 14ms/step - loss: 0.0030 - accuracy: 0.9875 - val_loss: 0.1777 - val_accuracy: 0.6774\n",
      "\n",
      "Epoch 00031: val_accuracy did not improve from 0.74194\n",
      "Epoch 32/50\n",
      "15/15 [==============================] - 0s 14ms/step - loss: 0.0040 - accuracy: 0.9896 - val_loss: 0.2077 - val_accuracy: 0.6694\n",
      "\n",
      "Epoch 00032: val_accuracy did not improve from 0.74194\n",
      "Epoch 33/50\n",
      "15/15 [==============================] - 0s 14ms/step - loss: 0.0032 - accuracy: 0.9958 - val_loss: 0.2038 - val_accuracy: 0.6613\n",
      "\n",
      "Epoch 00033: val_accuracy did not improve from 0.74194\n",
      "Epoch 34/50\n",
      "15/15 [==============================] - 0s 14ms/step - loss: 0.0068 - accuracy: 0.9813 - val_loss: 0.1743 - val_accuracy: 0.6774\n",
      "\n",
      "Epoch 00034: val_accuracy did not improve from 0.74194\n",
      "Epoch 35/50\n",
      "15/15 [==============================] - 0s 14ms/step - loss: 0.0157 - accuracy: 0.9563 - val_loss: 0.1998 - val_accuracy: 0.6532\n",
      "\n",
      "Epoch 00035: val_accuracy did not improve from 0.74194\n",
      "Epoch 36/50\n",
      "15/15 [==============================] - 0s 14ms/step - loss: 0.0043 - accuracy: 0.9875 - val_loss: 0.1834 - val_accuracy: 0.6855\n",
      "\n",
      "Epoch 00036: val_accuracy did not improve from 0.74194\n",
      "Epoch 37/50\n",
      "15/15 [==============================] - 0s 14ms/step - loss: 0.0027 - accuracy: 0.9938 - val_loss: 0.1617 - val_accuracy: 0.7097\n",
      "\n",
      "Epoch 00037: val_accuracy did not improve from 0.74194\n",
      "Epoch 38/50\n",
      "15/15 [==============================] - 0s 14ms/step - loss: 0.0015 - accuracy: 1.0000 - val_loss: 0.1649 - val_accuracy: 0.7339\n",
      "\n",
      "Epoch 00038: val_accuracy did not improve from 0.74194\n",
      "Epoch 39/50\n",
      "15/15 [==============================] - 0s 15ms/step - loss: 0.0015 - accuracy: 1.0000 - val_loss: 0.1468 - val_accuracy: 0.7097\n",
      "\n",
      "Epoch 00039: val_accuracy did not improve from 0.74194\n",
      "Epoch 40/50\n",
      "15/15 [==============================] - 0s 14ms/step - loss: 0.0018 - accuracy: 0.9958 - val_loss: 0.1797 - val_accuracy: 0.7016\n",
      "\n",
      "Epoch 00040: val_accuracy did not improve from 0.74194\n",
      "Epoch 41/50\n",
      "15/15 [==============================] - 0s 14ms/step - loss: 0.0040 - accuracy: 0.9896 - val_loss: 0.1538 - val_accuracy: 0.7016\n",
      "\n",
      "Epoch 00041: val_accuracy did not improve from 0.74194\n",
      "Epoch 42/50\n",
      "15/15 [==============================] - 0s 14ms/step - loss: 0.0038 - accuracy: 0.9958 - val_loss: 0.1971 - val_accuracy: 0.6774\n",
      "\n",
      "Epoch 00042: val_accuracy did not improve from 0.74194\n",
      "Epoch 43/50\n",
      "15/15 [==============================] - 0s 14ms/step - loss: 0.0057 - accuracy: 0.9813 - val_loss: 0.2684 - val_accuracy: 0.6129\n",
      "\n",
      "Epoch 00043: val_accuracy did not improve from 0.74194\n"
     ]
    }
   ],
   "source": [
    "model = Sequential()\n",
    "\n",
    "#1°layer\n",
    "model.add(Dense(400, input_shape=(17393,)))\n",
    "model.add(Activation('relu'))\n",
    "model.add(Dropout(0.1))\n",
    "\n",
    "#2°layer\n",
    "model.add(Dense(300))\n",
    "model.add(Activation('relu'))\n",
    "model.add(Dropout(0.2))\n",
    "\n",
    "#3°layer\n",
    "model.add(Dense(9))\n",
    "model.add(Activation('softmax'))\n",
    "\n",
    "#categorical_crossentropy loss per classificazione (penalizza molto le previsioni che sono sbagliate ma con alta probabilità)\n",
    "model.compile(optimizer = 'adam', metrics=['accuracy'], \n",
    "    loss=[categorical_focal_loss(alpha=[.25, .25, .25, .25, .25, .25, .25, .25, .25], gamma=2)])\n",
    "\n",
    "early_stopping_monitor = EarlyStopping(patience= 15, monitor = 'val_accuracy')\n",
    "\n",
    "model_chekpoint_callback = ModelCheckpoint(filepath='best_model_2.hdf5',\n",
    "                                           monitor = 'val_accuracy',\n",
    "                                           mode = 'auto',\n",
    "                                           save_best_only=True,\n",
    "                                           verbose=1)\n",
    "\n",
    "hystory = model.fit(X_train_reshaped, y_train,\n",
    "         validation_data = (X_test_reshaped,y_test),\n",
    "                    epochs =50,\n",
    "                   callbacks = (early_stopping_monitor,model_chekpoint_callback))\n"
   ]
  },
  {
   "cell_type": "code",
   "execution_count": 17,
   "metadata": {},
   "outputs": [
    {
     "name": "stderr",
     "output_type": "stream",
     "text": [
      "2021-12-05 22:37:35.774846: I tensorflow/core/grappler/optimizers/custom_graph_optimizer_registry.cc:112] Plugin optimizer for device_type GPU is enabled.\n"
     ]
    }
   ],
   "source": [
    "best_model_2 = load_model('best_model_2.hdf5', compile=False)\n",
    "y_pred = np.argmax(best_model_2.predict(X_test_reshaped),axis = 1)\n",
    "y_pred = pd.get_dummies(y_pred)\n",
    "y_pred = y_pred.T.reindex(range(9)).T.fillna(0)"
   ]
  },
  {
   "cell_type": "code",
   "execution_count": 18,
   "metadata": {},
   "outputs": [
    {
     "data": {
      "image/png": "[encoded data removed]",
      "text/plain": [
       "<Figure size 720x720 with 2 Axes>"
      ]
     },
     "metadata": {
      "needs_background": "light"
     },
     "output_type": "display_data"
    }
   ],
   "source": [
    "#Change the name of the coloumns of the class matrix created through get_dummies \n",
    "# using more meaningful names\n",
    "y_test = y_test.set_axis(Cancer_Type, axis = 1)\n",
    "y_pred = y_pred.set_axis(Cancer_Type, axis= 1)\n",
    "y_train = y_train.set_axis(Cancer_Type, axis= 1)\n",
    "\n",
    "y_pred = np.argmax(best_model_2.predict(X_test_reshaped),axis = 1)\n",
    "y_test_confusion = Test.iloc[:,17395]\n",
    "\n",
    "cm = confusion_matrix(y_test_confusion,y_pred)\n",
    "plot_confusion_matrix(cm, classes = Cancer_Type,\n",
    "                        title = 'Confusion Matrix')\n",
    "\n",
    "\n"
   ]
  },
  {
   "cell_type": "markdown",
   "metadata": {},
   "source": [
    "**Try the same but adjust alpha paramter wrt class percentage**"
   ]
  },
  {
   "cell_type": "code",
   "execution_count": 19,
   "metadata": {},
   "outputs": [],
   "source": [
    "n_obs = cm.sum(axis=1)\n",
    "class_perc = n_obs/sum(n_obs)"
   ]
  },
  {
   "cell_type": "code",
   "execution_count": 20,
   "metadata": {},
   "outputs": [
    {
     "name": "stdout",
     "output_type": "stream",
     "text": [
      "Epoch 1/50\n",
      " 4/15 [=======>......................] - ETA: 0s - loss: 0.5628 - accuracy: 0.0938"
     ]
    },
    {
     "name": "stderr",
     "output_type": "stream",
     "text": [
      "2021-12-05 22:37:47.675251: I tensorflow/core/grappler/optimizers/custom_graph_optimizer_registry.cc:112] Plugin optimizer for device_type GPU is enabled.\n"
     ]
    },
    {
     "name": "stdout",
     "output_type": "stream",
     "text": [
      "15/15 [==============================] - 0s 21ms/step - loss: 0.4583 - accuracy: 0.1688 - val_loss: 0.2261 - val_accuracy: 0.2258\n",
      "\n",
      "Epoch 00001: val_accuracy improved from -inf to 0.22581, saving model to best_model_3.hdf5\n",
      "Epoch 2/50\n",
      " 1/15 [=>............................] - ETA: 0s - loss: 0.3090 - accuracy: 0.1250"
     ]
    },
    {
     "name": "stderr",
     "output_type": "stream",
     "text": [
      "2021-12-05 22:37:48.010795: I tensorflow/core/grappler/optimizers/custom_graph_optimizer_registry.cc:112] Plugin optimizer for device_type GPU is enabled.\n"
     ]
    },
    {
     "name": "stdout",
     "output_type": "stream",
     "text": [
      "15/15 [==============================] - 0s 15ms/step - loss: 0.2146 - accuracy: 0.2167 - val_loss: 0.1557 - val_accuracy: 0.3790\n",
      "\n",
      "Epoch 00002: val_accuracy improved from 0.22581 to 0.37903, saving model to best_model_3.hdf5\n",
      "Epoch 3/50\n",
      "15/15 [==============================] - 0s 15ms/step - loss: 0.1685 - accuracy: 0.2938 - val_loss: 0.1472 - val_accuracy: 0.3387\n",
      "\n",
      "Epoch 00003: val_accuracy did not improve from 0.37903\n",
      "Epoch 4/50\n",
      "15/15 [==============================] - 0s 15ms/step - loss: 0.1320 - accuracy: 0.3917 - val_loss: 0.1292 - val_accuracy: 0.5161\n",
      "\n",
      "Epoch 00004: val_accuracy improved from 0.37903 to 0.51613, saving model to best_model_3.hdf5\n",
      "Epoch 5/50\n",
      "15/15 [==============================] - 0s 15ms/step - loss: 0.1011 - accuracy: 0.5208 - val_loss: 0.1112 - val_accuracy: 0.5242\n",
      "\n",
      "Epoch 00005: val_accuracy improved from 0.51613 to 0.52419, saving model to best_model_3.hdf5\n",
      "Epoch 6/50\n",
      "15/15 [==============================] - 0s 15ms/step - loss: 0.0873 - accuracy: 0.5604 - val_loss: 0.1054 - val_accuracy: 0.5484\n",
      "\n",
      "Epoch 00006: val_accuracy improved from 0.52419 to 0.54839, saving model to best_model_3.hdf5\n",
      "Epoch 7/50\n",
      "15/15 [==============================] - 0s 14ms/step - loss: 0.0680 - accuracy: 0.6021 - val_loss: 0.0905 - val_accuracy: 0.5645\n",
      "\n",
      "Epoch 00007: val_accuracy improved from 0.54839 to 0.56452, saving model to best_model_3.hdf5\n",
      "Epoch 8/50\n",
      "15/15 [==============================] - 0s 15ms/step - loss: 0.0503 - accuracy: 0.6875 - val_loss: 0.1001 - val_accuracy: 0.4839\n",
      "\n",
      "Epoch 00008: val_accuracy did not improve from 0.56452\n",
      "Epoch 9/50\n",
      "15/15 [==============================] - 0s 14ms/step - loss: 0.0380 - accuracy: 0.7667 - val_loss: 0.0752 - val_accuracy: 0.6371\n",
      "\n",
      "Epoch 00009: val_accuracy improved from 0.56452 to 0.63710, saving model to best_model_3.hdf5\n",
      "Epoch 10/50\n",
      "15/15 [==============================] - 0s 16ms/step - loss: 0.0331 - accuracy: 0.7667 - val_loss: 0.0880 - val_accuracy: 0.6290\n",
      "\n",
      "Epoch 00010: val_accuracy did not improve from 0.63710\n",
      "Epoch 11/50\n",
      "15/15 [==============================] - 0s 14ms/step - loss: 0.0280 - accuracy: 0.7875 - val_loss: 0.0882 - val_accuracy: 0.6371\n",
      "\n",
      "Epoch 00011: val_accuracy did not improve from 0.63710\n",
      "Epoch 12/50\n",
      "15/15 [==============================] - 0s 16ms/step - loss: 0.0242 - accuracy: 0.8188 - val_loss: 0.0759 - val_accuracy: 0.6855\n",
      "\n",
      "Epoch 00012: val_accuracy improved from 0.63710 to 0.68548, saving model to best_model_3.hdf5\n",
      "Epoch 13/50\n",
      "15/15 [==============================] - 0s 14ms/step - loss: 0.0158 - accuracy: 0.8583 - val_loss: 0.0768 - val_accuracy: 0.6613\n",
      "\n",
      "Epoch 00013: val_accuracy did not improve from 0.68548\n",
      "Epoch 14/50\n",
      "15/15 [==============================] - 0s 14ms/step - loss: 0.0136 - accuracy: 0.8667 - val_loss: 0.0891 - val_accuracy: 0.6774\n",
      "\n",
      "Epoch 00014: val_accuracy did not improve from 0.68548\n",
      "Epoch 15/50\n",
      "15/15 [==============================] - 0s 15ms/step - loss: 0.0092 - accuracy: 0.8917 - val_loss: 0.0769 - val_accuracy: 0.6613\n",
      "\n",
      "Epoch 00015: val_accuracy did not improve from 0.68548\n",
      "Epoch 16/50\n",
      "15/15 [==============================] - 0s 14ms/step - loss: 0.0076 - accuracy: 0.9292 - val_loss: 0.0732 - val_accuracy: 0.6935\n",
      "\n",
      "Epoch 00016: val_accuracy improved from 0.68548 to 0.69355, saving model to best_model_3.hdf5\n",
      "Epoch 17/50\n",
      "15/15 [==============================] - 0s 15ms/step - loss: 0.0058 - accuracy: 0.9396 - val_loss: 0.0854 - val_accuracy: 0.6855\n",
      "\n",
      "Epoch 00017: val_accuracy did not improve from 0.69355\n",
      "Epoch 18/50\n",
      "15/15 [==============================] - 0s 14ms/step - loss: 0.0047 - accuracy: 0.9521 - val_loss: 0.0825 - val_accuracy: 0.6371\n",
      "\n",
      "Epoch 00018: val_accuracy did not improve from 0.69355\n",
      "Epoch 19/50\n",
      "15/15 [==============================] - 0s 14ms/step - loss: 0.0080 - accuracy: 0.9271 - val_loss: 0.0959 - val_accuracy: 0.6371\n",
      "\n",
      "Epoch 00019: val_accuracy did not improve from 0.69355\n",
      "Epoch 20/50\n",
      "15/15 [==============================] - 0s 14ms/step - loss: 0.0089 - accuracy: 0.8979 - val_loss: 0.0859 - val_accuracy: 0.6532\n",
      "\n",
      "Epoch 00020: val_accuracy did not improve from 0.69355\n",
      "Epoch 21/50\n",
      "15/15 [==============================] - 0s 14ms/step - loss: 0.0036 - accuracy: 0.9688 - val_loss: 0.0773 - val_accuracy: 0.6855\n",
      "\n",
      "Epoch 00021: val_accuracy did not improve from 0.69355\n",
      "Epoch 22/50\n",
      "15/15 [==============================] - 0s 14ms/step - loss: 0.0022 - accuracy: 0.9729 - val_loss: 0.0760 - val_accuracy: 0.7097\n",
      "\n",
      "Epoch 00022: val_accuracy improved from 0.69355 to 0.70968, saving model to best_model_3.hdf5\n",
      "Epoch 23/50\n",
      "15/15 [==============================] - 0s 15ms/step - loss: 0.0017 - accuracy: 0.9833 - val_loss: 0.0850 - val_accuracy: 0.6855\n",
      "\n",
      "Epoch 00023: val_accuracy did not improve from 0.70968\n",
      "Epoch 24/50\n",
      "15/15 [==============================] - 0s 14ms/step - loss: 0.0014 - accuracy: 0.9917 - val_loss: 0.0902 - val_accuracy: 0.6855\n",
      "\n",
      "Epoch 00024: val_accuracy did not improve from 0.70968\n",
      "Epoch 25/50\n",
      "15/15 [==============================] - 0s 14ms/step - loss: 0.0012 - accuracy: 0.9896 - val_loss: 0.0858 - val_accuracy: 0.6774\n",
      "\n",
      "Epoch 00025: val_accuracy did not improve from 0.70968\n",
      "Epoch 26/50\n",
      "15/15 [==============================] - 0s 14ms/step - loss: 0.0011 - accuracy: 0.9917 - val_loss: 0.0835 - val_accuracy: 0.7258\n",
      "\n",
      "Epoch 00026: val_accuracy improved from 0.70968 to 0.72581, saving model to best_model_3.hdf5\n",
      "Epoch 27/50\n",
      "15/15 [==============================] - 0s 14ms/step - loss: 0.0011 - accuracy: 0.9938 - val_loss: 0.0780 - val_accuracy: 0.7016\n",
      "\n",
      "Epoch 00027: val_accuracy did not improve from 0.72581\n",
      "Epoch 28/50\n",
      "15/15 [==============================] - 0s 14ms/step - loss: 0.0012 - accuracy: 0.9917 - val_loss: 0.0913 - val_accuracy: 0.6613\n",
      "\n",
      "Epoch 00028: val_accuracy did not improve from 0.72581\n",
      "Epoch 29/50\n",
      "15/15 [==============================] - 0s 14ms/step - loss: 0.0011 - accuracy: 0.9854 - val_loss: 0.0919 - val_accuracy: 0.6935\n",
      "\n",
      "Epoch 00029: val_accuracy did not improve from 0.72581\n",
      "Epoch 30/50\n",
      "15/15 [==============================] - 0s 14ms/step - loss: 8.2190e-04 - accuracy: 0.9917 - val_loss: 0.0815 - val_accuracy: 0.6774\n",
      "\n",
      "Epoch 00030: val_accuracy did not improve from 0.72581\n",
      "Epoch 31/50\n",
      "15/15 [==============================] - 0s 15ms/step - loss: 8.2368e-04 - accuracy: 1.0000 - val_loss: 0.0879 - val_accuracy: 0.6855\n",
      "\n",
      "Epoch 00031: val_accuracy did not improve from 0.72581\n",
      "Epoch 32/50\n",
      "15/15 [==============================] - 0s 14ms/step - loss: 5.4777e-04 - accuracy: 0.9979 - val_loss: 0.0919 - val_accuracy: 0.7177\n",
      "\n",
      "Epoch 00032: val_accuracy did not improve from 0.72581\n",
      "Epoch 33/50\n",
      "15/15 [==============================] - 0s 14ms/step - loss: 0.0011 - accuracy: 0.9938 - val_loss: 0.0892 - val_accuracy: 0.6935\n",
      "\n",
      "Epoch 00033: val_accuracy did not improve from 0.72581\n",
      "Epoch 34/50\n",
      "15/15 [==============================] - 0s 14ms/step - loss: 5.2652e-04 - accuracy: 0.9938 - val_loss: 0.0872 - val_accuracy: 0.7016\n",
      "\n",
      "Epoch 00034: val_accuracy did not improve from 0.72581\n",
      "Epoch 35/50\n",
      "15/15 [==============================] - 0s 14ms/step - loss: 5.8080e-04 - accuracy: 0.9979 - val_loss: 0.0865 - val_accuracy: 0.7016\n",
      "\n",
      "Epoch 00035: val_accuracy did not improve from 0.72581\n",
      "Epoch 36/50\n",
      "15/15 [==============================] - 0s 14ms/step - loss: 4.6890e-04 - accuracy: 0.9938 - val_loss: 0.0866 - val_accuracy: 0.6855\n",
      "\n",
      "Epoch 00036: val_accuracy did not improve from 0.72581\n",
      "Epoch 37/50\n",
      "15/15 [==============================] - 0s 14ms/step - loss: 3.0728e-04 - accuracy: 0.9958 - val_loss: 0.0812 - val_accuracy: 0.7177\n",
      "\n",
      "Epoch 00037: val_accuracy did not improve from 0.72581\n",
      "Epoch 38/50\n",
      "15/15 [==============================] - 0s 14ms/step - loss: 3.8147e-04 - accuracy: 1.0000 - val_loss: 0.0887 - val_accuracy: 0.7016\n",
      "\n",
      "Epoch 00038: val_accuracy did not improve from 0.72581\n",
      "Epoch 39/50\n",
      "15/15 [==============================] - 0s 14ms/step - loss: 2.0895e-04 - accuracy: 1.0000 - val_loss: 0.0827 - val_accuracy: 0.7177\n",
      "\n",
      "Epoch 00039: val_accuracy did not improve from 0.72581\n",
      "Epoch 40/50\n",
      "15/15 [==============================] - 0s 14ms/step - loss: 2.3487e-04 - accuracy: 1.0000 - val_loss: 0.0852 - val_accuracy: 0.6935\n",
      "\n",
      "Epoch 00040: val_accuracy did not improve from 0.72581\n",
      "Epoch 41/50\n",
      "15/15 [==============================] - 0s 14ms/step - loss: 2.7768e-04 - accuracy: 0.9958 - val_loss: 0.0830 - val_accuracy: 0.7016\n",
      "\n",
      "Epoch 00041: val_accuracy did not improve from 0.72581\n"
     ]
    }
   ],
   "source": [
    "model = Sequential()\n",
    "\n",
    "#1°layer\n",
    "model.add(Dense(500, input_shape=(17393,)))\n",
    "model.add(Activation('relu'))\n",
    "model.add(Dropout(0.1))\n",
    "\n",
    "#2°layer\n",
    "model.add(Dense(300))\n",
    "model.add(Activation('relu'))\n",
    "model.add(Dropout(0.1))\n",
    "\n",
    "#3°layer\n",
    "model.add(Dense(9))\n",
    "model.add(Activation('softmax'))\n",
    "\n",
    "#categorical_crossentropy loss per classificazione (penalizza molto le previsioni che sono sbagliate ma con alta probabilità)\n",
    "model.compile(optimizer = 'adam', metrics=['accuracy'], \n",
    "    loss=[categorical_focal_loss(alpha=class_perc, gamma=2)])\n",
    "\n",
    "early_stopping_monitor = EarlyStopping(patience= 15, monitor = 'val_accuracy')\n",
    "\n",
    "model_chekpoint_callback = ModelCheckpoint(filepath='best_model_3.hdf5',\n",
    "                                           monitor = 'val_accuracy',\n",
    "                                           mode = 'auto',\n",
    "                                           save_best_only=True,\n",
    "                                           verbose=1)\n",
    "\n",
    "hystory = model.fit(X_train_reshaped, y_train,\n",
    "         validation_data = (X_test_reshaped,y_test),\n",
    "                    epochs =50,\n",
    "                   callbacks = (early_stopping_monitor,model_chekpoint_callback))\n"
   ]
  },
  {
   "cell_type": "code",
   "execution_count": 21,
   "metadata": {},
   "outputs": [
    {
     "name": "stderr",
     "output_type": "stream",
     "text": [
      "2021-12-05 22:38:13.911962: I tensorflow/core/grappler/optimizers/custom_graph_optimizer_registry.cc:112] Plugin optimizer for device_type GPU is enabled.\n"
     ]
    }
   ],
   "source": [
    "best_model_3 = load_model('best_model_3.hdf5', compile=False)\n",
    "y_pred = np.argmax(best_model_3.predict(X_test_reshaped),axis = 1)\n",
    "y_pred = pd.get_dummies(y_pred)\n",
    "y_pred = y_pred.T.reindex(range(9)).T.fillna(0)"
   ]
  },
  {
   "cell_type": "code",
   "execution_count": 22,
   "metadata": {},
   "outputs": [
    {
     "data": {
      "image/png": "[encoded data removed]",
      "text/plain": [
       "<Figure size 720x720 with 2 Axes>"
      ]
     },
     "metadata": {
      "needs_background": "light"
     },
     "output_type": "display_data"
    }
   ],
   "source": [
    "#Change the name of the coloumns of the class matrix created through get_dummies \n",
    "# using more meaningful names\n",
    "y_test = y_test.set_axis(Cancer_Type, axis = 1)\n",
    "y_pred = y_pred.set_axis(Cancer_Type, axis= 1)\n",
    "y_train = y_train.set_axis(Cancer_Type, axis= 1)\n",
    "\n",
    "y_pred = np.argmax(best_model_3.predict(X_test_reshaped),axis = 1)\n",
    "y_test_confusion = Test.iloc[:,17395]\n",
    "\n",
    "cm = confusion_matrix(y_test_confusion,y_pred)\n",
    "plot_confusion_matrix(cm, classes = Cancer_Type,\n",
    "                        title = 'Confusion Matrix')\n",
    "\n",
    "\n"
   ]
  },
  {
   "cell_type": "markdown",
   "metadata": {},
   "source": [
    "No change at all :("
   ]
  }
 ],
 "metadata": {
  "kernelspec": {
   "display_name": "Python 3",
   "language": "python",
   "name": "python3"
  },
  "language_info": {
   "codemirror_mode": {
    "name": "ipython",
    "version": 3
   },
   "file_extension": ".py",
   "mimetype": "text/x-python",
   "name": "python",
   "nbconvert_exporter": "python",
   "pygments_lexer": "ipython3",
   "version": "3.9.0"
  }
 },
 "nbformat": 4,
 "nbformat_minor": 4
}
